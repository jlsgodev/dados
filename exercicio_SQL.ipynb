{
  "nbformat": 4,
  "nbformat_minor": 0,
  "metadata": {
    "colab": {
      "provenance": [],
      "authorship_tag": "ABX9TyOV+jLnOvimJAkhq+zVmWlP",
      "include_colab_link": true
    },
    "kernelspec": {
      "name": "python3",
      "display_name": "Python 3"
    },
    "language_info": {
      "name": "python"
    }
  },
  "cells": [
    {
      "cell_type": "markdown",
      "metadata": {
        "id": "view-in-github",
        "colab_type": "text"
      },
      "source": [
        "<a href=\"https://colab.research.google.com/github/jlsgodev/dados/blob/main/exercicio_SQL.ipynb\" target=\"_parent\"><img src=\"https://colab.research.google.com/assets/colab-badge.svg\" alt=\"Open In Colab\"/></a>"
      ]
    },
    {
      "cell_type": "markdown",
      "source": [
        "### Criação das tabelas com chaves primárias e estrangeiras"
      ],
      "metadata": {
        "id": "dU9MJXZWIQK2"
      }
    },
    {
      "cell_type": "code",
      "execution_count": null,
      "metadata": {
        "collapsed": true,
        "id": "2dmQWBAwEKKl"
      },
      "outputs": [],
      "source": [
        "-- Criação da tabela CURSO\n",
        "-- Esta tabela armazena as informações dos cursos oferecidos, como o nome e um identificador único (cod_curso).\n",
        "CREATE TABLE IF NOT EXISTS CURSO (\n",
        "  cod_curso INT AUTO_INCREMENT, -- Chave primária auto incrementada para garantir unicidade\n",
        "  nome_curso VARCHAR(60), -- Nome do curso, limitado a 60 caracteres\n",
        "  CONSTRAINT curso_PK PRIMARY KEY (cod_curso) -- Define a chave primária\n",
        ");\n",
        "\n",
        "-- Criação da tabela EQUIPAMENTO\n",
        "-- Esta tabela armazena os equipamentos disponíveis, como nome, valor, quantidade e tipo.\n",
        "CREATE TABLE IF NOT EXISTS EQUIPAMENTO (\n",
        "  cod_equipamento INT AUTO_INCREMENT, -- Chave primária auto incrementada\n",
        "  nm_equipamento VARCHAR(50), -- Nome do equipamento\n",
        "  valor DECIMAL(10,2), -- Valor do equipamento, com 2 casas decimais\n",
        "  quantidade INT, -- Quantidade disponível do equipamento\n",
        "  tipo VARCHAR(50), -- Tipo do equipamento\n",
        "  CONSTRAINT equipamento_PK PRIMARY KEY (cod_equipamento) -- Define a chave primária\n",
        ");\n",
        "\n",
        "-- Criação da tabela SALA\n",
        "-- Esta tabela contém as informações das salas disponíveis.\n",
        "CREATE TABLE IF NOT EXISTS SALA (\n",
        "  cod_sala INT AUTO_INCREMENT, -- Chave primária auto incrementada\n",
        "  nome_sala VARCHAR(50), -- Nome da sala\n",
        "  CONSTRAINT sala_PK PRIMARY KEY (cod_sala) -- Define a chave primária\n",
        ");\n",
        "\n",
        "-- Criação da tabela PROFESSOR\n",
        "-- Armazena informações dos professores, como nome, telefone, curso associado e salário.\n",
        "CREATE TABLE IF NOT EXISTS PROFESSOR (\n",
        "  cod_professor INT AUTO_INCREMENT, -- Chave primária auto incrementada\n",
        "  nm_professor VARCHAR(70), -- Nome do professor\n",
        "  telefone VARCHAR(20), -- Telefone do professor\n",
        "  cod_curso INT, -- Chave estrangeira que faz referência à tabela CURSO\n",
        "  salario DECIMAL(10,2), -- Salário do professor\n",
        "  CONSTRAINT professor_PK PRIMARY KEY (cod_professor), -- Define a chave primária\n",
        "  CONSTRAINT cursoFK FOREIGN KEY (cod_curso) REFERENCES CURSO(cod_curso) -- Define a chave estrangeira para CURSO\n",
        ");\n",
        "\n",
        "-- Criação da tabela RESERVA\n",
        "-- Armazena as reservas de equipamentos feitas pelos professores para utilização nas salas.\n",
        "CREATE TABLE IF NOT EXISTS RESERVA (\n",
        "  id_reserva INT AUTO_INCREMENT, -- Chave primária auto incrementada\n",
        "  cod_professor INT, -- Chave estrangeira que faz referência à tabela PROFESSOR\n",
        "  cod_equipamento INT, -- Chave estrangeira que faz referência à tabela EQUIPAMENTO\n",
        "  data_reserva DATE, -- Data da reserva\n",
        "  hora_inicio TIME, -- Hora de início da reserva\n",
        "  hora_fim TIME, -- Hora de término da reserva\n",
        "  cod_sala INT, -- Chave estrangeira que faz referência à tabela SALA\n",
        "  CONSTRAINT reserva_PK PRIMARY KEY (id_reserva), -- Define a chave primária\n",
        "  CONSTRAINT professorFK FOREIGN KEY (cod_professor) REFERENCES PROFESSOR(cod_professor), -- Chave estrangeira para PROFESSOR\n",
        "  CONSTRAINT equipamentoFK FOREIGN KEY (cod_equipamento) REFERENCES EQUIPAMENTO(cod_equipamento), -- Chave estrangeira para EQUIPAMENTO\n",
        "  CONSTRAINT salaFK FOREIGN KEY (cod_sala) REFERENCES SALA(cod_sala) -- Chave estrangeira para SALA\n",
        ");"
      ]
    },
    {
      "cell_type": "markdown",
      "source": [
        "### Inserção de dados nas tabelas"
      ],
      "metadata": {
        "id": "grXqKDqhIFrL"
      }
    },
    {
      "cell_type": "code",
      "source": [
        "\n",
        "\n",
        "-- Inserindo 7 cursos na tabela CURSO\n",
        "INSERT INTO CURSO (nome_curso) VALUES\n",
        "('Engenharia de Software'),\n",
        "('Matemática'),\n",
        "('Física'),\n",
        "('Química'),\n",
        "('Biologia'),\n",
        "('História'),\n",
        "('Geografia');\n",
        "\n",
        "\n",
        "\n",
        "-- Inserindo 7 equipamentos na tabela EQUIPAMENTO\n",
        "INSERT INTO EQUIPAMENTO (nm_equipamento, valor, quantidade, tipo) VALUES\n",
        "('Projetor', 1200.50, 10, 'Eletrônico'),\n",
        "('Computador', 3500.00, 15, 'Eletrônico'),\n",
        "('Impressora', 800.00, 5, 'Eletrônico'),\n",
        "('Lousa Digital', 5000.00, 2, 'Eletrônico'),\n",
        "('Datashow', 1500.00, 7, 'Eletrônico'),\n",
        "('Microfone', 200.00, 20, 'Eletrônico'),\n",
        "('Caixa de Som', 750.00, 8, 'Eletrônico');\n",
        "\n",
        "\n",
        "\n",
        "\n",
        "\n",
        "-- Inserindo 7 salas na tabela SALA\n",
        "INSERT INTO SALA (nome_sala) VALUES\n",
        "('Sala 101'),\n",
        "('Sala 102'),\n",
        "('Laboratório 1'),\n",
        "('Laboratório 2'),\n",
        "('Auditório'),\n",
        "('Sala 103'),\n",
        "('Sala 104');\n",
        "\n",
        "\n",
        "\n",
        "-- Inserindo 7 professores na tabela PROFESSOR\n",
        "-- Os códigos de curso correspondem aos cursos já inseridos na tabela CURSO\n",
        "INSERT INTO PROFESSOR (nm_professor, telefone, cod_curso, salario) VALUES\n",
        "('João Silva', '123456789', 1, 5000.00),\n",
        "('Maria Souza', '987654321', 2, 4800.00),\n",
        "('Carlos Lima', '456123789', 3, 5300.00),\n",
        "('Ana Torres', '789321654', 4, 4500.00),\n",
        "('Fernanda Alves', '654987321', 5, 5200.00),\n",
        "('Pedro Santos', '321654987', 6, 4700.00),\n",
        "('Carla Rocha', '789456123', 7, 4900.00);\n",
        "\n",
        "\n",
        "\n",
        "\n",
        "-- Inserindo 7 reservas na tabela RESERVA\n",
        "-- Os códigos de professor, equipamento e sala devem existir nas respectivas tabelas\n",
        "INSERT INTO RESERVA (cod_professor, cod_equipamento, data_reserva, hora_inicio, hora_fim, cod_sala) VALUES\n",
        "(1, 1, '2024-09-06', '08:00:00', '10:00:00', 1),\n",
        "(2, 2, '2024-09-06', '10:00:00', '12:00:00', 2),\n",
        "(3, 3, '2024-09-07', '09:00:00', '11:00:00', 3),\n",
        "(4, 4, '2024-09-08', '08:30:00', '10:30:00', 4),\n",
        "(5, 5, '2024-09-08', '11:00:00', '13:00:00', 5),\n",
        "(6, 6, '2024-09-09', '09:00:00', '11:00:00', 6),\n",
        "(7, 7, '2024-09-10', '10:00:00', '12:00:00', 7);\n",
        "\n",
        "\n",
        "\n",
        "\n"
      ],
      "metadata": {
        "id": "bN3ZAHJWFALl"
      },
      "execution_count": null,
      "outputs": []
    },
    {
      "cell_type": "markdown",
      "source": [
        "### consultas\n"
      ],
      "metadata": {
        "id": "sDk5T-5lJ-ox"
      }
    },
    {
      "cell_type": "code",
      "source": [
        "\n",
        "\n",
        "-- Listar nome, salário e curso dos professores\n",
        "SELECT\n",
        "  PROFESSOR.nm_professor AS Nome_Professor,\n",
        "  PROFESSOR.salario AS Salário,\n",
        "  CURSO.nome_curso AS Curso\n",
        "FROM\n",
        "  PROFESSOR\n",
        "JOIN\n",
        "  CURSO ON PROFESSOR.cod_curso = CURSO.cod_curso;\n",
        "\n",
        "\n",
        "\n",
        "\n",
        "-- Listar equipamentos com valor acima de 2000 reais\n",
        "SELECT\n",
        "  nm_equipamento AS Equipamento,\n",
        "  valor AS Valor\n",
        "FROM\n",
        "  EQUIPAMENTO\n",
        "WHERE\n",
        "  valor > 2000;\n",
        "\n",
        "\n",
        "\n",
        "\n",
        "-- Contar quantos professores estão associados a cada curso\n",
        "  SELECT\n",
        "  CURSO.nome_curso AS Curso,\n",
        "  COUNT(PROFESSOR.cod_professor) AS Total_Professores\n",
        "FROM\n",
        "  PROFESSOR\n",
        "JOIN\n",
        "  CURSO ON PROFESSOR.cod_curso = CURSO.cod_curso\n",
        "GROUP BY\n",
        "  CURSO.nome_curso;\n",
        "\n",
        "\n",
        "\n",
        "--Listar o nome do professor, o equipamento reservado e a sala para cada reserva realizada\n",
        "SELECT\n",
        "  PROFESSOR.nm_professor AS Nome_Professor,\n",
        "  EQUIPAMENTO.nm_equipamento AS Equipamento,\n",
        "  SALA.nome_sala AS Sala\n",
        "FROM\n",
        "  RESERVA\n",
        "JOIN\n",
        "  PROFESSOR ON RESERVA.cod_professor = PROFESSOR.cod_professor\n",
        "JOIN\n",
        "  EQUIPAMENTO ON RESERVA.cod_equipamento = EQUIPAMENTO.cod_equipamento\n",
        "JOIN\n",
        "  SALA ON RESERVA.cod_sala = SALA.cod_sala;\n",
        "\n",
        "\n",
        "\n",
        "-- Listar equipamentos com valor menor de 1000 reais\n",
        " SELECT\n",
        "  nm_equipamento AS Equipamento,\n",
        "  valor AS Valor\n",
        "FROM\n",
        "  EQUIPAMENTO\n",
        "WHERE\n",
        "  valor < 1000;"
      ],
      "metadata": {
        "id": "VYGwlonrIDdW"
      },
      "execution_count": null,
      "outputs": []
    }
  ]
}