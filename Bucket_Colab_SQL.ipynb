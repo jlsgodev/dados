{
  "nbformat": 4,
  "nbformat_minor": 0,
  "metadata": {
    "colab": {
      "provenance": [],
      "include_colab_link": true
    },
    "kernelspec": {
      "name": "python3",
      "display_name": "Python 3"
    },
    "language_info": {
      "name": "python"
    }
  },
  "cells": [
    {
      "cell_type": "markdown",
      "metadata": {
        "id": "view-in-github",
        "colab_type": "text"
      },
      "source": [
        "<a href=\"https://colab.research.google.com/github/jlsgodev/dados/blob/main/Bucket_Colab_SQL.ipynb\" target=\"_parent\"><img src=\"https://colab.research.google.com/assets/colab-badge.svg\" alt=\"Open In Colab\"/></a>"
      ]
    },
    {
      "cell_type": "code",
      "execution_count": null,
      "metadata": {
        "colab": {
          "base_uri": "https://localhost:8080/"
        },
        "id": "g3UX5VOgtxlI",
        "outputId": "2f84c649-a51c-4bbd-e6a7-46dff3a8b80f"
      },
      "outputs": [
        {
          "output_type": "stream",
          "name": "stdout",
          "text": [
            "Collecting mysql-connector-python\n",
            "  Downloading mysql_connector_python-9.0.0-cp310-cp310-manylinux_2_17_x86_64.whl.metadata (2.0 kB)\n",
            "Downloading mysql_connector_python-9.0.0-cp310-cp310-manylinux_2_17_x86_64.whl (19.3 MB)\n",
            "\u001b[2K   \u001b[90m━━━━━━━━━━━━━━━━━━━━━━━━━━━━━━━━━━━━━━━━\u001b[0m \u001b[32m19.3/19.3 MB\u001b[0m \u001b[31m38.0 MB/s\u001b[0m eta \u001b[36m0:00:00\u001b[0m\n",
            "\u001b[?25hInstalling collected packages: mysql-connector-python\n",
            "Successfully installed mysql-connector-python-9.0.0\n"
          ]
        }
      ],
      "source": [
        "!pip install mysql-connector-python\n"
      ]
    },
    {
      "cell_type": "code",
      "source": [
        "!pip install pandas sqlalchemy pymysql\n"
      ],
      "metadata": {
        "collapsed": true,
        "colab": {
          "base_uri": "https://localhost:8080/"
        },
        "id": "yMMcXEK9u4YF",
        "outputId": "9c823a6f-411f-4a98-9386-d7e03a28b521"
      },
      "execution_count": null,
      "outputs": [
        {
          "output_type": "stream",
          "name": "stdout",
          "text": [
            "Requirement already satisfied: pandas in /usr/local/lib/python3.10/dist-packages (2.1.4)\n",
            "Requirement already satisfied: sqlalchemy in /usr/local/lib/python3.10/dist-packages (2.0.34)\n",
            "Collecting pymysql\n",
            "  Downloading PyMySQL-1.1.1-py3-none-any.whl.metadata (4.4 kB)\n",
            "Requirement already satisfied: numpy<2,>=1.22.4 in /usr/local/lib/python3.10/dist-packages (from pandas) (1.26.4)\n",
            "Requirement already satisfied: python-dateutil>=2.8.2 in /usr/local/lib/python3.10/dist-packages (from pandas) (2.8.2)\n",
            "Requirement already satisfied: pytz>=2020.1 in /usr/local/lib/python3.10/dist-packages (from pandas) (2024.2)\n",
            "Requirement already satisfied: tzdata>=2022.1 in /usr/local/lib/python3.10/dist-packages (from pandas) (2024.1)\n",
            "Requirement already satisfied: typing-extensions>=4.6.0 in /usr/local/lib/python3.10/dist-packages (from sqlalchemy) (4.12.2)\n",
            "Requirement already satisfied: greenlet!=0.4.17 in /usr/local/lib/python3.10/dist-packages (from sqlalchemy) (3.1.0)\n",
            "Requirement already satisfied: six>=1.5 in /usr/local/lib/python3.10/dist-packages (from python-dateutil>=2.8.2->pandas) (1.16.0)\n",
            "Downloading PyMySQL-1.1.1-py3-none-any.whl (44 kB)\n",
            "\u001b[2K   \u001b[90m━━━━━━━━━━━━━━━━━━━━━━━━━━━━━━━━━━━━━━━━\u001b[0m \u001b[32m45.0/45.0 kB\u001b[0m \u001b[31m1.7 MB/s\u001b[0m eta \u001b[36m0:00:00\u001b[0m\n",
            "\u001b[?25hInstalling collected packages: pymysql\n",
            "Successfully installed pymysql-1.1.1\n"
          ]
        }
      ]
    },
    {
      "cell_type": "code",
      "source": [
        "import pandas as pd\n",
        "import mysql.connector\n",
        "from mysql.connector import Error\n",
        "\n"
      ],
      "metadata": {
        "id": "CiaDjPXfu9u-"
      },
      "execution_count": null,
      "outputs": []
    },
    {
      "cell_type": "code",
      "source": [
        "# Criar um DataFrame de exemplo, sem a coluna auto incrementada\n",
        "data = {\n",
        "    'nome': ['Alice', 'Bob', 'Charlie'],\n",
        "    'salario': [5000.00, 6000.00, 7000.00],\n",
        "    'numdepto': [5, 2, 3]\n",
        "}\n",
        "\n",
        "df = pd.DataFrame(data)\n",
        "print(df)\n"
      ],
      "metadata": {
        "colab": {
          "base_uri": "https://localhost:8080/"
        },
        "id": "t817JzHdvB3W",
        "outputId": "cc1849a8-a782-4057-b82d-5701a8b6f3fc"
      },
      "execution_count": null,
      "outputs": [
        {
          "output_type": "stream",
          "name": "stdout",
          "text": [
            "      nome  salario  numdepto\n",
            "0    Alice   5000.0         5\n",
            "1      Bob   6000.0         2\n",
            "2  Charlie   7000.0         3\n"
          ]
        }
      ]
    },
    {
      "cell_type": "code",
      "source": [
        "# Definir as credenciais e informações da conexão\n",
        "servidor = '35.192.98.101'\n",
        "basededados = 'EmpresaDB'\n",
        "usuario = 'adriano'\n",
        "senha = '@nN32012'\n",
        "\n",
        "# Função para conectar ao banco de dados\n",
        "def conectar_mysql(servidor, basededados, usuario, senha):\n",
        "    try:\n",
        "        conn = mysql.connector.connect(\n",
        "            host=servidor,\n",
        "            database=basededados,\n",
        "            user=usuario,\n",
        "            password=senha\n",
        "        )\n",
        "        if conn.is_connected():\n",
        "            print(\"Conexão bem-sucedida ao banco de dados MySQL\")\n",
        "            return conn\n",
        "    except Error as e:\n",
        "        print(f\"Erro ao conectar ao MySQL: {e}\")\n",
        "        return None\n",
        "\n",
        "# Estabelecer a conexão\n",
        "conexao = conectar_mysql(servidor, basededados, usuario, senha)\n"
      ],
      "metadata": {
        "colab": {
          "base_uri": "https://localhost:8080/"
        },
        "id": "vdzDW-yAvUg9",
        "outputId": "eb078e28-e434-4d8d-9398-0df6992852d8"
      },
      "execution_count": null,
      "outputs": [
        {
          "output_type": "stream",
          "name": "stdout",
          "text": [
            "Conexão bem-sucedida ao banco de dados MySQL\n"
          ]
        }
      ]
    },
    {
      "cell_type": "code",
      "source": [
        "# Função para criar a tabela, se necessário\n",
        "def criar_tabela(conexao):\n",
        "    try:\n",
        "        cursor = conexao.cursor()\n",
        "        cursor.execute(\"\"\"\n",
        "            CREATE TABLE IF NOT EXISTS EMPREGADO (\n",
        "                matricula INT AUTO_INCREMENT PRIMARY KEY,\n",
        "                nome VARCHAR(255) NOT NULL,\n",
        "                salario DECIMAL(10, 2),\n",
        "                numdepto INT\n",
        "            )\n",
        "        \"\"\")\n",
        "        conexao.commit()\n",
        "        print(\"Tabela criada ou já existente.\")\n",
        "    except Error as e:\n",
        "        print(f\"Erro ao criar tabela: {e}\")\n",
        "\n",
        "# Criar a tabela\n",
        "criar_tabela(conexao)\n"
      ],
      "metadata": {
        "colab": {
          "base_uri": "https://localhost:8080/"
        },
        "id": "Nm75i5Tzv4DA",
        "outputId": "ebccc7d4-6b0a-439b-d7b9-1a646e8ed37c"
      },
      "execution_count": null,
      "outputs": [
        {
          "output_type": "stream",
          "name": "stdout",
          "text": [
            "Tabela criada ou já existente.\n"
          ]
        }
      ]
    },
    {
      "cell_type": "code",
      "source": [
        "# Função para inserir dados do DataFrame\n",
        "def inserir_dados(df, conexao):\n",
        "    try:\n",
        "        cursor = conexao.cursor()\n",
        "        for _, row in df.iterrows():\n",
        "            cursor.execute(\"\"\"\n",
        "                INSERT INTO EMPREGADO (nome, salario, numdepto)\n",
        "                VALUES (%s, %s, %s)\n",
        "            \"\"\", (row['nome'], row['salario'], row['numdepto']))\n",
        "        conexao.commit()\n",
        "        print(\"Dados inseridos com sucesso.\")\n",
        "    except Error as e:\n",
        "        print(f\"Erro ao inserir dados: {e}\")\n",
        "\n",
        "# Inserir dados\n",
        "inserir_dados(df, conexao)\n"
      ],
      "metadata": {
        "colab": {
          "base_uri": "https://localhost:8080/"
        },
        "id": "VL-OTrIFwBRg",
        "outputId": "4974cc79-34a8-4dcf-d655-ea99ea18baf7"
      },
      "execution_count": null,
      "outputs": [
        {
          "output_type": "stream",
          "name": "stdout",
          "text": [
            "Dados inseridos com sucesso.\n"
          ]
        }
      ]
    },
    {
      "cell_type": "code",
      "source": [
        "# Função para consultar dados\n",
        "def consultar_dados(conexao):\n",
        "    try:\n",
        "        query = \"SELECT * FROM EMPREGADO\"\n",
        "        df_resultado = pd.read_sql(query, con=conexao)\n",
        "        print(df_resultado)\n",
        "    except Error as e:\n",
        "        print(f\"Erro ao consultar dados: {e}\")\n",
        "\n",
        "# Consultar e imprimir os dados\n",
        "consultar_dados(conexao)\n"
      ],
      "metadata": {
        "colab": {
          "base_uri": "https://localhost:8080/"
        },
        "id": "_y0c_azXwoH-",
        "outputId": "096092ba-b38a-4d27-a418-d10535648ada"
      },
      "execution_count": null,
      "outputs": [
        {
          "output_type": "stream",
          "name": "stdout",
          "text": [
            "    matricula               nome  salario  numdepto\n",
            "0           2        João Santos   5500.0         2\n",
            "1           3     Maria Oliveira   6000.0         2\n",
            "2           4       Carlos Souza   4000.0         3\n",
            "3           5      Fernanda Lima   4700.0         4\n",
            "4           6              Diego   7000.0         5\n",
            "5           8  Dienyffer Cardoso   8500.0         1\n",
            "6          11            ADRIANO  15000.0         5\n",
            "7          12            Alberes  10000.0         2\n",
            "8          13          Jaqueline  15000.0         3\n",
            "9          14              Helen   9000.0         4\n",
            "10         15              Alice   5000.0         5\n",
            "11         16                Bob   6000.0         2\n",
            "12         17            Charlie   7000.0         3\n"
          ]
        },
        {
          "output_type": "stream",
          "name": "stderr",
          "text": [
            "<ipython-input-14-c24e179fee37>:5: UserWarning: pandas only supports SQLAlchemy connectable (engine/connection) or database string URI or sqlite3 DBAPI2 connection. Other DBAPI2 objects are not tested. Please consider using SQLAlchemy.\n",
            "  df_resultado = pd.read_sql(query, con=conexao)\n"
          ]
        }
      ]
    },
    {
      "cell_type": "code",
      "source": [
        "# Instalar bibliotecas\n",
        "!pip install pandas google-cloud-storage mysql-connector-python\n",
        "\n",
        "# Importar bibliotecas\n",
        "import pandas as pd\n",
        "from google.cloud import storage\n",
        "import mysql.connector\n",
        "from mysql.connector import Error\n",
        "\n",
        "# Autenticar a conta do Google Cloud\n",
        "from google.colab import auth\n",
        "auth.authenticate_user()\n",
        "\n",
        "# Configurar o cliente do Google Cloud Storage\n",
        "client = storage.Client()\n",
        "bucket_name = 'minhasBases'\n",
        "file_path = '/path/to/your/local/file.csv'\n",
        "\n",
        "# Função para fazer upload de arquivos para o bucket GCS\n",
        "def upload_to_gcs(bucket_name, file_path):\n",
        "    bucket = client.get_bucket(bucket_name)\n",
        "    blob = bucket.blob('dados_brutos/arquivo.csv')\n",
        "    blob.upload_from_filename(file_path)\n",
        "    print(f'Arquivo {file_path} carregado para {bucket_name}/dados_brutos/arquivo.csv')\n",
        "\n",
        "upload_to_gcs(bucket_name, file_path)\n",
        "\n",
        "# Função para ler o arquivo CSV do GCS para um DataFrame\n",
        "def read_csv_from_gcs(bucket_name, file_name):\n",
        "    bucket = client.get_bucket(bucket_name)\n",
        "    blob = bucket.blob(file_name)\n",
        "    blob.download_to_filename(file_name)\n",
        "    df = pd.read_csv(file_name)\n",
        "    return df\n",
        "\n",
        "df = read_csv_from_gcs(bucket_name, 'dados_brutos/arquivo.csv')\n",
        "print(df.head())\n",
        "\n",
        "# Definir as credenciais e informações da conexão\n",
        "servidor = 'seuIP'\n",
        "basededados = 'seuprojeto01'\n",
        "usuario = 'seuusuario'\n",
        "senha = 'suasenha'\n",
        "\n",
        "# Função para conectar ao banco de dados\n",
        "def conectar_mysql(servidor, basededados, usuario, senha):\n",
        "    try:\n",
        "        conn = mysql.connector.connect(\n",
        "            host=servidor,\n",
        "            user=usuario,\n",
        "            password=senha\n",
        "        )\n",
        "        if conn.is_connected():\n",
        "            print(\"Conexão bem-sucedida ao MySQL\")\n",
        "            return conn\n",
        "    except Error as e:\n",
        "        print(f\"Erro ao conectar ao MySQL: {e}\")\n",
        "        return None\n",
        "\n",
        "conexao = conectar_mysql(servidor, basededados, usuario, senha)\n",
        "\n",
        "# Função para criar o banco de dados\n",
        "def criar_banco(conexao, basededados):\n",
        "    try:\n",
        "        cursor = conexao.cursor()\n",
        "        cursor.execute(f\"CREATE DATABASE IF NOT EXISTS {basededados}\")\n",
        "        conexao.commit()\n",
        "        print(f\"Banco de dados {basededados} criado ou já existente.\")\n",
        "    except Error as e:\n",
        "        print(f\"Erro ao criar banco de dados: {e}\")\n",
        "\n",
        "criar_banco(conexao, basededados)\n",
        "\n",
        "# Função para criar a tabela com base no DataFrame\n",
        "def criar_tabela(conexao, df):\n",
        "    cursor = conexao.cursor()\n",
        "    columns = ', '.join(f\"{col} VARCHAR(255)\" for col in df.columns)\n",
        "    create_table_query = f\"\"\"\n",
        "    CREATE TABLE IF NOT EXISTS tabela_dados (\n",
        "        id INT AUTO_INCREMENT PRIMARY KEY,\n",
        "        {columns}\n",
        "    )\n",
        "    \"\"\"\n",
        "    try:\n",
        "        cursor.execute(create_table_query)\n",
        "        conexao.commit()\n",
        "        print(\"Tabela criada com sucesso.\")\n",
        "    except Error as e:\n",
        "        print(f\"Erro ao criar tabela: {e}\")\n",
        "\n",
        "criar_tabela(conexao, df)\n",
        "\n",
        "# Função para inserir dados do DataFrame na tabela\n",
        "def inserir_dados(df, conexao):\n",
        "    cursor = conexao.cursor()\n",
        "    for _, row in df.iterrows():\n",
        "        values = ', '.join(f\"'{str(val)}'\" for val in row)\n",
        "        insert_query = f\"INSERT INTO tabela_dados ({', '.join(df.columns)}) VALUES ({values})\"\n",
        "        try:\n",
        "            cursor.execute(insert_query)\n",
        "        except Error as e:\n",
        "            print(f\"Erro ao inserir dados: {e}\")\n",
        "    conexao.commit()\n",
        "    print(\"Dados inseridos com sucesso.\")\n",
        "\n",
        "inserir_dados(df, conexao)\n",
        "\n",
        "# Função para consultar dados\n",
        "def consultar_dados(conexao):\n",
        "    try:\n",
        "        query = \"SELECT * FROM tabela_dados\"\n",
        "        df_resultado = pd.read_sql(query, con=conexao)\n",
        "        print(df_resultado)\n",
        "    except Error as e:\n",
        "        print(f\"Erro ao consultar dados: {e}\")\n",
        "\n",
        "consultar_dados(conexao)\n",
        "\n",
        "# Fechar a conexão\n",
        "if conexao.is_connected():\n",
        "    conexao.close()\n",
        "    print(\"Conexão fechada.\")\n"
      ],
      "metadata": {
        "id": "NqEcK2xD1e6L"
      },
      "execution_count": null,
      "outputs": []
    }
  ]
}