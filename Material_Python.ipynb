{
  "nbformat": 4,
  "nbformat_minor": 0,
  "metadata": {
    "colab": {
      "provenance": [],
      "toc_visible": true,
      "include_colab_link": true
    },
    "kernelspec": {
      "name": "python3",
      "display_name": "Python 3"
    },
    "language_info": {
      "name": "python"
    }
  },
  "cells": [
    {
      "cell_type": "markdown",
      "metadata": {
        "id": "view-in-github",
        "colab_type": "text"
      },
      "source": [
        "<a href=\"https://colab.research.google.com/github/jlsgodev/dados/blob/main/Material_Python.ipynb\" target=\"_parent\"><img src=\"https://colab.research.google.com/assets/colab-badge.svg\" alt=\"Open In Colab\"/></a>"
      ]
    },
    {
      "cell_type": "markdown",
      "source": [
        "##**Introdução ao Python**##"
      ],
      "metadata": {
        "id": "yt2vQQyJCa7c"
      }
    },
    {
      "cell_type": "markdown",
      "source": [
        "**Definição:** Python é uma linguagem de programação de alto nível, interpretada e de propósito geral, amplamente conhecida por sua simplicidade e legibilidade. Criada por Guido van Rossum e lançada pela primeira vez em 1991, Python adota uma abordagem de design que enfatiza a legibilidade do código, tornando-o fácil de entender e escrever"
      ],
      "metadata": {
        "id": "7whwsP5OU1fq"
      }
    },
    {
      "cell_type": "markdown",
      "source": [
        "**Principais Características:**\n",
        "1. **Simplicidade e Legibilidade:** A sintaxe de Python é clara e concisa, o que facilita a leitura e escrita de código. Isso a torna ideal tanto para iniciantes quanto para desenvolvedores experientes.\n",
        "\n",
        "2. **Interpretada:** Python é uma linguagem interpretada, o que significa que o código é executado linha por linha por um interpretador, sem a necessidade de compilação prévia.\n",
        "\n",
        "3. **Multiparadigma:** Python suporta múltiplos paradigmas de programação, incluindo programação orientada a objetos, imperativa, funcional e procedural.\n",
        "\n",
        "4. **Grande Biblioteca Padrão:** Python vem com uma ampla biblioteca padrão, que oferece módulos e funções para resolver uma variedade de tarefas comuns, desde manipulação de arquivos até desenvolvimento web.\n",
        "\n",
        "5. **Portabilidade:** O código Python pode ser executado em diferentes sistemas operacionais, como Windows, macOS e Linux, sem necessidade de alterações.\n",
        "\n",
        "6. **Extensibilidade**: Python pode ser estendido com módulos e bibliotecas adicionais, permitindo a integração com outras linguagens de programação, como C ou C++."
      ],
      "metadata": {
        "id": "SaUVuOBWVCen"
      }
    },
    {
      "cell_type": "markdown",
      "source": [
        "#Batismo da Linguagem#"
      ],
      "metadata": {
        "id": "-rLXhJKQDWZW"
      }
    },
    {
      "cell_type": "code",
      "source": [
        "print(\"Hello, World!\")"
      ],
      "metadata": {
        "id": "2SmbOSykDeSU"
      },
      "execution_count": null,
      "outputs": []
    },
    {
      "cell_type": "markdown",
      "source": [
        "# 1 - Variáveis#"
      ],
      "metadata": {
        "id": "BxdfTwJXEFWc"
      }
    },
    {
      "cell_type": "code",
      "source": [
        "#Inteiros\n",
        "x = 5\n",
        "y = 99\n",
        "resultado = 100\n",
        "\n",
        "print(x, type(x))\n",
        "print(y, type(y))\n",
        "print(resultado, type(gato))\n",
        "\n",
        "#Float\n",
        "pi = 3.14\n",
        "e = 2.718\n",
        "\n",
        "print(pi, type(pi))\n",
        "print(e, type(e))\n",
        "\n",
        "\n",
        "#String (texto)\n",
        "nome = \"Adriano Gomes\"\n",
        "cidade = \"Mossoró-RN\"\n",
        "print(nome, type(nome))\n",
        "\n",
        "#Booleanos (true, false)\n",
        "status = True\n",
        "situacao = False\n",
        "print(status, type(status))"
      ],
      "metadata": {
        "id": "UK_rZ2OvEYLX"
      },
      "execution_count": null,
      "outputs": []
    },
    {
      "cell_type": "markdown",
      "source": [
        "#2 - Operadores#"
      ],
      "metadata": {
        "id": "iR5OF8ooHgCX"
      }
    },
    {
      "cell_type": "markdown",
      "source": [
        "***Observações:*** - O operador ternário é uma ferramenta poderosa para simplificar expressões condicionais em Python, mas deve ser usado com cuidado para manter o código limpo e fácil de entender."
      ],
      "metadata": {
        "id": "C6dkQePWt0rS"
      }
    },
    {
      "cell_type": "markdown",
      "source": [
        "**Matemáticos**"
      ],
      "metadata": {
        "id": "Ypi2_ekAHwNA"
      }
    },
    {
      "cell_type": "code",
      "source": [
        "a = 15\n",
        "b = 2\n",
        "print(\"Soma: \", a + b)\n",
        "print(\"Subtração: \", a - b)\n",
        "print(\"Multiplicação: \", a * b)\n",
        "print(\"Divisão: \", a / b)\n",
        "print(\"Divisão Inteira: \", a // b)\n",
        "print(\"Resto da Divisão: \", a % b)\n",
        "print(\"Exponenciação: \", a ** b)"
      ],
      "metadata": {
        "id": "p2CCnYBHH0Rs"
      },
      "execution_count": null,
      "outputs": []
    },
    {
      "cell_type": "code",
      "source": [
        "# Solicitar dos dados do usuário\n",
        "a = int(input(\"Digite o valor de a: \"))\n",
        "b = int(input(\"Digite o valor de b: \"))\n",
        "c = float(input(\"Digite o valor de c: \"))\n",
        "\n",
        "print(c, type(c))\n",
        "\n",
        "# Saídas com as operações\n",
        "print(\"Soma: \", a + b)\n",
        "print(\"Subtração: \", a - b)\n",
        "print(\"Multiplicação: \", a * b)\n",
        "print(\"Divisão: \", a / b)\n",
        "print(\"Divisão Inteira: \", a // b)\n",
        "print(\"Resto da Divisão: \", a % b)\n",
        "print(\"Exponenciação: \", a ** b)"
      ],
      "metadata": {
        "id": "KbVCSW8LJpNJ"
      },
      "execution_count": null,
      "outputs": []
    },
    {
      "cell_type": "code",
      "source": [
        "cliente = \"Douglas\" # em python string. Em teoria estatística (variável qualitativa ou categórica)\n",
        "type(cliente)\n",
        "idade = 35 # em python inteiro(int). Em teoria estatística (variável quantitativa discreta)\n",
        "type(idade)\n",
        "altura = 1.58 # em python float. Em teoria estatística (variável quantitativa continua)"
      ],
      "metadata": {
        "id": "XjXXHKD9nyH8"
      },
      "execution_count": null,
      "outputs": []
    },
    {
      "cell_type": "markdown",
      "source": [
        "**Comparação**"
      ],
      "metadata": {
        "id": "sPTIBKzFp1rW"
      }
    },
    {
      "cell_type": "code",
      "source": [
        "a = 10\n",
        "b = 5\n",
        "print(a > b) # maior que\n",
        "print(a < b) # menor que\n",
        "print( a == b) # igual\n",
        "print(a != b) # diferente\n",
        "print( a >= b) # maior ou igual a\n",
        "print(a <= b) # menor ou igual a\n"
      ],
      "metadata": {
        "collapsed": true,
        "id": "z5iz8Umzp-Rf"
      },
      "execution_count": null,
      "outputs": []
    },
    {
      "cell_type": "markdown",
      "source": [
        "**Lógico**"
      ],
      "metadata": {
        "id": "snMV4rzNtL_2"
      }
    },
    {
      "cell_type": "code",
      "source": [
        "# Operador AND (e lógico) - só emite verdadeiro de ambos os casos forem TRUE\n",
        "x = 70\n",
        "y = 50\n",
        "k = 51\n",
        "\n",
        "print ((x > y) and (y >= k) and (k < x))"
      ],
      "metadata": {
        "collapsed": true,
        "id": "1yYJM4x0tRNB"
      },
      "execution_count": null,
      "outputs": []
    },
    {
      "cell_type": "code",
      "source": [
        "# Operador OR (ou lógico) - emite verdadeiro se existir ao menos um TRUE\n",
        "x = 70\n",
        "y = 50\n",
        "k = 151\n",
        "\n",
        "print ((x < y) or (y >= k) or (k > x))\n",
        "\n",
        "print (((x > y) or (y >= k)) and (k > x))"
      ],
      "metadata": {
        "collapsed": true,
        "id": "Cr0gbKTwu0Cg"
      },
      "execution_count": null,
      "outputs": []
    },
    {
      "cell_type": "code",
      "source": [
        "#Operador NOT (não lógico) - inverte o valor booleano da variável\n",
        "a = 10\n",
        "b = 5\n",
        "resultado = a < b\n",
        "\n",
        "# print(not resultado)\n",
        "\n",
        "x = True\n",
        "y = False\n",
        "k = True\n",
        "# Combinação de and, or e not\n",
        "print(not((x and y) or (not y and k)))"
      ],
      "metadata": {
        "id": "uUSUlm2rwD0Q"
      },
      "execution_count": null,
      "outputs": []
    },
    {
      "cell_type": "markdown",
      "source": [
        "**Ternário:** - O operador ternário em Python é uma forma concisa de escrever uma expressão condicional. Ele permite que você atribua um valor a uma variável com base em uma condição, tudo em uma única linha."
      ],
      "metadata": {
        "id": "KZEOgb9Rsvvi"
      }
    },
    {
      "cell_type": "markdown",
      "source": [
        "*Exemplo 01 com Atribuição Simples:*"
      ],
      "metadata": {
        "id": "aeY3ijmhs_hD"
      }
    },
    {
      "cell_type": "code",
      "source": [
        "# Exemplo: Verificar se um número é par ou ímpar\n",
        "numero = 10\n",
        "par_ou_impar = \"Par\" if numero % 2 == 0 else \"Ímpar\"\n",
        "print(par_ou_impar)  # Saída: Par\n"
      ],
      "metadata": {
        "id": "jOlIoA_gtGHu"
      },
      "execution_count": null,
      "outputs": []
    },
    {
      "cell_type": "markdown",
      "source": [
        "*Exemplo 2: Múltiplas Condições* - Embora o operador ternário seja geralmente usado para uma única condição, ele pode ser aninhado para verificar múltiplas condições, mas isso pode tornar o código menos legível"
      ],
      "metadata": {
        "id": "s9G6mISxtL_l"
      }
    },
    {
      "cell_type": "code",
      "source": [
        "# Exemplo: Determinar a categoria de um número\n",
        "numero = 5\n",
        "categoria = \"Negativo\" if numero < 0 else \"Zero\" if numero == 0 else \"Positivo\"\n",
        "print(categoria)  # Saída: Positivo\n"
      ],
      "metadata": {
        "id": "1NBVuGtAtRa8"
      },
      "execution_count": null,
      "outputs": []
    },
    {
      "cell_type": "markdown",
      "source": [
        "*Exemplo 3: Operações Simples* - Você pode usar o operador ternário para operações mais simples e diretas, como garantir que uma variável não seja negativa"
      ],
      "metadata": {
        "id": "RW0McRtHtfdw"
      }
    },
    {
      "cell_type": "code",
      "source": [
        "# Exemplo: Garantir que um valor seja não-negativo\n",
        "valor = -10\n",
        "valor_absoluto = valor if valor >= 0 else -valor\n",
        "print(valor_absoluto)  # Saída: 10\n"
      ],
      "metadata": {
        "id": "-hDn7eGutj0d"
      },
      "execution_count": null,
      "outputs": []
    },
    {
      "cell_type": "markdown",
      "source": [
        "*Comparação com a Estrutura if-else Tradicional* - O operador ternário é útil para expressões simples, mas se a lógica for mais complexa, é melhor usar a estrutura if-else tradicional para garantir a legibilidade do código."
      ],
      "metadata": {
        "id": "vaxUSUWXtprq"
      }
    },
    {
      "cell_type": "code",
      "source": [
        "# Estrutura if-else tradicional equivalente ao primeiro exemplo:\n",
        "if numero % 2 == 0:\n",
        "    par_ou_impar = \"Par\"\n",
        "else:\n",
        "    par_ou_impar = \"Ímpar\"\n",
        "print(par_ou_impar)  # Saída: Par\n"
      ],
      "metadata": {
        "id": "-1-Ylw73tto3"
      },
      "execution_count": null,
      "outputs": []
    },
    {
      "cell_type": "markdown",
      "source": [
        "#3 - Estruturas Condicionais#"
      ],
      "metadata": {
        "id": "UCgzg-lZ3UMz"
      }
    },
    {
      "cell_type": "markdown",
      "source": [
        "**Condicionais Simples**"
      ],
      "metadata": {
        "id": "6pAruCBu3ZuC"
      }
    },
    {
      "cell_type": "code",
      "source": [
        "idade = 18\n",
        "\n",
        "if (idade >= 18):\n",
        "  print(\"Você é maior de idade\")"
      ],
      "metadata": {
        "id": "dTYCo0Ta3oKa"
      },
      "execution_count": null,
      "outputs": []
    },
    {
      "cell_type": "markdown",
      "source": [
        "**Condicionais Composta**"
      ],
      "metadata": {
        "id": "yEamu63w4MBd"
      }
    },
    {
      "cell_type": "code",
      "source": [
        "idade = 15\n",
        "\n",
        "if (idade >= 18):\n",
        "  print(\"Você é maior de idade\")\n",
        "else:\n",
        "  print(\"Você é menor de idade\")"
      ],
      "metadata": {
        "id": "RlJe0J5c4f70"
      },
      "execution_count": null,
      "outputs": []
    },
    {
      "cell_type": "markdown",
      "source": [
        "**Condicionais Encadeadas**"
      ],
      "metadata": {
        "id": "FxnkX4zh5IbM"
      }
    },
    {
      "cell_type": "code",
      "source": [
        "# Criança até 12 anos\n",
        "# Adolescente de 13 a 17 anos\n",
        "# Adulto 18 a 59 anos\n",
        "# Idoso acima de 60 anos\n",
        "idade = int(input(\"Digite sua idade: \"))\n",
        "# Verificar e classificar a faixa etária\n",
        "if (idade >= 0 and idade <= 12):\n",
        "  print(\"Criança\")\n",
        "elif(idade >=13 and idade <=17):\n",
        "  print(\"Adolescente\")\n",
        "elif(idade >= 18 and idade <= 59):\n",
        "  print(\"Adulto\")\n",
        "elif (idade >= 60 and idade <= 130):\n",
        "  print(\"Idoso\")\n",
        "else:\n",
        "  print(\"Idade Inválida\")\n",
        "\n"
      ],
      "metadata": {
        "id": "Ps-qVROQ5NR1"
      },
      "execution_count": null,
      "outputs": []
    },
    {
      "cell_type": "code",
      "source": [
        "# Criança até 12 anos\n",
        "# Adolescente de 13 a 17 anos\n",
        "# Adulto 18 a 59 anos\n",
        "# Idoso acima de 60 anos\n",
        "idade = int(input(\"Digite sua idade: \"))\n",
        "# Verificar e classificar a faixa etária\n",
        "if 0 <= idade <= 12:\n",
        "  print(\"Criança\")\n",
        "elif 13 <= idade <=17:\n",
        "  print(\"Adolescente\")\n",
        "elif 18 <= idade <= 59:\n",
        "  print(\"Adulto\")\n",
        "elif 60 <= idade <= 130:\n",
        "  print(\"Idoso\")\n",
        "else:\n",
        "  print(\"Idade Inválida\")\n"
      ],
      "metadata": {
        "id": "g_oDAyWv8zA5"
      },
      "execution_count": null,
      "outputs": []
    },
    {
      "cell_type": "code",
      "source": [
        "valor = 100\n",
        "resultado = valor + (valor * 0.25)\n",
        "print(resultado)"
      ],
      "metadata": {
        "id": "KWUiCH5nC8a2"
      },
      "execution_count": null,
      "outputs": []
    },
    {
      "cell_type": "markdown",
      "source": [
        "#4 - Estrutura de Repetição#"
      ],
      "metadata": {
        "id": "oho7VsGgfE2w"
      }
    },
    {
      "cell_type": "markdown",
      "source": [
        "**For**"
      ],
      "metadata": {
        "id": "4z9ZCVzvfJnY"
      }
    },
    {
      "cell_type": "code",
      "source": [
        "# Iteração sobre listas\n",
        "        #   0         1         2       3\n",
        "frutas = [\"maçã\", \"banana\", \"cereja\", \"uva\"]\n",
        "print(frutas)\n",
        "for x in frutas:\n",
        "  print(x)\n",
        "\n"
      ],
      "metadata": {
        "id": "Fw6V7ErOfW00"
      },
      "execution_count": null,
      "outputs": []
    },
    {
      "cell_type": "code",
      "source": [
        "# Usando range\n",
        "\n",
        "for i in range(11):\n",
        "  print(i)"
      ],
      "metadata": {
        "collapsed": true,
        "id": "KkpEs2KNg45h"
      },
      "execution_count": null,
      "outputs": []
    },
    {
      "cell_type": "code",
      "source": [
        "#Iteração sobre caracteres de uma string\n",
        "mensagem = \"Hello, world!\"\n",
        "\n",
        "for caractere in mensagem:\n",
        "  print(caractere)"
      ],
      "metadata": {
        "collapsed": true,
        "id": "XFP9wJ46hk2L"
      },
      "execution_count": null,
      "outputs": []
    },
    {
      "cell_type": "markdown",
      "source": [
        "**While**"
      ],
      "metadata": {
        "id": "45Ac4ghhkyx9"
      }
    },
    {
      "cell_type": "code",
      "source": [
        "contador = 0\n",
        "while(contador < 10):\n",
        "  print(contador)\n",
        "  contador += 1\n",
        "\n",
        "\n"
      ],
      "metadata": {
        "collapsed": true,
        "id": "u7TGHBxzk_E4"
      },
      "execution_count": null,
      "outputs": []
    },
    {
      "cell_type": "code",
      "source": [
        "x = 6\n",
        "x+=3 # x = 6 + 3\n",
        "x*=5 # x = 9 * 5\n",
        "print(x)"
      ],
      "metadata": {
        "id": "RYbj8aXHmGuS"
      },
      "execution_count": null,
      "outputs": []
    },
    {
      "cell_type": "code",
      "source": [
        "senha = \"12\"\n",
        "while senha != \"12345\":\n",
        "  senha = input(\"Digite a senha correta: \")\n",
        "  if senha == \"12345\":\n",
        "    print(\"Acesso Autorizado!\")\n",
        "  else:\n",
        "    print(\"senha incorreta, tente novamente!\")"
      ],
      "metadata": {
        "collapsed": true,
        "id": "Hv1WQaLangG9"
      },
      "execution_count": null,
      "outputs": []
    },
    {
      "cell_type": "code",
      "source": [
        "senha_correta = \"1234\"\n",
        "tentativas_maximas = 3\n",
        "contar_tentativas = 0\n",
        "\n",
        "while contar_tentativas < tentativas_maximas:\n",
        "  senha = input(\"Digite a senha:\")\n",
        "  if senha == senha_correta:\n",
        "    print(\"Acesso Autorizado\")\n",
        "    break\n",
        "  else:\n",
        "    contar_tentativas +=1\n",
        "    if contar_tentativas < tentativas_maximas:\n",
        "      # print(f\"Senha incorreta, tente novamente. Você tem {tentativas_maximas - contar_tentativas} tentativas restantes.\")\n",
        "      tentativas_restante = tentativas_maximas - contar_tentativas\n",
        "      print(\"Senha incorreta, tente novamente. Você tentou {} vezes e resta apenas {} tentativas\".format(contar_tentativas, tentativas_restante))\n",
        "    else:\n",
        "      print(\"Número máximo de tentativas atingido. Acesso Bloqueado\")\n"
      ],
      "metadata": {
        "collapsed": true,
        "id": "83w637Txo89t"
      },
      "execution_count": null,
      "outputs": []
    },
    {
      "cell_type": "markdown",
      "source": [
        "#5 -Strings#"
      ],
      "metadata": {
        "id": "Jq3WfWbF6SZD"
      }
    },
    {
      "cell_type": "markdown",
      "source": [
        "**Definição:** - É um tipo de dado (fundamental) que representa uma sequência de caracteres imutável."
      ],
      "metadata": {
        "id": "HDLTOm-lGjom"
      }
    },
    {
      "cell_type": "code",
      "source": [
        "# Strings podem ser criadas usandos aspas simples ou duplas\n",
        "s1 = 'Hello, World!'\n",
        "s2 = \"Hello, World!\"\n",
        "\n",
        "# Strings de múltiplas linhas usando três aspas simples ou duplas\n",
        "s3 = ''' Essa é minha frase\n",
        "contendo múltiplas linhas\n",
        "na mesma variáveis '''\n",
        "\n",
        "s4 = \"\"\" Essa é minha frase\n",
        "contendo múltiplas linhas\n",
        "na mesma variáveis \"\"\""
      ],
      "metadata": {
        "id": "cEqCcY7m6WhJ"
      },
      "execution_count": null,
      "outputs": []
    },
    {
      "cell_type": "markdown",
      "source": [
        "##Acessando Caracteres e Substrings##"
      ],
      "metadata": {
        "id": "mB04FAzp8tIL"
      }
    },
    {
      "cell_type": "markdown",
      "source": [
        "##Métodos Comuns de Strings##"
      ],
      "metadata": {
        "id": "WDhW98o0-5x8"
      }
    },
    {
      "cell_type": "markdown",
      "source": [
        "**len()** - Retorna o comprimento da string"
      ],
      "metadata": {
        "id": "EzgZD3li-_s-"
      }
    },
    {
      "cell_type": "code",
      "source": [
        "s = \"Essa é minha frase contendo múltiplas linhas na mesma variáveis \"\n",
        "print(len(s))\n"
      ],
      "metadata": {
        "id": "RQKmRj8d_Gud"
      },
      "execution_count": null,
      "outputs": []
    },
    {
      "cell_type": "markdown",
      "source": [
        "**lower()** - Converter todos os caracteres da string para minúsculas."
      ],
      "metadata": {
        "id": "g45I0qFn_3tW"
      }
    },
    {
      "cell_type": "code",
      "source": [
        "s = \"Essa é minha frase contendo múltiplas linhas na mesma variáveis \"\n",
        "print(s.lower())"
      ],
      "metadata": {
        "collapsed": true,
        "id": "ctauGvLZAC66"
      },
      "execution_count": null,
      "outputs": []
    },
    {
      "cell_type": "markdown",
      "source": [
        "**upper()** - Converter todos os caracteres da string para maiúsculas."
      ],
      "metadata": {
        "id": "0YE4oE4aAXHL"
      }
    },
    {
      "cell_type": "code",
      "source": [
        "s = input(\"Digite uma frase: \")\n",
        "print(s)\n",
        "print(s.upper())\n",
        "print(s)\n",
        "\n",
        "s2 = input(\"Digite uma frase: \").upper()\n",
        "print(s2)"
      ],
      "metadata": {
        "collapsed": true,
        "id": "ul8w76hGAdHV"
      },
      "execution_count": null,
      "outputs": []
    },
    {
      "cell_type": "markdown",
      "source": [
        "**strip()** - Remove espaços em branco do início e do fim de uma string"
      ],
      "metadata": {
        "id": "IHjK9AqeB3h-"
      }
    },
    {
      "cell_type": "code",
      "source": [
        "s = input(\"Digite uma frase: \")\n",
        "print(len(s))\n",
        "s = s.strip()\n",
        "print(len(s))\n",
        "\n",
        "\n",
        "s2 = input(\"Digite uma frase: \").strip()\n",
        "print(len(s))\n"
      ],
      "metadata": {
        "collapsed": true,
        "id": "vwxW5codGJcn"
      },
      "execution_count": null,
      "outputs": []
    },
    {
      "cell_type": "markdown",
      "source": [
        "**split()** - Divide a string em uma lista de substrings com base em um delimitador"
      ],
      "metadata": {
        "id": "-xRVgL49IC7H"
      }
    },
    {
      "cell_type": "code",
      "source": [
        "import re\n",
        "\n",
        "s = input(\"Digite uma frase: \")\n",
        "print (s.split())\n",
        "print (s.split('-'))\n",
        "\n",
        "s.upper()\n",
        "resultado = re.split(r'[ ,]', s)\n",
        "print(resultado)\n"
      ],
      "metadata": {
        "collapsed": true,
        "id": "b0Ka2MO6IeST"
      },
      "execution_count": null,
      "outputs": []
    },
    {
      "cell_type": "markdown",
      "source": [
        "**replace()** - substitui as ocorrências de uma string por outra substring"
      ],
      "metadata": {
        "id": "okM3K2u5Kjes"
      }
    },
    {
      "cell_type": "code",
      "source": [
        "s = \"Hello, World!\"\n",
        "print(s.replace('World', 'Python'))"
      ],
      "metadata": {
        "id": "uVoOXGGGKqt0"
      },
      "execution_count": null,
      "outputs": []
    },
    {
      "cell_type": "markdown",
      "source": [
        "**join()** - Une uma lista de strings em uma única string usando delimitador"
      ],
      "metadata": {
        "id": "R7SO31QzLB63"
      }
    },
    {
      "cell_type": "code",
      "source": [
        "words = [\"Hello\", \"World\", \"Python\"]\n",
        "print (' '.join(words))\n",
        "print (', '.join(words))\n"
      ],
      "metadata": {
        "collapsed": true,
        "id": "tn8VgqL7LLlE"
      },
      "execution_count": null,
      "outputs": []
    },
    {
      "cell_type": "markdown",
      "source": [
        "**find()** - Retorna o indice da primeira ocorrência ou -1 se não encontrar"
      ],
      "metadata": {
        "id": "7swV2OubLtVv"
      }
    },
    {
      "cell_type": "code",
      "source": [
        "s = \"Hello, World!\"\n",
        "print(s.find('World'))\n",
        "print(s.find('Python'))"
      ],
      "metadata": {
        "id": "vKzc4ZHpL5EM"
      },
      "execution_count": null,
      "outputs": []
    },
    {
      "cell_type": "markdown",
      "source": [
        "**count()** - Conta o número de ocorrências de uma substring"
      ],
      "metadata": {
        "id": "X4zMT2p9MIs5"
      }
    },
    {
      "cell_type": "code",
      "source": [
        "s = \"Hello, World, Hello!\"\n",
        "print(s.count('Hello'))"
      ],
      "metadata": {
        "id": "9HrDaifoMQc9"
      },
      "execution_count": null,
      "outputs": []
    },
    {
      "cell_type": "markdown",
      "source": [
        "**startswith() e endswith()** - Verifica se a string começa ou termina com uma determina substring"
      ],
      "metadata": {
        "id": "BksUpLFSMxV0"
      }
    },
    {
      "cell_type": "code",
      "source": [
        "s = \"Hello, World, Hello!\"\n",
        "\n",
        "print(s.startswith('Hello'))\n",
        "print(s.endswith('!'))"
      ],
      "metadata": {
        "id": "c76qN-3wNFgQ"
      },
      "execution_count": null,
      "outputs": []
    },
    {
      "cell_type": "markdown",
      "source": [
        "**Técnica Slicing** - fatiamento de uma string"
      ],
      "metadata": {
        "id": "G1InZJZ5kPr3"
      }
    },
    {
      "cell_type": "code",
      "source": [
        "#sequencia[inicio:fim:passo]\n",
        "#inicio: índice onde o fatiamento começa (inclusivo). Se omitido, o padrão é o início da sequência.\n",
        "#fim: índice onde o fatiamento termina (exclusivo). Se omitido, o padrão é o final da sequência.\n",
        "#passo: tamanho do passo ou incremento entre índices. Se omitido, o padrão é 1.\n",
        "s = input(\"Digite uma frase: \")\n",
        "print(s)\n",
        "\n",
        "#Inverter uma string usando slicing\n",
        "x = s[::-1] # O slicing [::-1] começa do início até o final da sequência, mas com um passo de -1, o que inverte a string.\n",
        "# y = s[0:5:2]\n",
        "print(x)"
      ],
      "metadata": {
        "collapsed": true,
        "id": "mJocp-PwkiEu"
      },
      "execution_count": null,
      "outputs": []
    },
    {
      "cell_type": "markdown",
      "source": [
        "**capitalize()** - Converte o primeiro caractere da string para maiúscula."
      ],
      "metadata": {
        "id": "_0yowQiEPGsX"
      }
    },
    {
      "cell_type": "code",
      "source": [
        "s = \"hello, world!\"\n",
        "print(s.capitalize())"
      ],
      "metadata": {
        "id": "UB-j9LZ_PSY3"
      },
      "execution_count": null,
      "outputs": []
    },
    {
      "cell_type": "markdown",
      "source": [
        "**title()** - Converte a primeira letra de cada palavra para maiúscula."
      ],
      "metadata": {
        "id": "pufRqWdMP3n8"
      }
    },
    {
      "cell_type": "code",
      "source": [
        "s = \"hello, world!\"\n",
        "print(s.title())\n",
        "\n",
        "s2 = \"hello, world!\"\n",
        "resposta = ' '.join(word.capitalize() for word in s2.split())\n",
        "print(resposta)\n",
        "\n",
        "\n",
        "def capitalizar(algo):\n",
        "  words = algo.split() # words = [\"hello\",\"world\"]\n",
        "                                        #x = world\n",
        "  capitalizar_palavras = [x.capitalize() for x in words]\n",
        "  return ' '.join(capitalizar_palavras)\n",
        "\n",
        "frase = input(\"Digite sua frase: \")\n",
        "print(capitalizar(frase))\n",
        "\n"
      ],
      "metadata": {
        "collapsed": true,
        "id": "Hz28wmYeQGu5"
      },
      "execution_count": null,
      "outputs": []
    },
    {
      "cell_type": "markdown",
      "source": [
        "**casefold()** - É uma maneira mais agressiva que o lower() de converter uma string em minúscula."
      ],
      "metadata": {
        "id": "Xa2cc64JUER6"
      }
    },
    {
      "cell_type": "code",
      "source": [
        "# s = \"ß\"\n",
        "# print(s.lower())\n",
        "# print(s.casefold())\n",
        "\n",
        "s1 = \"Große\"\n",
        "s2 = \"Grosse\"\n",
        "\n",
        "print(s1.lower() == s2.lower())\n",
        "print(s1.casefold() == s2.casefold())\n"
      ],
      "metadata": {
        "id": "YDKUEzHPUdSK"
      },
      "execution_count": null,
      "outputs": []
    },
    {
      "cell_type": "markdown",
      "source": [
        "**center()** - Centraliza a string, preenchendo com caracteres espeficificos, padrão espaço"
      ],
      "metadata": {
        "id": "cOr1uNK8W7cC"
      }
    },
    {
      "cell_type": "code",
      "source": [
        "s = \"hello\"\n",
        "print(s)\n",
        "print(s.center(10))\n",
        "print(s.center(11, '*'))"
      ],
      "metadata": {
        "collapsed": true,
        "id": "RzqZHPDlXHTk"
      },
      "execution_count": null,
      "outputs": []
    },
    {
      "cell_type": "markdown",
      "source": [
        "**expandtabs()** - Expande tabulações ('\\t')"
      ],
      "metadata": {
        "id": "6RbC3bXkXvpX"
      }
    },
    {
      "cell_type": "code",
      "source": [
        "s = \"hello\\tworld\"\n",
        "\n",
        "print(s.expandtabs(1))"
      ],
      "metadata": {
        "id": "F6tCTUrgX4uw"
      },
      "execution_count": null,
      "outputs": []
    },
    {
      "cell_type": "markdown",
      "source": [
        "**isalnum()** - se todos os caracteres sao alfanuméricos"
      ],
      "metadata": {
        "id": "1PTyOLQOYiHK"
      }
    },
    {
      "cell_type": "code",
      "source": [
        "s = \"hello123\"\n",
        "print(s.isalnum())"
      ],
      "metadata": {
        "id": "wPnloWpKYrFt"
      },
      "execution_count": null,
      "outputs": []
    },
    {
      "cell_type": "markdown",
      "source": [
        "**isalpha()** - se todos os caracteres sao letras"
      ],
      "metadata": {
        "id": "w7ypvUSjY8CZ"
      }
    },
    {
      "cell_type": "code",
      "source": [
        "s = \"hello1\"\n",
        "print(s.isalpha())"
      ],
      "metadata": {
        "id": "4ckW7x2PZBel"
      },
      "execution_count": null,
      "outputs": []
    },
    {
      "cell_type": "markdown",
      "source": [
        "**isdigit()** - se todos os caracteres sao digitos"
      ],
      "metadata": {
        "id": "VYRL94ejZOlU"
      }
    },
    {
      "cell_type": "code",
      "source": [
        "s = \"123456\"\n",
        "print(s.isdigit())"
      ],
      "metadata": {
        "id": "U_hMSm2cZTlG"
      },
      "execution_count": null,
      "outputs": []
    },
    {
      "cell_type": "markdown",
      "source": [
        "**islower()** - se todos são minúsculas\n",
        "**isupper()** - se todos são maiúsculas"
      ],
      "metadata": {
        "id": "G-Jht1rLZdPu"
      }
    },
    {
      "cell_type": "markdown",
      "source": [
        "**isspace()** - se todos os caracteres são espaços em branco"
      ],
      "metadata": {
        "id": "11pHyoAbZsKv"
      }
    },
    {
      "cell_type": "code",
      "source": [
        "s = \"       \"\n",
        "print(s.isspace())"
      ],
      "metadata": {
        "id": "0EVuhpuvZyQE"
      },
      "execution_count": null,
      "outputs": []
    },
    {
      "cell_type": "markdown",
      "source": [
        "##Formatação de Strings##"
      ],
      "metadata": {
        "id": "PESGr7Jx84_8"
      }
    },
    {
      "cell_type": "markdown",
      "source": [
        "**format()** - Substitui os marcadores {} de posição na string por valores especificados."
      ],
      "metadata": {
        "id": "lmC98eNT9KsC"
      }
    },
    {
      "cell_type": "code",
      "source": [
        "nome = \"Helen\"\n",
        "idade = 30\n",
        "mensagem = \"Hello, {}. You are {} years old.\".format(nome, idade)\n",
        "print(mensagem)"
      ],
      "metadata": {
        "id": "1feuZ11P9Ysd"
      },
      "execution_count": null,
      "outputs": []
    },
    {
      "cell_type": "markdown",
      "source": [
        "**f-strings** - Funciona a partir do Python 3.6. Permite inserir expressões dentro da string."
      ],
      "metadata": {
        "id": "JCR9GEi--W01"
      }
    },
    {
      "cell_type": "code",
      "source": [
        "nome = \"Helen\"\n",
        "idade = 30\n",
        "\n",
        "mensagem = f\"Hello, {nome}. You are {idade} years old.\"\n",
        "print(mensagem)\n",
        "\n",
        "print(f\"Hello, {nome}. You are {idade} years old.\")"
      ],
      "metadata": {
        "id": "9tWgmRpV-mgY"
      },
      "execution_count": null,
      "outputs": []
    },
    {
      "cell_type": "code",
      "source": [
        "s = \"Hello, World!\"\n",
        "\n",
        "#Acessar um caractere\n",
        "print(s[0])\n",
        "print(s[-1])\n",
        "\n",
        "#Acessar uma substring\n",
        "print(s[0:5]) # acessa a substring do início até o índice 5 (excluindo o 5).\n",
        "print(s[7:])  # acessa a substring do índice 7 até o final da string.\n",
        "print(s[:5])  # acessa a substring do início até o índice 5 (excluindo o 5)."
      ],
      "metadata": {
        "id": "zsEMm_QR8422"
      },
      "execution_count": null,
      "outputs": []
    },
    {
      "cell_type": "markdown",
      "source": [
        "**format()** - Substitui os marcadores {} de posição na string por valores especificados."
      ],
      "metadata": {
        "id": "P168BsZsHoim"
      }
    },
    {
      "cell_type": "markdown",
      "source": [
        "#6 - Listas#"
      ],
      "metadata": {
        "id": "dM5YPgFiV5yJ"
      }
    },
    {
      "cell_type": "markdown",
      "source": [
        "**Definição** - são coleções ordenadas e mutáveis que permitem armazenar múltiplos itens em uma única variável."
      ],
      "metadata": {
        "id": "9eKZGroZFb8u"
      }
    },
    {
      "cell_type": "code",
      "source": [
        "#Definir uma lista\n",
        "numeros = [1,2,3,4,5,6]\n",
        "print(numeros)\n",
        "\n",
        "# Acessando elementos\n",
        "print(numeros[2])\n",
        "\n",
        "# Modificando elementos da lista\n",
        "numeros[2] = 100\n",
        "# numeros[2] = int(input(\"Digite um numero: \"))\n",
        "print(numeros)\n",
        "\n",
        "# Adicionando novos elementos a lista\n",
        "numeros.append(1500)\n",
        "print(numeros)\n",
        "\n",
        "# Removendo elementos da lista\n",
        "numeros.remove(5)\n",
        "print(numeros)\n",
        "\n",
        "# ORDENAR ELEMENTOS DE UMA LISTA (método sort())\n",
        "numeros.sort()\n",
        "print(numeros)\n",
        "\n",
        "# ORDEM REVERSA\n",
        "numeros.sort(reverse=True)\n",
        "print(numeros)\n",
        "\n",
        "# ORDENAR ELEMENTOS DE UMA LISTA (função sorted())\n",
        "numeros_ordenados = sorted(numeros)\n",
        "numeros_ordenados_decrescente = sorted(numeros, reverse=True)\n",
        "print(\"Lista Ordenada: \", numeros_ordenados)\n",
        "print(\"Lista Ordenada Decrescente: \", numeros_ordenados_decrescente)\n",
        "print(\"Lista Original: \", numeros)\n",
        "\n",
        "# Adicionando elemento em qualquer posição desejada (método insert())\n",
        "numeros.insert(2, 9999)\n",
        "print(numeros)\n",
        "# Adicionando no inicio da lista\n",
        "numeros.insert(0, 33)\n",
        "print(numeros)\n",
        "\n",
        "# Adicionando no final da lista\n",
        "numeros.insert(len(numeros), 500)\n",
        "numeros.sort() # ordenando os numeros\n",
        "print(numeros)\n",
        "\n",
        "dobro = [algo * 2 for algo in numeros]\n",
        "print(dobro)\n",
        "# outra forma de usar o for\n",
        "resposta = []\n",
        "for x in numeros:\n",
        "  resposta.append(x * 2)\n",
        "\n",
        "print(resposta)\n",
        "\n",
        "# somar os elementos de uma lista (função sum())\n",
        "total = sum(numeros)\n",
        "print(total)\n",
        "\n",
        "# somar usando o for\n",
        "total2 = 0\n",
        "for num in numeros:\n",
        "  total2 += num\n",
        "print(total2)\n",
        "\n",
        "# Menor valor (min())\n",
        "print(min(numeros))\n",
        "\n",
        "# Maior valor (max())\n",
        "print(max(numeros))\n",
        "\n",
        "# Media\n",
        "media = sum(numeros) /len(numeros)\n",
        "media_arredondada = round(media,2)\n",
        "print(\"Media normal: \", media)\n",
        "print(\"Média Arredondada: \", media_arredondada)\n",
        "print(f\" {media:.2f}\")\n",
        "\n",
        "\n"
      ],
      "metadata": {
        "colab": {
          "base_uri": "https://localhost:8080/"
        },
        "collapsed": true,
        "id": "few-jPhwFqfS",
        "outputId": "16d8b1a0-0cc2-42e3-b78e-f48c23f4a87b"
      },
      "execution_count": null,
      "outputs": [
        {
          "output_type": "stream",
          "name": "stdout",
          "text": [
            "[1, 2, 3, 4, 5, 6]\n",
            "3\n",
            "[1, 2, 100, 4, 5, 6]\n",
            "[1, 2, 100, 4, 5, 6, 1500]\n",
            "[1, 2, 100, 4, 6, 1500]\n",
            "[1, 2, 4, 6, 100, 1500]\n",
            "[1500, 100, 6, 4, 2, 1]\n",
            "Lista Ordenada:  [1, 2, 4, 6, 100, 1500]\n",
            "Lista Ordenada Decrescente:  [1500, 100, 6, 4, 2, 1]\n",
            "Lista Original:  [1500, 100, 6, 4, 2, 1]\n",
            "[1500, 100, 9999, 6, 4, 2, 1]\n",
            "[33, 1500, 100, 9999, 6, 4, 2, 1]\n",
            "[1, 2, 4, 6, 33, 100, 500, 1500, 9999]\n",
            "[2, 4, 8, 12, 66, 200, 1000, 3000, 19998]\n",
            "[2, 4, 8, 12, 66, 200, 1000, 3000, 19998]\n",
            "12145\n",
            "12145\n",
            "1\n",
            "9999\n",
            "Media normal:  1349.4444444444443\n",
            "Média Arredondada:  1349.44\n",
            " 1349.44\n"
          ]
        }
      ]
    },
    {
      "cell_type": "code",
      "source": [
        "#Objetos Imutáveis - são aqueles cujo conteúdo ou estado não podem ser modificados.\n",
        "texto = \"Hello\"\n",
        "print(texto[0])\n",
        "# texto[0] = \"X\" --- não é permitido\n",
        "\n",
        "# Objetos Mutáveis - são aqueles cujo conteúdo ou estado podem ser modificados.\n",
        "\n",
        "\n"
      ],
      "metadata": {
        "colab": {
          "base_uri": "https://localhost:8080/",
          "height": 193
        },
        "id": "VaJWLRY2J7f0",
        "outputId": "cf7a93b3-570e-472d-fe63-9750dd192add"
      },
      "execution_count": null,
      "outputs": [
        {
          "output_type": "stream",
          "name": "stdout",
          "text": [
            "H\n"
          ]
        },
        {
          "output_type": "error",
          "ename": "TypeError",
          "evalue": "'str' object does not support item assignment",
          "traceback": [
            "\u001b[0;31m---------------------------------------------------------------------------\u001b[0m",
            "\u001b[0;31mTypeError\u001b[0m                                 Traceback (most recent call last)",
            "\u001b[0;32m<ipython-input-13-957f41f7dff1>\u001b[0m in \u001b[0;36m<cell line: 4>\u001b[0;34m()\u001b[0m\n\u001b[1;32m      2\u001b[0m \u001b[0mtexto\u001b[0m \u001b[0;34m=\u001b[0m \u001b[0;34m\"Hello\"\u001b[0m\u001b[0;34m\u001b[0m\u001b[0;34m\u001b[0m\u001b[0m\n\u001b[1;32m      3\u001b[0m \u001b[0mprint\u001b[0m\u001b[0;34m(\u001b[0m\u001b[0mtexto\u001b[0m\u001b[0;34m[\u001b[0m\u001b[0;36m0\u001b[0m\u001b[0;34m]\u001b[0m\u001b[0;34m)\u001b[0m\u001b[0;34m\u001b[0m\u001b[0;34m\u001b[0m\u001b[0m\n\u001b[0;32m----> 4\u001b[0;31m \u001b[0mtexto\u001b[0m\u001b[0;34m[\u001b[0m\u001b[0;36m0\u001b[0m\u001b[0;34m]\u001b[0m \u001b[0;34m=\u001b[0m \u001b[0;34m\"X\"\u001b[0m\u001b[0;34m\u001b[0m\u001b[0;34m\u001b[0m\u001b[0m\n\u001b[0m",
            "\u001b[0;31mTypeError\u001b[0m: 'str' object does not support item assignment"
          ]
        }
      ]
    },
    {
      "cell_type": "markdown",
      "source": [
        "#7 - Dicionários#"
      ],
      "metadata": {
        "id": "VuyJbosTQhad"
      }
    },
    {
      "cell_type": "code",
      "source": [
        "nome = \"Helen\"\n",
        "idade = 30\n",
        "mensagem = \"Hello, {}. You are {} years old.\".format(nome, idade)\n",
        "print(mensagem)"
      ],
      "metadata": {
        "id": "8LUkcBhyHoin"
      },
      "execution_count": null,
      "outputs": []
    },
    {
      "cell_type": "markdown",
      "source": [
        "**f-strings** - Funciona a partir do Python 3.6. Permite inserir expressões dentro da string."
      ],
      "metadata": {
        "id": "Gu_3_a_VHoio"
      }
    },
    {
      "cell_type": "code",
      "source": [
        "nome = \"Helen\"\n",
        "idade = 30\n",
        "\n",
        "mensagem = f\"Hello, {nome}. You are {idade} years old.\"\n",
        "print(mensagem)\n",
        "\n",
        "print(f\"Hello, {nome}. You are {idade} years old.\")"
      ],
      "metadata": {
        "colab": {
          "base_uri": "https://localhost:8080/"
        },
        "outputId": "4eecfc2e-a035-44de-851d-2f2e6b6fda1f",
        "id": "OA0GiV8MHoio"
      },
      "execution_count": null,
      "outputs": [
        {
          "output_type": "stream",
          "name": "stdout",
          "text": [
            "Hello, Helen. You are 30 years old.\n",
            "Hello, Helen. You are 30 years old.\n"
          ]
        }
      ]
    },
    {
      "cell_type": "code",
      "source": [
        "s = \"Hello, World!\"\n",
        "\n",
        "#Acessar um caractere\n",
        "print(s[0])\n",
        "print(s[-1])\n",
        "\n",
        "#Acessar uma substring\n",
        "print(s[0:5]) # acessa a substring do início até o índice 5 (excluindo o 5).\n",
        "print(s[7:])  # acessa a substring do índice 7 até o final da string.\n",
        "print(s[:5])  # acessa a substring do início até o índice 5 (excluindo o 5)."
      ],
      "metadata": {
        "id": "cXf4xRnPHoip"
      },
      "execution_count": null,
      "outputs": []
    },
    {
      "cell_type": "markdown",
      "source": [
        "#8 - Tuplas#"
      ],
      "metadata": {
        "id": "ZbW0GMvBE4Jv"
      }
    },
    {
      "cell_type": "code",
      "source": [
        "#Criando um set vazio\n",
        "meu_set = set()\n",
        "\n",
        "# Criando um set com elementos\n",
        "meu_set = {1,2,3,4,5,6}\n",
        "print(meu_set)\n",
        "\n",
        "#Criando um set com elementos duplicados\n",
        "meu_set = {1,2,3,4,5,6, 1,2,3,4,5,5,5,5,9,10}\n",
        "print(meu_set)\n",
        "\n",
        "#Adicionar elementos\n",
        "meu_set.add(100)\n",
        "meu_set.add(11)\n",
        "meu_set.add(15)\n",
        "print(meu_set)\n",
        "\n",
        "#Removendo elementos\n",
        "meu_set.remove(4) # Levanta um erro se o elemento não existir\n",
        "meu_set.discard(999) # Não Levanta  erro se o elemento não existir\n",
        "print(meu_set)\n",
        "\n",
        "#União de Sets\n",
        "set1 = {20,21,22}\n",
        "uniaoSet = meu_set | set1\n",
        "uniaoSet2 = meu_set.union(set1)\n",
        "print(uniaoSet)\n",
        "\n",
        "#Interseção de Sets\n",
        "intersecaoSet = set1 & uniaoSet\n",
        "intersecaoSet2 = set1.intersection(uniaoSet)\n",
        "print(intersecaoSet)\n",
        "\n",
        "#Diferenças de Sets\n",
        "diferencaSet = set1 - uniaoSet\n",
        "diferencaSet = uniaoSet.difference(set1)\n",
        "print(diferencaSet)\n",
        "\n",
        "#Diferenças simétricas de Sets\n",
        "diferencaSet2 = set1 ^ uniaoSet\n",
        "diferencaSet2 = uniaoSet.symmetric_difference(set1)\n",
        "diferencaSet3 = set1.symmetric_difference(uniaoSet)\n",
        "print(diferencaSet2)\n",
        "print(diferencaSet3)\n",
        "\n",
        "set1.clear()\n"
      ],
      "metadata": {
        "id": "d5QL6PI8X8a9"
      },
      "execution_count": null,
      "outputs": []
    },
    {
      "cell_type": "markdown",
      "source": [
        "**Definição:** - São semelhantes às lista, mas com uma diferença CRUCIAL: *SÃO IMUTÁVEIS*."
      ],
      "metadata": {
        "id": "ef5-hvGFE88C"
      }
    },
    {
      "cell_type": "code",
      "source": [
        "#Criação de Tuplas\n",
        "tupla = (1,2,3,4,5)\n",
        "print(tupla)\n",
        "\n",
        "#Tuplas sem Parênteses\n",
        "tupla2 = 1,2,3,4,5\n",
        "print(tupla2)\n",
        "\n",
        "#Acessando Elementos\n",
        "print(tupla2[3])\n",
        "\n",
        "#Tuplas aninhadas\n",
        "tupla3 = (\"Helen\", (1,2,5,9), \"Silas\")\n",
        "tuplaN = tupla3[1]\n",
        "tuplaT = tupla3[0] + \", \" + tupla3[2]\n",
        "print(tupla3)\n",
        "print(tuplaN)\n",
        "print(tuplaT)\n",
        "print(tupla3[1][2])\n",
        "\n",
        "# tupla3[0] = 99 --- erro por ser imutavel\n",
        "\n",
        "\n",
        "# Desempacotamento de Tuplas\n",
        "a, b, c = tupla3\n",
        "x,y,z,k = b\n",
        "\n",
        "print(a)\n",
        "print(b)\n",
        "print(c)\n",
        "print(k)\n"
      ],
      "metadata": {
        "collapsed": true,
        "id": "GgOdd19YFOnk"
      },
      "execution_count": null,
      "outputs": []
    },
    {
      "cell_type": "markdown",
      "source": [
        "**Operações com Tuplas**"
      ],
      "metadata": {
        "id": "39oVGzvoNzqM"
      }
    },
    {
      "cell_type": "code",
      "source": [
        "#Concatenação\n",
        "tupla1 = (1,2,3)\n",
        "tupla2 = (4,5)\n",
        "tupla3 = tupla1 + tupla2\n",
        "print(tupla3)\n",
        "\n",
        "#Repetição\n",
        "tupla_duplicada = tupla3 * 2\n",
        "print(tupla_duplicada)\n",
        "\n",
        "#Fatiamento\n",
        "print(tupla_duplicada[1:4])\n",
        "\n",
        "#Verificar a existência\n",
        "print(3 in tupla_duplicada)\n",
        "\n",
        "#Verificar o comprimento\n",
        "print(len(tupla_duplicada))\n",
        "\n",
        "#Contagem de elementos\n",
        "tuplaAnimais = (\"gato\", \"cachorro\", \"gato\", \"Gato\")\n",
        "print(tupla_duplicada.count(4))\n",
        "print(tuplaAnimais.count(\"gato\") + tuplaAnimais.count(\"Gato\"))\n",
        "\n",
        "#Transformar ou criar uma cópia de uma tupla para uma lista\n",
        "listaAnimais = list(tuplaAnimais)\n",
        "print(listaAnimais)\n",
        "\n",
        "#Converter a tupla em um dicionário com a contagem de cada animal\n",
        "dicionarioAnimais = {\n",
        "    x: tuplaAnimais.count(x) for x in tuplaAnimais\n",
        "}\n",
        "print(dicionarioAnimais)\n",
        "\n",
        "# Criando um dicionario com a chave \"TipoAnimal\"\n",
        "dicionarioAnimais2 = {\"tipoAnimal\": tuplaAnimais}\n",
        "print(dicionarioAnimais2)\n",
        "\n",
        "#Outra forma\n",
        "dicionarioAnimais3 = {\"tipoAnimal\": list(tuplaAnimais)}\n",
        "print(dicionarioAnimais3)\n",
        "\n",
        "\n",
        "#Solicitando dois inputs ao usuário\n",
        "animal1 = input(\"Digite o primeiro animal: \")\n",
        "animal2 = input(\"Digite o segundo animal: \")\n",
        "\n",
        "#Criando uma tupla com os inputs\n",
        "animaisT = (animal1, animal2)\n",
        "\n",
        "#Convertendo\n",
        "dicionarioSaida = {\"tipoAnimal\": list(animaisT)}\n",
        "print(dicionarioSaida)"
      ],
      "metadata": {
        "collapsed": true,
        "id": "7A9tU_6cN4mD"
      },
      "execution_count": null,
      "outputs": []
    },
    {
      "cell_type": "markdown",
      "source": [
        "#9 - Sets#"
      ],
      "metadata": {
        "id": "5hQyEDe0VxMt"
      }
    },
    {
      "cell_type": "markdown",
      "source": [
        "**Definição:** - Conjuntos - estrutura de dados que armazenam elementos únicos e desordenados."
      ],
      "metadata": {
        "id": "NTl7zHdLV19l"
      }
    },
    {
      "cell_type": "code",
      "source": [
        "#Criando um set vazio\n",
        "meu_set = set()\n",
        "\n",
        "# Criando um set com elementos\n",
        "meu_set = {1,2,3,4,5,6}\n",
        "print(meu_set)\n",
        "\n",
        "#Criando um set com elementos duplicados\n",
        "meu_set = {1,2,3,4,5,6, 1,2,3,4,5,5,5,5,9,10}\n",
        "print(meu_set)\n",
        "\n",
        "#Adicionar elementos\n",
        "meu_set.add(100)\n",
        "meu_set.add(11)\n",
        "meu_set.add(15)\n",
        "print(meu_set)\n",
        "\n",
        "#Removendo elementos\n",
        "meu_set.remove(4) # Levanta um erro se o elemento não existir\n",
        "meu_set.discard(999) # Não Levanta  erro se o elemento não existir\n",
        "print(meu_set)\n",
        "\n",
        "#União de Sets\n",
        "set1 = {20,21,22}\n",
        "uniaoSet = meu_set | set1\n",
        "uniaoSet2 = meu_set.union(set1)\n",
        "print(uniaoSet)\n",
        "\n",
        "#Interseção de Sets\n",
        "intersecaoSet = set1 & uniaoSet\n",
        "intersecaoSet2 = set1.intersection(uniaoSet)\n",
        "print(intersecaoSet)\n",
        "\n",
        "#Diferenças de Sets\n",
        "diferencaSet = set1 - uniaoSet\n",
        "diferencaSet = uniaoSet.difference(set1)\n",
        "print(diferencaSet)\n",
        "\n",
        "#Diferenças simétricas de Sets\n",
        "diferencaSet2 = set1 ^ uniaoSet\n",
        "diferencaSet2 = uniaoSet.symmetric_difference(set1)\n",
        "diferencaSet3 = set1.symmetric_difference(uniaoSet)\n",
        "print(diferencaSet2)\n",
        "print(diferencaSet3)\n",
        "\n",
        "set1.clear()\n"
      ],
      "metadata": {
        "id": "DdhnSXbOLOfu"
      },
      "execution_count": null,
      "outputs": []
    },
    {
      "cell_type": "markdown",
      "source": [
        "#10 - Funções em Python#"
      ],
      "metadata": {
        "id": "4zu_ThXNjRug"
      }
    },
    {
      "cell_type": "markdown",
      "source": [
        "**Definição:** - um bloco de código que realiza uma tarefa específica e que pode ser reutilizada em diferentes partes do programa."
      ],
      "metadata": {
        "id": "GHw8StZejWkb"
      }
    },
    {
      "cell_type": "markdown",
      "source": [
        "**Estrutura básica de uma função:**"
      ],
      "metadata": {
        "id": "TwJ_ZfbEjxOo"
      }
    },
    {
      "cell_type": "code",
      "source": [
        "# def nome_da_funcao(parametros_opcionais):\n",
        "#   #Bloco de código da função\n",
        "#   return opcional_valor"
      ],
      "metadata": {
        "id": "wiZSTSQCj16q"
      },
      "execution_count": null,
      "outputs": []
    },
    {
      "cell_type": "markdown",
      "source": [
        "**Funções SEM PARÂMETROS** - não recebem nenhum valor de entrada. Executam uma tarefa e, opcionalmente, podem retornar algum valor.*texto em itálico*"
      ],
      "metadata": {
        "id": "HMFs8cTGkI3X"
      }
    },
    {
      "cell_type": "code",
      "source": [
        "#Criando uma função sem parâmetro\n",
        "def saudacao():\n",
        "  print(\"Hello, World!\")\n",
        "\n",
        "#Chamando a função (uso)\n",
        "saudacao()\n",
        "\n",
        "#Outra função\n",
        "def obter_dia():\n",
        "  return \"Segunda-Feira\"\n",
        "\n",
        "#Chamando função\n",
        "print(obter_dia())\n",
        "\n",
        "#Outra forma de chamar a função\n",
        "dia = obter_dia()\n",
        "print(f\"Hoje é {dia}\")"
      ],
      "metadata": {
        "id": "XACrFX1xkXoF"
      },
      "execution_count": null,
      "outputs": []
    },
    {
      "cell_type": "markdown",
      "source": [
        "**Observações - Uso do print ou do return:** -"
      ],
      "metadata": {
        "id": "SvgvcAQAmHAP"
      }
    },
    {
      "cell_type": "markdown",
      "source": [
        "***print:*** - usado para exibir uma mensagem ou algum valor de uma variável na saída PADRÃO. Usamos quando queremos mostrar algo na tela.\n"
      ],
      "metadata": {
        "id": "LW32oL4SmSxL"
      }
    },
    {
      "cell_type": "code",
      "source": [
        "#Criando uma função sem parâmetro\n",
        "def saudacao():\n",
        "  print(\"Hello, World!\")\n",
        "\n",
        "#Chamando a função (uso)\n",
        "saudacao()\n"
      ],
      "metadata": {
        "id": "uBSS00WXmrh6"
      },
      "execution_count": null,
      "outputs": []
    },
    {
      "cell_type": "markdown",
      "source": [
        "***return:*** - usado para enviar um valor de volta ao CHAMADOR DA FUNÇÃO. Ele encerra a execução da função e passa o controle(e o valor) de volta para o código que chamou a função. Usamos quando precisa-se que a função devolva um valor que pode ser utilizado posteriormente em outra parte do programa."
      ],
      "metadata": {
        "id": "Cr2jI5Nvmytc"
      }
    },
    {
      "cell_type": "code",
      "source": [
        "def calcular_area(largura, altura):\n",
        "  area = largura * altura\n",
        "  return area\n",
        "\n",
        "print(calcular_area(5,4))\n",
        "\n",
        "#Uso combinado\n",
        "def calcular_area(largura, altura):\n",
        "  area = largura * altura\n",
        "  print(f\"A área é {area} metros quadrados\")\n",
        "  return area\n",
        "x = 10\n",
        "y = 20\n",
        "print(calcular_area(x,y))\n",
        "calcular_area(x,y)\n"
      ],
      "metadata": {
        "id": "fSH87QkenXFW"
      },
      "execution_count": null,
      "outputs": []
    },
    {
      "cell_type": "code",
      "source": [
        "# def calcular_area(largura=0, altura=0):\n",
        "#   area = largura * altura\n",
        "#   return area\n",
        "\n",
        "# print(calcular_area())\n",
        "\n",
        "# outro exemplo\n",
        "def calcular_area2(largura, altura):\n",
        "  x = largura\n",
        "  y = altura\n",
        "  area = x * y\n",
        "  return  area\n",
        "\n",
        "print(calcular_area2(5,7))"
      ],
      "metadata": {
        "id": "L8QaFe3epyf5"
      },
      "execution_count": null,
      "outputs": []
    },
    {
      "cell_type": "markdown",
      "source": [
        "**Funções COM PARÂMETROS** - recebem valores de entrada que podem ser usados dentro da função."
      ],
      "metadata": {
        "id": "o8Im6bZArkiI"
      }
    },
    {
      "cell_type": "code",
      "source": [
        "def exibir_mensagem(nome):\n",
        "  print(f\"Olá, {nome}! Bem-vindo ao sistema.\")\n",
        "\n",
        "exibir_mensagem(\"Israel\")"
      ],
      "metadata": {
        "id": "WKm8bJsBrzhZ"
      },
      "execution_count": null,
      "outputs": []
    },
    {
      "cell_type": "code",
      "source": [
        "def soma(a,b):\n",
        "  return a+b\n",
        "\n",
        "resultado = soma(10,20)\n",
        "print(f\"O resultado da soma é {resultado}\")"
      ],
      "metadata": {
        "id": "87p5xsLNsKbp"
      },
      "execution_count": null,
      "outputs": []
    },
    {
      "cell_type": "code",
      "source": [
        "def saudacao(nome=\"Visitante\"):\n",
        "    print(f\"Olá, {nome}!\")\n",
        "\n",
        "saudacao(\"Douglas\")"
      ],
      "metadata": {
        "id": "Rp4xngJZsbvb"
      },
      "execution_count": null,
      "outputs": []
    },
    {
      "cell_type": "markdown",
      "source": [
        "**Uso do *args** - Parâmetros posicionais"
      ],
      "metadata": {
        "id": "iDfsrqkMxQVy"
      }
    },
    {
      "cell_type": "code",
      "source": [
        "def somar_varios(*numeros):\n",
        "  return sum(numeros)\n",
        "\n",
        "resultado = somar_varios(1,2,5,8,99,10,99,-10)\n",
        "print(resultado)"
      ],
      "metadata": {
        "id": "EQHLm7ypxgh4"
      },
      "execution_count": null,
      "outputs": []
    },
    {
      "cell_type": "markdown",
      "source": [
        "**Uso do *kwargs** - Parâmetros Nomeados"
      ],
      "metadata": {
        "id": "q_nQznn0xl37"
      }
    },
    {
      "cell_type": "code",
      "source": [
        "def exibir_informacoes(**info):\n",
        "  for chave, valor in info.items():\n",
        "    print(f\"{chave}: {valor}\")\n",
        "\n",
        "exibir_informacoes(nome=\"Ana\", idade=28, cidade=\"São paulo\")\n",
        "\n",
        "dicionario = {\n",
        "    'nome':\"Ana\",\n",
        "    'idade':28,\n",
        "    'cidade':\"São paulo\"\n",
        "}\n",
        "exibir_informacoes(**dicionario)"
      ],
      "metadata": {
        "id": "X76AZ-7fxsE9"
      },
      "execution_count": null,
      "outputs": []
    },
    {
      "cell_type": "code",
      "source": [
        "print (\"Hello\", \"World\", \"Python\", sep=\"*-*\")\n",
        "print (\"Hello\", \"World\", \"Python\", end=\"!\\n\")\n",
        "print (\"Hello\", \"World\", \"Python\", sep=\" *-* \", end=\".\\n\")"
      ],
      "metadata": {
        "id": "h-0Emai3ziGJ"
      },
      "execution_count": null,
      "outputs": []
    },
    {
      "cell_type": "markdown",
      "source": [
        "##Funções Avançadas em Python##\n"
      ],
      "metadata": {
        "id": "GI4iEIuLrpKG"
      }
    },
    {
      "cell_type": "markdown",
      "source": [
        "1. Funções anônimas\n",
        "2. Funções com argumentos predefinidos\n",
        "3. Funções de Ordem Superior\n",
        "4. Funções Decoradoras\n",
        "5. Funções Geradores\n",
        "6. Funções de Anotações\n",
        "7. Funções Recursivas\n",
        "8. Funções com argumentos nomeados e não nomeados\n",
        "9. Funções com *args e **kwargs em Decoradores\n",
        "10. Funções com Context Managers\n",
        "11. Funções de Composição\n",
        "12. Funções como Objetos\n",
        "13. Funções de Callback\n",
        "14. Funções de Tempo de Execução"
      ],
      "metadata": {
        "id": "ThSVtw0yr8t5"
      }
    },
    {
      "cell_type": "markdown",
      "source": [
        "**1 - Funções Anônimas (Lambda):** são funções\n",
        "pequenas e de uma única linha que não possuem nome. São principalmente para operações simples e rápidas."
      ],
      "metadata": {
        "id": "hxkMfIJStXVT"
      }
    },
    {
      "cell_type": "code",
      "source": [
        "#lambda argumentos: expressão\n",
        "soma = lambda a,b: a + b\n",
        "\n",
        "#Saída\n",
        "print(soma(5,10))\n"
      ],
      "metadata": {
        "id": "rGdCyfC-trkn"
      },
      "execution_count": null,
      "outputs": []
    },
    {
      "cell_type": "code",
      "source": [
        "#Verificar se um número é par\n",
        "x = 15\n",
        "# if (x % 2 == 0):\n",
        "#   print(\"par\")\n",
        "\n",
        "par = lambda x: x % 2 == 0\n",
        "print(par(14))"
      ],
      "metadata": {
        "id": "i6wW0Qk9vEp2"
      },
      "execution_count": null,
      "outputs": []
    },
    {
      "cell_type": "code",
      "source": [
        "numeros = [1,5,9,15,30,99]\n",
        "\n",
        "produto = lambda lst: [x * 2 for x in lst]\n",
        "print(produto(numeros))"
      ],
      "metadata": {
        "id": "JQmOrK3awA8Y"
      },
      "execution_count": null,
      "outputs": []
    },
    {
      "cell_type": "code",
      "source": [
        "maximo = lambda a,b,c: max(a,b,c)\n",
        "print(maximo(10,20,15))"
      ],
      "metadata": {
        "id": "0a6w5o7Nw8bo"
      },
      "execution_count": null,
      "outputs": []
    },
    {
      "cell_type": "code",
      "source": [
        "numeros = [1,2,3,4,5,6]\n",
        "quadrado = list(map(lambda x: x ** 2, numeros))\n",
        "print(quadrado)"
      ],
      "metadata": {
        "id": "clf5t1iuxWqw"
      },
      "execution_count": null,
      "outputs": []
    },
    {
      "cell_type": "code",
      "source": [
        "numeros = [1,2,3,4,5,6]\n",
        "impares = list(filter(lambda x: x % 2 !=0, numeros))\n",
        "print(impares)"
      ],
      "metadata": {
        "id": "ltWm1ag9yMP7"
      },
      "execution_count": null,
      "outputs": []
    },
    {
      "cell_type": "code",
      "source": [
        "#Verificar se um número é positivo, negativo ou zero\n",
        "verificar_numero = lambda x: \"Positivo\" if x > 0 else \"Negativo\" if x < 0 else \"Zero\"\n",
        "print(verificar_numero(0))"
      ],
      "metadata": {
        "id": "DPNIMwkjyoNe"
      },
      "execution_count": null,
      "outputs": []
    },
    {
      "cell_type": "code",
      "source": [
        "numero = 10\n",
        "if numero % 2 == 0:\n",
        "    par_ou_impar = \"Par\"\n",
        "else:\n",
        "    par_ou_impar = \"Ímpar\"\n",
        "print(par_ou_impar)  # Saída: Par\n",
        "\n",
        "# Usando operador ternário\n",
        "par_ou_impar = \"Par\" if numero % 2 == 0 else \"Ímpar\"\n",
        "print(par_ou_impar)  # Saída: Par\n"
      ],
      "metadata": {
        "id": "61ht83fdzz0V"
      },
      "execution_count": null,
      "outputs": []
    },
    {
      "cell_type": "code",
      "source": [
        "lista1 = [\"Olá\", \"Mundo\", \"Python\"]\n",
        "lista2 = [\"!\", \"É\", \"Legal\"]\n",
        "\n",
        "soma_listas = list(map(lambda x, y: x + y, lista1, lista2))\n",
        "print(soma_listas)\n",
        "\n",
        "juntar_listas = list(map(lambda x, y: [x,y], lista1, lista2))\n",
        "print(juntar_listas)\n",
        "\n",
        "juntar_listas2 = list(zip(lista1, lista2))\n",
        "print(juntar_listas2)"
      ],
      "metadata": {
        "id": "pNFYp0bd0x3B"
      },
      "execution_count": null,
      "outputs": []
    },
    {
      "cell_type": "markdown",
      "source": [
        "**2 - Funções com argumentos predefinidos:**"
      ],
      "metadata": {
        "id": "e5GFUVpG8vEN"
      }
    },
    {
      "cell_type": "code",
      "source": [
        "def saudacao(nome=\"Visitante\", mensagem=\"Olá\"):\n",
        "  return f\"{mensagem}, {nome}\"\n",
        "\n",
        "#Saída\n",
        "print(saudacao())\n",
        "\n",
        "print(saudacao(nome=\"Adriano\"))\n",
        "\n",
        "print(saudacao(mensagem=\"Bom dia\", nome=\"Adriano\"))\n",
        "\n",
        "print(saudacao(\"Helen\", \"Bora Codar\"))"
      ],
      "metadata": {
        "id": "pdlnN42e8_Lf"
      },
      "execution_count": null,
      "outputs": []
    },
    {
      "cell_type": "markdown",
      "source": [
        "**3 - Funções de Ordem Superior:** são funções que podem receber outras funções como argumento ou retornar funções."
      ],
      "metadata": {
        "id": "XejiflI_-qea"
      }
    },
    {
      "cell_type": "code",
      "source": [
        "def aplicar_funcao(func, lista):\n",
        "  return [func(x) for x in lista]\n",
        "\n",
        "#Função que será passada como argumento\n",
        "def quadrado(y):\n",
        "  return y * y\n",
        "\n",
        "#Usando a função de ordem superior\n",
        "minha_lista = [1,2,3,4,5]\n",
        "resultados = aplicar_funcao(quadrado, minha_lista)\n",
        "\n",
        "#Saída\n",
        "print(resultados)\n"
      ],
      "metadata": {
        "id": "iYn1yCbT-1MF"
      },
      "execution_count": null,
      "outputs": []
    },
    {
      "cell_type": "code",
      "source": [
        "import math\n",
        "# def calculadora(operacao):\n",
        "#   return lambda a,b: operacao(a,b)\n",
        "\n",
        "# def calculadora(operacao):\n",
        "#     return lambda a, b=None: operacao(a) if b is None else operacao(a, b)\n",
        "\n",
        "def calculadora(operacao):\n",
        "  return lambda *args: operacao(*args)\n",
        "\n",
        "# Operação de adição\n",
        "# def soma(a, b):\n",
        "#     return a + b\n",
        "\n",
        "def soma(*args):\n",
        "    return sum(args)\n",
        "\n",
        "# Operação de subtração\n",
        "def subtracao(a, b):\n",
        "    return a - b\n",
        "# Operação de multiplicação\n",
        "def multiplicacao(a, b):\n",
        "    return a * b\n",
        "# Operação de divisão\n",
        "def divisao(a, b):\n",
        "    return a / b if b != 0 else \"Erro: Divisão por zero\"\n",
        "# Operação de cosseno (para um único argumento)\n",
        "def cosseno(a):\n",
        "    return math.cos(a)\n",
        "#Criando as funções para cada operação\n",
        "operacao_soma = calculadora(soma)\n",
        "operacao_subtracao = calculadora(subtracao)\n",
        "operacao_multiplicacao = calculadora(multiplicacao)\n",
        "operacao_divisao = calculadora(divisao)\n",
        "operacao_cosseno = calculadora(cosseno)\n",
        "#Testar as operações\n",
        "print(operacao_soma(10,5))\n",
        "print(operacao_divisao(10,3))\n",
        "a = math.pi/3\n",
        "print(operacao_cosseno(a))"
      ],
      "metadata": {
        "id": "hd3hDdpGAoMV"
      },
      "execution_count": null,
      "outputs": []
    },
    {
      "cell_type": "code",
      "source": [
        "## Criando uma calculadora científica básica\n",
        "import math\n",
        "\n",
        "def calculadora_cientifica(expressao):\n",
        "  try:\n",
        "    # Avalia a expressão usando uma função eval, permitindo operações matemáticas\n",
        "    resultado = eval(expressao, {\"__builtins__\":None}, {\n",
        "        \"sin\": math.sin,\n",
        "        \"cos\": math.cos,\n",
        "        \"tan\": math.tan,\n",
        "        \"log\": math.log,\n",
        "        \"sqrt\": math.sqrt,\n",
        "        \"exp\": math.exp,\n",
        "        \"pow\": math.pow,\n",
        "        \"pi\": math.pi,\n",
        "        \"e\": math.e\n",
        "    })\n",
        "    return resultado\n",
        "  except Exception as erro:\n",
        "    return f\"Erro: {erro}\"\n",
        "\n",
        "#Exemplos de uso\n",
        "print(calculadora_cientifica(\"2+3+8-3*2\"))\n",
        "print(calculadora_cientifica(\"sin(pi/2)\"))\n"
      ],
      "metadata": {
        "id": "1gReAPgnf83u",
        "colab": {
          "base_uri": "https://localhost:8080/"
        },
        "outputId": "c03410e6-7c55-4843-8ad7-43bcadca9f12"
      },
      "execution_count": null,
      "outputs": [
        {
          "output_type": "stream",
          "name": "stdout",
          "text": [
            "7\n",
            "1.0\n"
          ]
        }
      ]
    },
    {
      "cell_type": "code",
      "source": [
        "import math\n",
        "\n",
        "def calculadora_cientifica():\n",
        "  print(\"Bem-vindo à calculadora Científica!\")\n",
        "  print(\"Operações disponíveis: +, -, *, /, sin, cos, tan, log, sqrt, exp, pow\")\n",
        "  print(\"Digite a operação correta, por exemplo: '2+3' ou 'sin(pi/2)' ou 'log(10)'\")\n",
        "\n",
        "  while True:\n",
        "    expressao = input(\"Digite a expressão matemática (ou sair) para encerrar: \")\n",
        "    if expressao.lower() == 'sair':\n",
        "      print(\"Encerrando a calculadora.\")\n",
        "      break\n",
        "    try:\n",
        "    # Avalia a expressão usando uma função eval, permitindo operações matemáticas\n",
        "      resultado = eval(expressao, {\"__builtins__\":None}, {\n",
        "        \"sin\": math.sin,\n",
        "        \"cos\": math.cos,\n",
        "        \"tan\": math.tan,\n",
        "        \"log\": math.log,\n",
        "        \"sqrt\": math.sqrt,\n",
        "        \"exp\": math.exp,\n",
        "        \"pow\": math.pow,\n",
        "        \"pi\": math.pi,\n",
        "        \"e\": math.e\n",
        "    })\n",
        "      return resultado\n",
        "    except Exception as erro:\n",
        "      return f\"Erro: {erro}\"\n",
        "\n",
        "# Execução da Calculadora\n",
        "calculadora_cientifica()"
      ],
      "metadata": {
        "id": "iKpk_WF2jobf",
        "colab": {
          "base_uri": "https://localhost:8080/"
        },
        "outputId": "6ac5a51b-02a3-4bd2-ca9d-88f575202c0d"
      },
      "execution_count": null,
      "outputs": [
        {
          "name": "stdout",
          "output_type": "stream",
          "text": [
            "Bem-vindo à calculadora Científica!\n",
            "Operações disponíveis: +, -, *, /, sin, cos, tan, log, sqrt, exp, pow\n",
            "Digite a operação correta, por exemplo: '2+3' ou 'sin(pi/2)' ou 'log(10)'\n",
            "Digite a expressão matemática (ou sair) para encerrar: sin(45)\n"
          ]
        },
        {
          "output_type": "execute_result",
          "data": {
            "text/plain": [
              "0.8509035245341184"
            ]
          },
          "metadata": {},
          "execution_count": 4
        }
      ]
    },
    {
      "cell_type": "markdown",
      "source": [
        "**4 - Funções Decoradoras:** são funções que modificam o comportamento de outras funções. Usa para adicionar funcionalidades."
      ],
      "metadata": {
        "id": "ZV_bOkTRqRZf"
      }
    },
    {
      "cell_type": "code",
      "source": [
        "def decorador(func):\n",
        "  def wrapper():\n",
        "    print(\"Algo está acontecendo antes da execução\")\n",
        "    func()\n",
        "    print(\"Algo está acontecendo após a execução\")\n",
        "  return wrapper\n",
        "\n",
        "@decorador\n",
        "def saudacao():\n",
        "  print(\"Olá!\")\n",
        "\n",
        "saudacao()"
      ],
      "metadata": {
        "id": "5eaptaHKqieh"
      },
      "execution_count": null,
      "outputs": []
    },
    {
      "cell_type": "code",
      "source": [
        "import time\n",
        "#Definindo o decorador\n",
        "def medir_tempo(funcao):\n",
        "  def wrapper(*args, **kwargs):\n",
        "    print(\"Iniciando a função...\")\n",
        "    inicio = time.time() # Marca o tempo no inicio\n",
        "    resultado = funcao(*args, **kwargs)\n",
        "    fim = time.time() # Marca o tempo no final\n",
        "    print(f\"A função '{funcao.__name__}' foi executada em {fim - inicio:.6f} segundos.\")\n",
        "    return resultado\n",
        "  return wrapper\n",
        "\n",
        "# Usando o decorador\n",
        "@medir_tempo\n",
        "def somar_numeros(a,b):\n",
        "  time.sleep(1) # Simula um atraso na execução\n",
        "  return a+b\n",
        "\n",
        "@medir_tempo\n",
        "def quadrado(y):\n",
        "  return y * y\n",
        "#Chamando a função decorada\n",
        "resposta = somar_numeros(11,7)\n",
        "resposta2 = quadrado(5)\n",
        "\n",
        "print(f\"O Resultado: {resposta2}\")\n"
      ],
      "metadata": {
        "id": "aRnfWTW3rv7h"
      },
      "execution_count": null,
      "outputs": []
    },
    {
      "cell_type": "markdown",
      "source": [
        "**5 - Funções Geradoras:** são uma maneira poderosa de produzir sequências de valores sob demanda. Usamos uma palavra-chave 'yield'."
      ],
      "metadata": {
        "id": "vipb_mesysPk"
      }
    },
    {
      "cell_type": "code",
      "source": [
        "def contador(max):\n",
        "  count=1\n",
        "  while count <= max:\n",
        "    yield count\n",
        "    count +=1\n",
        "\n",
        "#Usando a função geradora\n",
        "for numero in contador(10):\n",
        "  print(numero)\n",
        "\n"
      ],
      "metadata": {
        "id": "-eiI2yK_zXyz",
        "collapsed": true
      },
      "execution_count": null,
      "outputs": []
    },
    {
      "cell_type": "code",
      "source": [
        "import random\n",
        "\n",
        "def gerador_aleatorio(max_numeros, inicio=0, fim=20):\n",
        "  count =0\n",
        "  while count < max_numeros:\n",
        "    yield random.randint(inicio, fim)\n",
        "    count +=1\n",
        "#Usando a função geradora\n",
        "for numero in gerador_aleatorio(5,1,60):\n",
        "  print(numero)"
      ],
      "metadata": {
        "id": "WnkJtmnR1DI6",
        "collapsed": true
      },
      "execution_count": null,
      "outputs": []
    },
    {
      "cell_type": "code",
      "source": [
        "import random\n",
        "\n",
        "def gerador_aleatorio_unico(max_numeros, inicio=0, fim=20):\n",
        "  numeros_gerados = set()\n",
        "\n",
        "  while len(numeros_gerados) < max_numeros:\n",
        "    numero = random.randint(inicio, fim)\n",
        "    if(numero not in numeros_gerados):\n",
        "      numeros_gerados.add(numero)\n",
        "      yield numero\n",
        "\n",
        "#Usando a função geradora\n",
        "for numero in gerador_aleatorio_unico(5,1,6):\n",
        "  print(numero)"
      ],
      "metadata": {
        "id": "rNYjkNej2Q0l",
        "collapsed": true
      },
      "execution_count": null,
      "outputs": []
    },
    {
      "cell_type": "markdown",
      "source": [
        "**6 - Funções com Anotações de Tipo:** permitem especificar os tipos esperados dos parâmetros e do valor que espera-se de retorno de uma função."
      ],
      "metadata": {
        "id": "3WcVUulT0AN4"
      }
    },
    {
      "cell_type": "code",
      "source": [
        "def multiplicar(x: int, y:int) -> int:\n",
        "  return x * y\n",
        "\n",
        "resultado = multiplicar(3.5,4.3)\n",
        "print(resultado)"
      ],
      "metadata": {
        "id": "LL7jWEz11GZZ"
      },
      "execution_count": null,
      "outputs": []
    },
    {
      "cell_type": "code",
      "source": [
        "def multiplicar(x, y):\n",
        "  if not isinstance(x, int) or not isinstance(y, int):\n",
        "    raise TypeError(\"Ambos os parâmetros devem ser inteiros\")\n",
        "  return x * y\n",
        "\n",
        "try:\n",
        "  resultado = multiplicar(3,4)\n",
        "  print(resultado)\n",
        "  resultado2 = multiplicar(3.5,4)\n",
        "  print(resultado2)\n",
        "except TypeError as e:\n",
        "  print(e)"
      ],
      "metadata": {
        "id": "yFomFEg64v2E"
      },
      "execution_count": null,
      "outputs": []
    },
    {
      "cell_type": "markdown",
      "source": [
        "**7 - Funções Recursivas:** são aquele que se chamam a si mesmas."
      ],
      "metadata": {
        "id": "2b1vyFv27gyu"
      }
    },
    {
      "cell_type": "code",
      "source": [
        "#Fatorial\n",
        "def fatorial(n: int) -> int:\n",
        "  if n == 0:\n",
        "    return 1\n",
        "  else:\n",
        "    return n * fatorial(n-1)\n",
        "\n",
        "#Uso\n",
        "print(fatorial(5))"
      ],
      "metadata": {
        "id": "Uwqy180I8drL"
      },
      "execution_count": null,
      "outputs": []
    },
    {
      "cell_type": "code",
      "source": [
        "#Fatorial\n",
        "def fatorial(n: int) -> int:\n",
        "  if n == 0 or n == 1:\n",
        "    return 1\n",
        "  else:\n",
        "    return n * fatorial(n-1)\n",
        "\n",
        "#Uso\n",
        "print(fatorial(5))"
      ],
      "metadata": {
        "id": "LEaJ77kP9bqN"
      },
      "execution_count": null,
      "outputs": []
    },
    {
      "cell_type": "code",
      "source": [
        "def fibonacci(n):\n",
        "  if n == 0:\n",
        "    return 0\n",
        "  elif n == 1:\n",
        "    return 1\n",
        "  else:\n",
        "    return fibonacci(n-1) + fibonacci(n-2)\n",
        "\n",
        "#Exemplo de uso\n",
        "print(fibonacci(16))"
      ],
      "metadata": {
        "id": "JGPdjHQg-Bw-"
      },
      "execution_count": null,
      "outputs": []
    },
    {
      "cell_type": "code",
      "source": [
        "#Soma dos elementos de uma lista\n",
        "def soma_lista(lista):\n",
        "  if len(lista) == 0:\n",
        "    return 0\n",
        "  else:\n",
        "    return lista[0] + soma_lista(lista[1:])\n",
        "\n",
        "#Uso\n",
        "minhaLista = [1,2,3,4,5]\n",
        "print(soma_lista(minhaLista))"
      ],
      "metadata": {
        "id": "GOF9-Uie_nui"
      },
      "execution_count": null,
      "outputs": []
    },
    {
      "cell_type": "code",
      "source": [
        "#Inverter uma string\n",
        "def inverter_string(s):\n",
        "  if len(s)==0:\n",
        "    return \"\"\n",
        "  else:\n",
        "    return s[-1] + inverter_string(s[:-1])\n",
        "\n",
        "#Uso\n",
        "print(inverter_string(\"recursividade\"))"
      ],
      "metadata": {
        "id": "ViB6-hLdANwu"
      },
      "execution_count": null,
      "outputs": []
    },
    {
      "cell_type": "code",
      "source": [
        "#Verificar Palíndromo\n",
        "def eh_palindromo(s):\n",
        "  #Remover espaços e converter minúsculas\n",
        "  s = s.replace(\" \", \"\").lower()\n",
        "  #caso base: se a string tiver 0 ou 1 caracteres, é um palíndromo\n",
        "  if len(s) <= 1:\n",
        "    return True\n",
        "  # caso recursivo: verificar se os caracteres das extremidades são iguais\n",
        "  elif s[0] == s[-1]: #arara\n",
        "    #Chamar a função recursivamente para o substring sem as extremidades\n",
        "    return eh_palindromo(s[1:-1]) #rar\n",
        "  else:\n",
        "    return False\n",
        "\n",
        "#Uso\n",
        "print(eh_palindromo(\"arara\"))\n",
        "print(eh_palindromo(\"python\"))\n",
        "print(eh_palindromo(\"A man a plan a canal Panama\"))\n"
      ],
      "metadata": {
        "id": "bU5CnoDICAGw"
      },
      "execution_count": null,
      "outputs": []
    },
    {
      "cell_type": "code",
      "source": [
        "#Verificar Palíndromo\n",
        "def eh_palindromo(s):\n",
        "  #Remover espaços e converter minúsculas\n",
        "  s = s.replace(\" \", \"\").lower()\n",
        "  #caso base: se a string tiver 0 ou 1 caracteres, é um palíndromo\n",
        "  if len(s) <= 1:\n",
        "    return True\n",
        "  # caso recursivo: verificar se os caracteres das extremidades são iguais\n",
        "  return s[0] == s[-1] and eh_palindromo(s[1:-1])\n",
        "\n",
        "#Uso\n",
        "print(eh_palindromo(\"arara\"))\n",
        "print(eh_palindromo(\"python\"))\n",
        "print(eh_palindromo(\"A man a plan a canal Panama\"))\n"
      ],
      "metadata": {
        "id": "e59_o696FiWJ"
      },
      "execution_count": null,
      "outputs": []
    },
    {
      "cell_type": "code",
      "source": [
        "#Verificar Palíndromo\n",
        "def eh_palindromo(s):\n",
        "  return len(s) <= 1 or s[0] == s[-1] and eh_palindromo(s[1:-1])\n",
        "\n",
        "#Uso\n",
        "print(eh_palindromo(\"arara\"))\n",
        "print(eh_palindromo(\"python\"))\n",
        "print(eh_palindromo(\"A man a plan a canal Panama\"))\n",
        "print(eh_palindromo(\"Socorram-me, subi no ônibus em Marrocos\"))"
      ],
      "metadata": {
        "id": "suJ3KhhzGES6"
      },
      "execution_count": null,
      "outputs": []
    },
    {
      "cell_type": "code",
      "source": [
        "#Verificar Palíndromo\n",
        "import re\n",
        "def eh_palindromo(s):\n",
        "  s = re.sub(r'[^a-zA-Z0-9]','',s).lower()\n",
        "  return len(s) <= 1 or s[0] == s[-1] and eh_palindromo(s[1:-1])\n",
        "\n",
        "#Uso\n",
        "print(eh_palindromo(\"arara\"))\n",
        "print(eh_palindromo(\"python\"))\n",
        "print(eh_palindromo(\"A man a plan a canal Panama\"))\n",
        "print(eh_palindromo(\"Socorram-me, subi no ônibus em Marrocos\"))"
      ],
      "metadata": {
        "id": "UR5hBOziG9oM"
      },
      "execution_count": null,
      "outputs": []
    },
    {
      "cell_type": "markdown",
      "source": [
        "**8 - Funções com Argumentos Nomeados e Não Nomeados:** misturar argumentos posicionais e variáveis em uma função."
      ],
      "metadata": {
        "id": "bMovxy6fImE4"
      }
    },
    {
      "cell_type": "code",
      "source": [
        "def combinar(a, b, *args, sep=\", \", prefixo=\"\", sufixo=\"\"):\n",
        "    resultado = f\"{prefixo}{a}{sep}{b}\"\n",
        "    if args:\n",
        "        resultado += sep + sep.join(args)\n",
        "    resultado += sufixo\n",
        "    return resultado\n",
        "# Uso\n",
        "print(combinar(\"maçã\", \"banana\", \"laranja\", \"kiwi\", prefixo=\"Frutas: \", sufixo=\" :)\"))\n",
        "print(combinar(\"maçã\", \"banana\", \"laranja\", \"kiwi\"))"
      ],
      "metadata": {
        "id": "8hZk0gtdLFzf"
      },
      "execution_count": null,
      "outputs": []
    },
    {
      "cell_type": "markdown",
      "source": [
        "**9 - Funções com args e kwargs em Decoradores:**"
      ],
      "metadata": {
        "id": "fGwRc3x2PuXh"
      }
    },
    {
      "cell_type": "code",
      "source": [
        "def decorador(func):\n",
        "    def wrapper(*args, **kwargs):\n",
        "        print(\"Antes da execução\")\n",
        "        resultado = func(*args, **kwargs)\n",
        "        print(\"Depois da execução\")\n",
        "        return resultado\n",
        "    return wrapper\n",
        "\n",
        "@decorador\n",
        "def saudacao(nome):\n",
        "    print(f\"Olá, {nome}!\")\n",
        "\n",
        "\n",
        "@decorador\n",
        "def soma(a, b):\n",
        "    print(f\"A soma de {a} e {b} é {a + b}\")\n",
        "\n",
        "@decorador\n",
        "def multiplicacao(a, b, c):\n",
        "    print(f\"A multiplicação de {a}, {b} e {c} é {a * b * c}\")\n",
        "\n",
        "#Uso\n",
        "saudacao(\"Helen\")\n",
        "\n",
        "soma(10,15)\n",
        "\n",
        "multiplicacao(2,3,5)\n",
        "\n"
      ],
      "metadata": {
        "id": "mO6-n1LXtiku"
      },
      "execution_count": null,
      "outputs": []
    },
    {
      "cell_type": "code",
      "source": [
        "def decorador(func):\n",
        "    def wrapper(*args, **kwargs):\n",
        "        print(\"Antes da execução\")\n",
        "        resultado = func(*args, **kwargs)\n",
        "        print(\"Depois da execução\")\n",
        "        return resultado\n",
        "    return wrapper\n",
        "\n",
        "@decorador\n",
        "def exibir_saudacao(nome):\n",
        "    print(f\"Olá, {nome}!\")\n",
        "\n",
        "@decorador\n",
        "def calcular_soma(a, b):\n",
        "    print(f\"A soma de {a} e {b} é {a + b}\")\n",
        "\n",
        "@decorador\n",
        "def calcular_multiplicacao(a, b, c):\n",
        "    print(f\"A multiplicação de {a}, {b} e {c} é {a * b * c}\")\n",
        "\n",
        "def menu():\n",
        "    while True:\n",
        "        print(\"\\n--- Menu ---\")\n",
        "        print(\"1. Exibir saudação\")\n",
        "        print(\"2. Calcular soma\")\n",
        "        print(\"3. Calcular multiplicação\")\n",
        "        print(\"4. Sair\")\n",
        "\n",
        "        escolha = input(\"Escolha uma opção (1/2/3/4): \")\n",
        "\n",
        "        if escolha == '1':\n",
        "            nome = input(\"Digite o nome: \")\n",
        "            exibir_saudacao(nome)\n",
        "        elif escolha == '2':\n",
        "            a = int(input(\"Digite o primeiro número: \"))\n",
        "            b = int(input(\"Digite o segundo número: \"))\n",
        "            calcular_soma(a, b)\n",
        "        elif escolha == '3':\n",
        "            a = int(input(\"Digite o primeiro número: \"))\n",
        "            b = int(input(\"Digite o segundo número: \"))\n",
        "            c = int(input(\"Digite o terceiro número: \"))\n",
        "            calcular_multiplicacao(a, b, c)\n",
        "        elif escolha == '4':\n",
        "            print(\"Saindo...\")\n",
        "            break\n",
        "        else:\n",
        "            print(\"Opção inválida. Tente novamente.\")\n",
        "#Uso\n",
        "menu()"
      ],
      "metadata": {
        "collapsed": true,
        "id": "WwZHYeaEuy15"
      },
      "execution_count": null,
      "outputs": []
    },
    {
      "cell_type": "markdown",
      "source": [
        "**10 - Funções com Context Managers:** São funções que podem ser usadas como gerenciadores de contexto utilizando as palavras-chave '__enter__' e '__exit__'. É útil para garantir que recursos sejam corretamente gerenciados e liberados."
      ],
      "metadata": {
        "id": "mHUfPuqzwl0h"
      }
    },
    {
      "cell_type": "code",
      "source": [
        "class GerenciadorDeArquivo:\n",
        "  def __init__(self, nome_arquivo, modo):\n",
        "    self.nome_arquivo = nome_arquivo\n",
        "    self.modo = modo\n",
        "\n",
        "  def __enter__(self):\n",
        "    self.arquivo = open(self.nome_arquivo, self.modo)\n",
        "    return self.arquivo\n",
        "\n",
        "  def __exit__(self, exc_type, exc_value, tracebak):\n",
        "    self.arquivo.close()\n",
        "\n",
        "#Usando gerenciador de contexto\n",
        "with GerenciadorDeArquivo(\"teste.txt\", 'w') as arquivo:\n",
        "  arquivo.write(input(\"Digite uma frase:\"))"
      ],
      "metadata": {
        "id": "Vvv3PijyxU74"
      },
      "execution_count": null,
      "outputs": []
    },
    {
      "cell_type": "code",
      "source": [
        "class GerenciadorDeArquivo:\n",
        "  def __init__(self, nome_arquivo, modo):\n",
        "    self.nome_arquivo = nome_arquivo\n",
        "    self.modo = modo\n",
        "\n",
        "  def __enter__(self):\n",
        "    self.arquivo = open(self.nome_arquivo, self.modo)\n",
        "    return self.arquivo\n",
        "\n",
        "  def __exit__(self, exc_type, exc_value, tracebak):\n",
        "    self.arquivo.close()\n",
        "\n",
        "#Criando uma função para usar o gerenciador de contexto\n",
        "def escrever_arquivo(nome_arquivo, conteudo, modo='w'):\n",
        "  with GerenciadorDeArquivo(nome_arquivo, modo) as arquivo:\n",
        "    arquivo.write(conteudo)\n",
        "\n",
        "#Usando a função\n",
        "frase = input(\"Digite seu texto: \")\n",
        "escrever_arquivo(\"novoArquivo.txt\", frase)\n"
      ],
      "metadata": {
        "id": "hszpZpquzEDT"
      },
      "execution_count": null,
      "outputs": []
    },
    {
      "cell_type": "markdown",
      "source": [
        "**11 - Funções Composição:** Podem ser compostas para criar novas funções a partir de funções existentes."
      ],
      "metadata": {
        "id": "-niNcYoT0YVJ"
      }
    },
    {
      "cell_type": "code",
      "source": [
        "def dobrar(x: int) -> int:\n",
        "  return x * 2\n",
        "\n",
        "def adicionar_tres(x: int) -> int:\n",
        "  return x + 3\n",
        "\n",
        "def compor(func1, func2):\n",
        "  return lambda x: func2(func1(x))\n",
        "\n",
        "#Criando uma nova função\n",
        "nova_func = compor(dobrar, adicionar_tres)\n",
        "\n",
        "#Uso\n",
        "print(dobrar(5))\n",
        "print(adicionar_tres(5))\n",
        "print(nova_func(10))"
      ],
      "metadata": {
        "id": "M_AbTwWk0pEI"
      },
      "execution_count": null,
      "outputs": []
    },
    {
      "cell_type": "code",
      "source": [
        "def dobrar(x: int) -> int:\n",
        "  return x * 2\n",
        "\n",
        "def adicionar_tres(x: int) -> int:\n",
        "  return x + 3\n",
        "\n",
        "def compor(func1, func2):\n",
        "  return lambda x: func2(func1(x))\n",
        "\n",
        "#Criar uma tupla de funções\n",
        "tupla_de_funcoes =(dobrar, adicionar_tres)\n",
        "\n",
        "#Compor as funçõe da tupla\n",
        "nova_funcao = compor(tupla_de_funcoes[0], tupla_de_funcoes[1])\n",
        "\n",
        "#Uso\n",
        "print(nova_funcao(10))"
      ],
      "metadata": {
        "id": "QXn0Sp7_2ZQH"
      },
      "execution_count": null,
      "outputs": []
    },
    {
      "cell_type": "code",
      "source": [
        "#Usando permutaçao\n",
        "from itertools import permutations\n",
        "\n",
        "def dobrar(x: int) -> int:\n",
        "    return x * 2\n",
        "\n",
        "def adicionar_tres(x: int) -> int:\n",
        "    return x + 3\n",
        "\n",
        "def compor(*funcoes):\n",
        "    def combinacao(x):\n",
        "        for func in reversed(funcoes):\n",
        "            x = func(x)\n",
        "        return x\n",
        "    return combinacao\n",
        "\n",
        "# Criar uma tupla de funções\n",
        "tupla_de_funcoes = (dobrar, adicionar_tres)\n",
        "\n",
        "# Gerar todas as combinações possíveis de funções\n",
        "for perm in permutations(tupla_de_funcoes):\n",
        "    func_combinada = compor(*perm)\n",
        "    print(f\"Composição da permutação {perm}: {func_combinada(5)}\")\n"
      ],
      "metadata": {
        "id": "KO6qPojE3jDv"
      },
      "execution_count": null,
      "outputs": []
    },
    {
      "cell_type": "code",
      "source": [
        "from itertools import permutations\n",
        "\n",
        "def dobrar(x: int) -> int:\n",
        "    return x * 2\n",
        "\n",
        "def adicionar_tres(x: int) -> int:\n",
        "    return x + 3\n",
        "\n",
        "def compor(*funcoes):\n",
        "    def combinacao(x):\n",
        "        for func in funcoes:\n",
        "            x = func(x)\n",
        "        return x\n",
        "    return combinacao\n",
        "\n",
        "# Criar uma tupla de funções\n",
        "tupla_de_funcoes = (dobrar, adicionar_tres)\n",
        "\n",
        "# Gerar todas as combinações possíveis de funções\n",
        "for perm in permutations(tupla_de_funcoes):\n",
        "    func_combinada = compor(*perm)\n",
        "    func_names = ' -> '.join([func.__name__ for func in perm])\n",
        "    print(f\"Composição da permutação {func_names}: {func_combinada(5)}\")\n"
      ],
      "metadata": {
        "id": "OABm5UOv5xjf"
      },
      "execution_count": null,
      "outputs": []
    },
    {
      "cell_type": "markdown",
      "source": [
        "**12 - Funções como Objetos:**"
      ],
      "metadata": {
        "id": "lRbjXcLG6bZu"
      }
    },
    {
      "cell_type": "code",
      "source": [
        "def multiplicar_por_2(x: int) -> int:\n",
        "  return x * 2\n",
        "\n",
        "def aplicar_funcao(func, valor):\n",
        "  return func(valor)\n",
        "\n",
        "#Uso\n",
        "resultado = aplicar_funcao(multiplicar_por_2, 10)\n",
        "print(resultado)"
      ],
      "metadata": {
        "id": "QknzdpuO6m-T"
      },
      "execution_count": null,
      "outputs": []
    },
    {
      "cell_type": "markdown",
      "source": [
        "**13 - Funções de Callback:** são funções passadas como argumento para outras funções e que são chamadas dentro dessas funções."
      ],
      "metadata": {
        "id": "k97YrvLA9tLx"
      }
    },
    {
      "cell_type": "code",
      "source": [
        "def processar_dados(dados, callback):\n",
        "  resultados = [callback(valor) for valor in dados]\n",
        "  return resultados\n",
        "\n",
        "def quadrado(x: int) -> int:\n",
        "  return x * x\n",
        "\n",
        "#Exemplo de uso\n",
        "dados = [1,2,3,4,5,6]\n",
        "resposta = processar_dados(dados, quadrado)\n",
        "\n",
        "print(resposta)"
      ],
      "metadata": {
        "id": "AZiE3sfq-E7A"
      },
      "execution_count": null,
      "outputs": []
    },
    {
      "cell_type": "markdown",
      "source": [
        "**14 - Funções de Tempo de Execução (Timing):** funções para medir tempo de execução de outras funções."
      ],
      "metadata": {
        "id": "wa8GTsb4_Fft"
      }
    },
    {
      "cell_type": "code",
      "source": [
        "import time\n",
        "def medir_tempo(funcao):\n",
        "  def wrapper(*args, **kwargs):\n",
        "    inicio = time.time()\n",
        "    resultado = funcao(*args, **kwargs)\n",
        "    fim = time.time()\n",
        "    print(f\"Tempo de execução: {fim - inicio} segundos.\")\n",
        "    return resultado\n",
        "  return wrapper\n",
        "\n",
        "\n",
        "#Fatorial\n",
        "@medir_tempo\n",
        "def fatorial(n: int) -> int:\n",
        "  if n == 0 or n == 1:\n",
        "    return 1\n",
        "  else:\n",
        "    return n * fatorial(n-1)\n",
        "\n",
        "#Uso\n",
        "print(fatorial(15))\n"
      ],
      "metadata": {
        "id": "6znoNAVI_Sqj"
      },
      "execution_count": null,
      "outputs": []
    },
    {
      "cell_type": "markdown",
      "source": [
        "#11 - Pandas#"
      ],
      "metadata": {
        "id": "kquOEzTgN4cv"
      }
    },
    {
      "cell_type": "markdown",
      "source": [
        "**Conceito:** é uma biblioteca \"poderosa\" para análise e manipulação de dados em Python."
      ],
      "metadata": {
        "id": "xQqxLdTKN8No"
      }
    },
    {
      "cell_type": "markdown",
      "source": [
        "**DataFrames:** Estruturas de dados bidimensional, semelhante a uma tabela ou uma planilha.\n",
        "\n",
        "**Series:** Estrutura de dados unidimensional...Uma coluna de um DataFrame.\n",
        "\n",
        "**Indexação e Seleção:** Oferece várias maneiras de acessar e selecionar dados."
      ],
      "metadata": {
        "id": "1zYDSO3LONYi"
      }
    },
    {
      "cell_type": "code",
      "source": [
        "#Leitura de Dados\n",
        "\n",
        "import pandas as pd\n",
        "\n",
        "#Ler dados de um arquivo.csv\n",
        "df = pd.read_csv('/content/Base de dados - Dados sobre desgaste de funcionarios.csv')\n",
        "\n",
        "# Visualização e Exploração\n",
        "# Visualizar as primeiras linhas\n",
        "# print(df.head())\n",
        "\n",
        "#Obter informações sobre o Dataframe\n",
        "# print(df.info)\n",
        "\n",
        "# Manipulação de Dados\n",
        "#Filtrar dados\n",
        "df_filtro_idade = df[df['Idade']>30]\n",
        "# print(df_filtro_idade)\n",
        "\n",
        "#Filtrar dados\n",
        "df_filtro_idade_vendas = df[(df['Idade']>30) & (df['Departamento'] == 'Vendas')]\n",
        "# print(df_filtro_idade_vendas)\n",
        "\n",
        "#Filtrar dados\n",
        "df_filtro_idade_vendas2 = df[(df['Idade']>30) & (df['Departamento'] == 'Vendas')][['Idade', 'Escolaridade', 'Departamento', 'Total de anos trabalhados']]\n",
        "# print(df_filtro_idade_vendas2)\n",
        "\n",
        "#Adicionando uma nova coluna\n",
        "df_filtro_idade_vendas2['email'] = None\n",
        "# print(df_filtro_idade_vendas2)\n",
        "\n",
        "df_ordenado = df_filtro_idade_vendas2[['Idade', 'Escolaridade', 'email', 'Departamento', 'Total de anos trabalhados']]\n",
        "# print(df_ordenado)\n",
        "\n",
        "#Tratamento de dados Faltantes\n",
        "df_ordenado['email'].fillna(\"sem_email\", inplace=True) #NaN\n",
        "df_ordenado['email'].replace(\"\",\"NaN\", inplace=True) #NaN\n",
        "# print(df_ordenado)\n",
        "\n",
        "#Agrupar por uma coluna e calcular a média\n",
        "df_agrupado = df_ordenado.groupby('Escolaridade')[['Idade','Total de anos trabalhados']].mean()\n",
        "# print(df_agrupado)\n",
        "\n",
        "#Adicionar a coluna com a categorização\n",
        "def categorizar(row):\n",
        "  if row['Total de anos trabalhados'] > 0 and row['Total de anos trabalhados'] <=12:\n",
        "    return 'Novato'\n",
        "  elif row['Total de anos trabalhados'] > 12 and row['Total de anos trabalhados'] <=20:\n",
        "    return 'Intermédiário'\n",
        "  elif row['Total de anos trabalhados'] > 20:\n",
        "    return 'Vetereno'\n",
        "  else:\n",
        "    return 'Sem experiência'\n",
        "\n",
        "df_agrupado['Categoria'] = df_agrupado.apply(categorizar, axis=1)\n",
        "print(df_agrupado)\n",
        "\n",
        "#axis=0 eixo de linhas ou eixo vertical (analiso coluna a coluna)\n",
        "#axis=1 eixo de coluna ou eixo horizontal(analiso linha a linha)\n",
        "\n",
        "\n",
        "\n",
        "\n"
      ],
      "metadata": {
        "colab": {
          "base_uri": "https://localhost:8080/"
        },
        "collapsed": true,
        "id": "i6ZKBvYrPQlK",
        "outputId": "44c613e6-aee2-4b65-8e4d-b39e65d74698"
      },
      "execution_count": null,
      "outputs": [
        {
          "output_type": "stream",
          "name": "stdout",
          "text": [
            "                  Idade  Total de anos trabalhados      Categoria\n",
            "Escolaridade                                                     \n",
            "1             41.476190                  12.952381  Intermédiário\n",
            "2             40.215385                  11.969231         Novato\n",
            "3             40.530435                  14.060870  Intermédiário\n",
            "4             39.252174                  12.660870  Intermédiário\n",
            "5             42.071429                  14.500000  Intermédiário\n"
          ]
        },
        {
          "output_type": "stream",
          "name": "stderr",
          "text": [
            "<ipython-input-11-317c24226eda>:36: SettingWithCopyWarning: \n",
            "A value is trying to be set on a copy of a slice from a DataFrame\n",
            "\n",
            "See the caveats in the documentation: https://pandas.pydata.org/pandas-docs/stable/user_guide/indexing.html#returning-a-view-versus-a-copy\n",
            "  df_ordenado['email'].fillna(\"sem_email\", inplace=True) #NaN\n",
            "<ipython-input-11-317c24226eda>:37: SettingWithCopyWarning: \n",
            "A value is trying to be set on a copy of a slice from a DataFrame\n",
            "\n",
            "See the caveats in the documentation: https://pandas.pydata.org/pandas-docs/stable/user_guide/indexing.html#returning-a-view-versus-a-copy\n",
            "  df_ordenado['email'].replace(\"\",\"NaN\", inplace=True) #NaN\n"
          ]
        }
      ]
    },
    {
      "cell_type": "code",
      "source": [
        "import pandas as pd\n",
        "\n",
        "#Criação de um DataFrame de exemplo\n",
        "dados = {\n",
        "    'Idade': [25,32,40,29],\n",
        "    'Anos_Trabalhados': [3,10,20,15],\n",
        "    'Salario': [5000,6000,8000,5500]\n",
        "}\n",
        "\n",
        "df=pd.DataFrame(dados)\n",
        "\n",
        "#Somando os valores de cada coluna usando axis=0\n",
        "soma_colunas = df.sum(axis=0)\n",
        "# print(soma_colunas)\n",
        "\n",
        "#Somando os valores de cada linha usando axis=1\n",
        "soma_linhas = df.sum(axis=1)\n",
        "print(soma_linhas)\n",
        "\n",
        "\n"
      ],
      "metadata": {
        "colab": {
          "base_uri": "https://localhost:8080/"
        },
        "id": "oPT54kCnqglL",
        "outputId": "d591db77-971d-4bf3-8df5-cf93b82cf946"
      },
      "execution_count": null,
      "outputs": [
        {
          "output_type": "stream",
          "name": "stdout",
          "text": [
            "0    5028\n",
            "1    6042\n",
            "2    8060\n",
            "3    5544\n",
            "dtype: int64\n"
          ]
        }
      ]
    },
    {
      "cell_type": "code",
      "source": [
        "import pandas as pd\n",
        "import numpy as np\n",
        "from IPython.display import display\n",
        "\n",
        "# Criando um DataFrame de exemplo\n",
        "data = {\n",
        "    'nome': ['Ana', 'Bruno', 'Carla', 'Daniel', 'Eduarda', 'Felipe', 'Gabriela', 'Henrique'],\n",
        "    'idade': [23, 45, np.nan, 36, 29, 41, 30, 36],\n",
        "    'cidade': ['São Paulo', 'Rio de Janeiro', 'São Paulo', 'Rio de Janeiro', np.nan, 'São Paulo', 'Salvador', 'São Paulo'],\n",
        "    'salario': [3000, 5000, 4500, np.nan, 3800, 5200, np.nan, 4800],\n",
        "    'categoria': ['A', 'B', 'A', 'B', 'A', 'B', 'A', 'B']\n",
        "}\n",
        "\n",
        "df = pd.DataFrame(data)\n",
        "# print(df)\n",
        "\n",
        "## Remover Duplicatas\n",
        "df = df.drop_duplicates()\n",
        "# print(df)\n",
        "\n",
        "##Tratar Dados Faltantes\n",
        "## Detectar os dados faltantes\n",
        "# print(df.isnull().sum()) # Conta os valores ausentes por coluna\n",
        "\n",
        "## Preencher os valores faltantes idade e salario\n",
        "df['idade'] = df['idade'].fillna(df['idade'].mean())\n",
        "df['salario'] = df['salario'].fillna(df['salario'].mean())\n",
        "\n",
        "# Preencher valores faltantes em cidade com \"desconhecida\"\n",
        "df['cidade'] = df['cidade'].fillna('Desconhecida')\n",
        "# print(df)\n",
        "\n",
        "## Filtrar Dados\n",
        "df_filtrado = df[(df['idade']>30) & (df['cidade'] == 'São Paulo')]\n",
        "# print(df_filtrado)\n",
        "\n",
        "## Alterar Tipos de Dados\n",
        "df['idade'] = pd.to_numeric(df['idade'], errors='coerce')\n",
        "df['categoria'] = df['categoria'].astype('category')\n",
        "# print(df.dtypes)\n",
        "\n",
        "## Renomear Colunas\n",
        "df = df.rename(columns={'salario': 'salario_bruto'})\n",
        "# print(df)\n",
        "\n",
        "##Alterar a ordem das Colunas\n",
        "df = df[['nome', 'cidade', 'idade', 'salario_bruto', 'categoria']]\n",
        "# print(df)\n",
        "\n",
        "##Manipulando String\n",
        "df['nome'] = df['nome'].str.upper()\n",
        "# print(df)\n",
        "\n",
        "##Aplicar Funções Personalizadas\n",
        "def calcular_imposto(salario):\n",
        "  return salario * 0.1\n",
        "\n",
        "df['imposto'] = df['salario_bruto'].apply(calcular_imposto)\n",
        "# print(df)\n",
        "\n",
        "##Classificação e Ordenação\n",
        "df = df.sort_values(by='idade', ascending=True)\n",
        "# print(df)\n",
        "\n",
        "## Agrupamento e Agregação\n",
        "df_agrupado = df.groupby('categoria')['salario_bruto'].mean()\n",
        "# print(df_agrupado)\n",
        "\n",
        "## Remoção de Colunas\n",
        "df = df.drop(columns=['imposto'])\n",
        "# print(df)\n",
        "\n",
        "##Criar uma nova coluna 'faixa_etaria' baseada na idade\n",
        "df['faixa_etaria'] = df['idade'].apply(lambda x: 'Jovem' if x < 30 else 'Adulto')\n",
        "# print(df)\n",
        "\n",
        "## Remover Linhas ou Colunas com Base em Condições Específicas\n",
        "# Remover linhas onde o valor da coluna 'salario_bruto' é menor que 3500\n",
        "df2 = df[df['salario_bruto'] < 3500]\n",
        "# print(df2)\n",
        "\n",
        "# Remover colunas onde o número de valores ausentes é maior que 2\n",
        "# df = df.dropna(axis=1, thresh=2)\n",
        "# print(df)\n",
        "\n",
        "\n",
        "#Aplicar Funções Lambda a Multiplas colunas\n",
        "df['soma_salario_idade'] = df.apply(lambda linha: linha['salario_bruto'] + linha['idade'], axis=1)\n",
        "# print(df)\n",
        "\n",
        "display(df)"
      ],
      "metadata": {
        "colab": {
          "base_uri": "https://localhost:8080/",
          "height": 390
        },
        "collapsed": true,
        "id": "crEVcIxSv7b4",
        "outputId": "68d74263-7638-4523-8f52-2ab5bb92ec33"
      },
      "execution_count": null,
      "outputs": [
        {
          "output_type": "stream",
          "name": "stderr",
          "text": [
            "<ipython-input-19-ab6aa5c873f8>:66: FutureWarning: The default of observed=False is deprecated and will be changed to True in a future version of pandas. Pass observed=False to retain current behavior or observed=True to adopt the future default and silence this warning.\n",
            "  df_agrupado = df.groupby('categoria')['salario_bruto'].mean()\n"
          ]
        },
        {
          "output_type": "display_data",
          "data": {
            "text/plain": [
              "       nome          cidade      idade  salario_bruto categoria faixa_etaria  \\\n",
              "0       ANA       São Paulo  23.000000    3000.000000         A        Jovem   \n",
              "4   EDUARDA    Desconhecida  29.000000    3800.000000         A        Jovem   \n",
              "6  GABRIELA        Salvador  30.000000    4383.333333         A       Adulto   \n",
              "2     CARLA       São Paulo  34.285714    4500.000000         A       Adulto   \n",
              "3    DANIEL  Rio de Janeiro  36.000000    4383.333333         B       Adulto   \n",
              "7  HENRIQUE       São Paulo  36.000000    4800.000000         B       Adulto   \n",
              "5    FELIPE       São Paulo  41.000000    5200.000000         B       Adulto   \n",
              "1     BRUNO  Rio de Janeiro  45.000000    5000.000000         B       Adulto   \n",
              "\n",
              "   soma_salario_idade  \n",
              "0         3023.000000  \n",
              "4         3829.000000  \n",
              "6         4413.333333  \n",
              "2         4534.285714  \n",
              "3         4419.333333  \n",
              "7         4836.000000  \n",
              "5         5241.000000  \n",
              "1         5045.000000  "
            ],
            "text/html": [
              "\n",
              "  <div id=\"df-df29f316-c86c-491d-ada3-0f6553d05d98\" class=\"colab-df-container\">\n",
              "    <div>\n",
              "<style scoped>\n",
              "    .dataframe tbody tr th:only-of-type {\n",
              "        vertical-align: middle;\n",
              "    }\n",
              "\n",
              "    .dataframe tbody tr th {\n",
              "        vertical-align: top;\n",
              "    }\n",
              "\n",
              "    .dataframe thead th {\n",
              "        text-align: right;\n",
              "    }\n",
              "</style>\n",
              "<table border=\"1\" class=\"dataframe\">\n",
              "  <thead>\n",
              "    <tr style=\"text-align: right;\">\n",
              "      <th></th>\n",
              "      <th>nome</th>\n",
              "      <th>cidade</th>\n",
              "      <th>idade</th>\n",
              "      <th>salario_bruto</th>\n",
              "      <th>categoria</th>\n",
              "      <th>faixa_etaria</th>\n",
              "      <th>soma_salario_idade</th>\n",
              "    </tr>\n",
              "  </thead>\n",
              "  <tbody>\n",
              "    <tr>\n",
              "      <th>0</th>\n",
              "      <td>ANA</td>\n",
              "      <td>São Paulo</td>\n",
              "      <td>23.000000</td>\n",
              "      <td>3000.000000</td>\n",
              "      <td>A</td>\n",
              "      <td>Jovem</td>\n",
              "      <td>3023.000000</td>\n",
              "    </tr>\n",
              "    <tr>\n",
              "      <th>4</th>\n",
              "      <td>EDUARDA</td>\n",
              "      <td>Desconhecida</td>\n",
              "      <td>29.000000</td>\n",
              "      <td>3800.000000</td>\n",
              "      <td>A</td>\n",
              "      <td>Jovem</td>\n",
              "      <td>3829.000000</td>\n",
              "    </tr>\n",
              "    <tr>\n",
              "      <th>6</th>\n",
              "      <td>GABRIELA</td>\n",
              "      <td>Salvador</td>\n",
              "      <td>30.000000</td>\n",
              "      <td>4383.333333</td>\n",
              "      <td>A</td>\n",
              "      <td>Adulto</td>\n",
              "      <td>4413.333333</td>\n",
              "    </tr>\n",
              "    <tr>\n",
              "      <th>2</th>\n",
              "      <td>CARLA</td>\n",
              "      <td>São Paulo</td>\n",
              "      <td>34.285714</td>\n",
              "      <td>4500.000000</td>\n",
              "      <td>A</td>\n",
              "      <td>Adulto</td>\n",
              "      <td>4534.285714</td>\n",
              "    </tr>\n",
              "    <tr>\n",
              "      <th>3</th>\n",
              "      <td>DANIEL</td>\n",
              "      <td>Rio de Janeiro</td>\n",
              "      <td>36.000000</td>\n",
              "      <td>4383.333333</td>\n",
              "      <td>B</td>\n",
              "      <td>Adulto</td>\n",
              "      <td>4419.333333</td>\n",
              "    </tr>\n",
              "    <tr>\n",
              "      <th>7</th>\n",
              "      <td>HENRIQUE</td>\n",
              "      <td>São Paulo</td>\n",
              "      <td>36.000000</td>\n",
              "      <td>4800.000000</td>\n",
              "      <td>B</td>\n",
              "      <td>Adulto</td>\n",
              "      <td>4836.000000</td>\n",
              "    </tr>\n",
              "    <tr>\n",
              "      <th>5</th>\n",
              "      <td>FELIPE</td>\n",
              "      <td>São Paulo</td>\n",
              "      <td>41.000000</td>\n",
              "      <td>5200.000000</td>\n",
              "      <td>B</td>\n",
              "      <td>Adulto</td>\n",
              "      <td>5241.000000</td>\n",
              "    </tr>\n",
              "    <tr>\n",
              "      <th>1</th>\n",
              "      <td>BRUNO</td>\n",
              "      <td>Rio de Janeiro</td>\n",
              "      <td>45.000000</td>\n",
              "      <td>5000.000000</td>\n",
              "      <td>B</td>\n",
              "      <td>Adulto</td>\n",
              "      <td>5045.000000</td>\n",
              "    </tr>\n",
              "  </tbody>\n",
              "</table>\n",
              "</div>\n",
              "    <div class=\"colab-df-buttons\">\n",
              "\n",
              "  <div class=\"colab-df-container\">\n",
              "    <button class=\"colab-df-convert\" onclick=\"convertToInteractive('df-df29f316-c86c-491d-ada3-0f6553d05d98')\"\n",
              "            title=\"Convert this dataframe to an interactive table.\"\n",
              "            style=\"display:none;\">\n",
              "\n",
              "  <svg xmlns=\"http://www.w3.org/2000/svg\" height=\"24px\" viewBox=\"0 -960 960 960\">\n",
              "    <path d=\"M120-120v-720h720v720H120Zm60-500h600v-160H180v160Zm220 220h160v-160H400v160Zm0 220h160v-160H400v160ZM180-400h160v-160H180v160Zm440 0h160v-160H620v160ZM180-180h160v-160H180v160Zm440 0h160v-160H620v160Z\"/>\n",
              "  </svg>\n",
              "    </button>\n",
              "\n",
              "  <style>\n",
              "    .colab-df-container {\n",
              "      display:flex;\n",
              "      gap: 12px;\n",
              "    }\n",
              "\n",
              "    .colab-df-convert {\n",
              "      background-color: #E8F0FE;\n",
              "      border: none;\n",
              "      border-radius: 50%;\n",
              "      cursor: pointer;\n",
              "      display: none;\n",
              "      fill: #1967D2;\n",
              "      height: 32px;\n",
              "      padding: 0 0 0 0;\n",
              "      width: 32px;\n",
              "    }\n",
              "\n",
              "    .colab-df-convert:hover {\n",
              "      background-color: #E2EBFA;\n",
              "      box-shadow: 0px 1px 2px rgba(60, 64, 67, 0.3), 0px 1px 3px 1px rgba(60, 64, 67, 0.15);\n",
              "      fill: #174EA6;\n",
              "    }\n",
              "\n",
              "    .colab-df-buttons div {\n",
              "      margin-bottom: 4px;\n",
              "    }\n",
              "\n",
              "    [theme=dark] .colab-df-convert {\n",
              "      background-color: #3B4455;\n",
              "      fill: #D2E3FC;\n",
              "    }\n",
              "\n",
              "    [theme=dark] .colab-df-convert:hover {\n",
              "      background-color: #434B5C;\n",
              "      box-shadow: 0px 1px 3px 1px rgba(0, 0, 0, 0.15);\n",
              "      filter: drop-shadow(0px 1px 2px rgba(0, 0, 0, 0.3));\n",
              "      fill: #FFFFFF;\n",
              "    }\n",
              "  </style>\n",
              "\n",
              "    <script>\n",
              "      const buttonEl =\n",
              "        document.querySelector('#df-df29f316-c86c-491d-ada3-0f6553d05d98 button.colab-df-convert');\n",
              "      buttonEl.style.display =\n",
              "        google.colab.kernel.accessAllowed ? 'block' : 'none';\n",
              "\n",
              "      async function convertToInteractive(key) {\n",
              "        const element = document.querySelector('#df-df29f316-c86c-491d-ada3-0f6553d05d98');\n",
              "        const dataTable =\n",
              "          await google.colab.kernel.invokeFunction('convertToInteractive',\n",
              "                                                    [key], {});\n",
              "        if (!dataTable) return;\n",
              "\n",
              "        const docLinkHtml = 'Like what you see? Visit the ' +\n",
              "          '<a target=\"_blank\" href=https://colab.research.google.com/notebooks/data_table.ipynb>data table notebook</a>'\n",
              "          + ' to learn more about interactive tables.';\n",
              "        element.innerHTML = '';\n",
              "        dataTable['output_type'] = 'display_data';\n",
              "        await google.colab.output.renderOutput(dataTable, element);\n",
              "        const docLink = document.createElement('div');\n",
              "        docLink.innerHTML = docLinkHtml;\n",
              "        element.appendChild(docLink);\n",
              "      }\n",
              "    </script>\n",
              "  </div>\n",
              "\n",
              "\n",
              "<div id=\"df-b30310ab-3312-4602-bf4f-bb76079da154\">\n",
              "  <button class=\"colab-df-quickchart\" onclick=\"quickchart('df-b30310ab-3312-4602-bf4f-bb76079da154')\"\n",
              "            title=\"Suggest charts\"\n",
              "            style=\"display:none;\">\n",
              "\n",
              "<svg xmlns=\"http://www.w3.org/2000/svg\" height=\"24px\"viewBox=\"0 0 24 24\"\n",
              "     width=\"24px\">\n",
              "    <g>\n",
              "        <path d=\"M19 3H5c-1.1 0-2 .9-2 2v14c0 1.1.9 2 2 2h14c1.1 0 2-.9 2-2V5c0-1.1-.9-2-2-2zM9 17H7v-7h2v7zm4 0h-2V7h2v10zm4 0h-2v-4h2v4z\"/>\n",
              "    </g>\n",
              "</svg>\n",
              "  </button>\n",
              "\n",
              "<style>\n",
              "  .colab-df-quickchart {\n",
              "      --bg-color: #E8F0FE;\n",
              "      --fill-color: #1967D2;\n",
              "      --hover-bg-color: #E2EBFA;\n",
              "      --hover-fill-color: #174EA6;\n",
              "      --disabled-fill-color: #AAA;\n",
              "      --disabled-bg-color: #DDD;\n",
              "  }\n",
              "\n",
              "  [theme=dark] .colab-df-quickchart {\n",
              "      --bg-color: #3B4455;\n",
              "      --fill-color: #D2E3FC;\n",
              "      --hover-bg-color: #434B5C;\n",
              "      --hover-fill-color: #FFFFFF;\n",
              "      --disabled-bg-color: #3B4455;\n",
              "      --disabled-fill-color: #666;\n",
              "  }\n",
              "\n",
              "  .colab-df-quickchart {\n",
              "    background-color: var(--bg-color);\n",
              "    border: none;\n",
              "    border-radius: 50%;\n",
              "    cursor: pointer;\n",
              "    display: none;\n",
              "    fill: var(--fill-color);\n",
              "    height: 32px;\n",
              "    padding: 0;\n",
              "    width: 32px;\n",
              "  }\n",
              "\n",
              "  .colab-df-quickchart:hover {\n",
              "    background-color: var(--hover-bg-color);\n",
              "    box-shadow: 0 1px 2px rgba(60, 64, 67, 0.3), 0 1px 3px 1px rgba(60, 64, 67, 0.15);\n",
              "    fill: var(--button-hover-fill-color);\n",
              "  }\n",
              "\n",
              "  .colab-df-quickchart-complete:disabled,\n",
              "  .colab-df-quickchart-complete:disabled:hover {\n",
              "    background-color: var(--disabled-bg-color);\n",
              "    fill: var(--disabled-fill-color);\n",
              "    box-shadow: none;\n",
              "  }\n",
              "\n",
              "  .colab-df-spinner {\n",
              "    border: 2px solid var(--fill-color);\n",
              "    border-color: transparent;\n",
              "    border-bottom-color: var(--fill-color);\n",
              "    animation:\n",
              "      spin 1s steps(1) infinite;\n",
              "  }\n",
              "\n",
              "  @keyframes spin {\n",
              "    0% {\n",
              "      border-color: transparent;\n",
              "      border-bottom-color: var(--fill-color);\n",
              "      border-left-color: var(--fill-color);\n",
              "    }\n",
              "    20% {\n",
              "      border-color: transparent;\n",
              "      border-left-color: var(--fill-color);\n",
              "      border-top-color: var(--fill-color);\n",
              "    }\n",
              "    30% {\n",
              "      border-color: transparent;\n",
              "      border-left-color: var(--fill-color);\n",
              "      border-top-color: var(--fill-color);\n",
              "      border-right-color: var(--fill-color);\n",
              "    }\n",
              "    40% {\n",
              "      border-color: transparent;\n",
              "      border-right-color: var(--fill-color);\n",
              "      border-top-color: var(--fill-color);\n",
              "    }\n",
              "    60% {\n",
              "      border-color: transparent;\n",
              "      border-right-color: var(--fill-color);\n",
              "    }\n",
              "    80% {\n",
              "      border-color: transparent;\n",
              "      border-right-color: var(--fill-color);\n",
              "      border-bottom-color: var(--fill-color);\n",
              "    }\n",
              "    90% {\n",
              "      border-color: transparent;\n",
              "      border-bottom-color: var(--fill-color);\n",
              "    }\n",
              "  }\n",
              "</style>\n",
              "\n",
              "  <script>\n",
              "    async function quickchart(key) {\n",
              "      const quickchartButtonEl =\n",
              "        document.querySelector('#' + key + ' button');\n",
              "      quickchartButtonEl.disabled = true;  // To prevent multiple clicks.\n",
              "      quickchartButtonEl.classList.add('colab-df-spinner');\n",
              "      try {\n",
              "        const charts = await google.colab.kernel.invokeFunction(\n",
              "            'suggestCharts', [key], {});\n",
              "      } catch (error) {\n",
              "        console.error('Error during call to suggestCharts:', error);\n",
              "      }\n",
              "      quickchartButtonEl.classList.remove('colab-df-spinner');\n",
              "      quickchartButtonEl.classList.add('colab-df-quickchart-complete');\n",
              "    }\n",
              "    (() => {\n",
              "      let quickchartButtonEl =\n",
              "        document.querySelector('#df-b30310ab-3312-4602-bf4f-bb76079da154 button');\n",
              "      quickchartButtonEl.style.display =\n",
              "        google.colab.kernel.accessAllowed ? 'block' : 'none';\n",
              "    })();\n",
              "  </script>\n",
              "</div>\n",
              "\n",
              "  <div id=\"id_2f954d56-8405-46eb-9e80-c3ad401760fe\">\n",
              "    <style>\n",
              "      .colab-df-generate {\n",
              "        background-color: #E8F0FE;\n",
              "        border: none;\n",
              "        border-radius: 50%;\n",
              "        cursor: pointer;\n",
              "        display: none;\n",
              "        fill: #1967D2;\n",
              "        height: 32px;\n",
              "        padding: 0 0 0 0;\n",
              "        width: 32px;\n",
              "      }\n",
              "\n",
              "      .colab-df-generate:hover {\n",
              "        background-color: #E2EBFA;\n",
              "        box-shadow: 0px 1px 2px rgba(60, 64, 67, 0.3), 0px 1px 3px 1px rgba(60, 64, 67, 0.15);\n",
              "        fill: #174EA6;\n",
              "      }\n",
              "\n",
              "      [theme=dark] .colab-df-generate {\n",
              "        background-color: #3B4455;\n",
              "        fill: #D2E3FC;\n",
              "      }\n",
              "\n",
              "      [theme=dark] .colab-df-generate:hover {\n",
              "        background-color: #434B5C;\n",
              "        box-shadow: 0px 1px 3px 1px rgba(0, 0, 0, 0.15);\n",
              "        filter: drop-shadow(0px 1px 2px rgba(0, 0, 0, 0.3));\n",
              "        fill: #FFFFFF;\n",
              "      }\n",
              "    </style>\n",
              "    <button class=\"colab-df-generate\" onclick=\"generateWithVariable('df')\"\n",
              "            title=\"Generate code using this dataframe.\"\n",
              "            style=\"display:none;\">\n",
              "\n",
              "  <svg xmlns=\"http://www.w3.org/2000/svg\" height=\"24px\"viewBox=\"0 0 24 24\"\n",
              "       width=\"24px\">\n",
              "    <path d=\"M7,19H8.4L18.45,9,17,7.55,7,17.6ZM5,21V16.75L18.45,3.32a2,2,0,0,1,2.83,0l1.4,1.43a1.91,1.91,0,0,1,.58,1.4,1.91,1.91,0,0,1-.58,1.4L9.25,21ZM18.45,9,17,7.55Zm-12,3A5.31,5.31,0,0,0,4.9,8.1,5.31,5.31,0,0,0,1,6.5,5.31,5.31,0,0,0,4.9,4.9,5.31,5.31,0,0,0,6.5,1,5.31,5.31,0,0,0,8.1,4.9,5.31,5.31,0,0,0,12,6.5,5.46,5.46,0,0,0,6.5,12Z\"/>\n",
              "  </svg>\n",
              "    </button>\n",
              "    <script>\n",
              "      (() => {\n",
              "      const buttonEl =\n",
              "        document.querySelector('#id_2f954d56-8405-46eb-9e80-c3ad401760fe button.colab-df-generate');\n",
              "      buttonEl.style.display =\n",
              "        google.colab.kernel.accessAllowed ? 'block' : 'none';\n",
              "\n",
              "      buttonEl.onclick = () => {\n",
              "        google.colab.notebook.generateWithVariable('df');\n",
              "      }\n",
              "      })();\n",
              "    </script>\n",
              "  </div>\n",
              "\n",
              "    </div>\n",
              "  </div>\n"
            ],
            "application/vnd.google.colaboratory.intrinsic+json": {
              "type": "dataframe",
              "variable_name": "df",
              "summary": "{\n  \"name\": \"df\",\n  \"rows\": 8,\n  \"fields\": [\n    {\n      \"column\": \"nome\",\n      \"properties\": {\n        \"dtype\": \"string\",\n        \"num_unique_values\": 8,\n        \"samples\": [\n          \"EDUARDA\",\n          \"HENRIQUE\",\n          \"ANA\"\n        ],\n        \"semantic_type\": \"\",\n        \"description\": \"\"\n      }\n    },\n    {\n      \"column\": \"cidade\",\n      \"properties\": {\n        \"dtype\": \"string\",\n        \"num_unique_values\": 4,\n        \"samples\": [\n          \"Desconhecida\",\n          \"Rio de Janeiro\",\n          \"S\\u00e3o Paulo\"\n        ],\n        \"semantic_type\": \"\",\n        \"description\": \"\"\n      }\n    },\n    {\n      \"column\": \"idade\",\n      \"properties\": {\n        \"dtype\": \"number\",\n        \"std\": 6.963461489687966,\n        \"min\": 23.0,\n        \"max\": 45.0,\n        \"num_unique_values\": 7,\n        \"samples\": [\n          23.0,\n          29.0,\n          41.0\n        ],\n        \"semantic_type\": \"\",\n        \"description\": \"\"\n      }\n    },\n    {\n      \"column\": \"salario_bruto\",\n      \"properties\": {\n        \"dtype\": \"number\",\n        \"std\": 705.927286151579,\n        \"min\": 3000.0,\n        \"max\": 5200.0,\n        \"num_unique_values\": 7,\n        \"samples\": [\n          3000.0,\n          3800.0,\n          5200.0\n        ],\n        \"semantic_type\": \"\",\n        \"description\": \"\"\n      }\n    },\n    {\n      \"column\": \"categoria\",\n      \"properties\": {\n        \"dtype\": \"category\",\n        \"num_unique_values\": 2,\n        \"samples\": [\n          \"B\",\n          \"A\"\n        ],\n        \"semantic_type\": \"\",\n        \"description\": \"\"\n      }\n    },\n    {\n      \"column\": \"faixa_etaria\",\n      \"properties\": {\n        \"dtype\": \"category\",\n        \"num_unique_values\": 2,\n        \"samples\": [\n          \"Adulto\",\n          \"Jovem\"\n        ],\n        \"semantic_type\": \"\",\n        \"description\": \"\"\n      }\n    },\n    {\n      \"column\": \"soma_salario_idade\",\n      \"properties\": {\n        \"dtype\": \"number\",\n        \"std\": 712.307393706714,\n        \"min\": 3023.0,\n        \"max\": 5241.0,\n        \"num_unique_values\": 8,\n        \"samples\": [\n          3829.0,\n          4836.0\n        ],\n        \"semantic_type\": \"\",\n        \"description\": \"\"\n      }\n    }\n  ]\n}"
            }
          },
          "metadata": {}
        }
      ]
    },
    {
      "cell_type": "code",
      "source": [],
      "metadata": {
        "id": "qAWeoz8zgn3v"
      },
      "execution_count": null,
      "outputs": []
    },
    {
      "cell_type": "code",
      "source": [
        "import pandas as pd\n",
        "import numpy as np\n",
        "\n",
        "data = {\n",
        "    'A': [1, 2, np.nan, 4],\n",
        "    'B': [np.nan, np.nan, np.nan, 8],\n",
        "    'C': [1, np.nan, 3, 4],\n",
        "    'D': [np.nan, np.nan, np.nan, np.nan]\n",
        "}\n",
        "df = pd.DataFrame(data)\n",
        "\n",
        "print(\"Data Frame Original\")\n",
        "print(df)\n",
        "\n",
        "df2 = df.dropna(axis=1, thresh=2)\n",
        "print(\"Data Frame Após Remover\")\n",
        "print(df2)\n",
        "\n"
      ],
      "metadata": {
        "colab": {
          "base_uri": "https://localhost:8080/"
        },
        "id": "YdqlVTDmbiYr",
        "outputId": "f2e92af5-610a-4d44-c3fa-d5de02977db9",
        "collapsed": true
      },
      "execution_count": null,
      "outputs": [
        {
          "output_type": "stream",
          "name": "stdout",
          "text": [
            "Data Frame Original\n",
            "     A    B    C   D\n",
            "0  1.0  NaN  1.0 NaN\n",
            "1  2.0  NaN  NaN NaN\n",
            "2  NaN  NaN  3.0 NaN\n",
            "3  4.0  8.0  4.0 NaN\n",
            "Data Frame Após Remover\n",
            "     A    C\n",
            "0  1.0  1.0\n",
            "1  2.0  NaN\n",
            "2  NaN  3.0\n",
            "3  4.0  4.0\n"
          ]
        }
      ]
    },
    {
      "cell_type": "code",
      "source": [
        "import pandas as pd\n",
        "import numpy as np\n",
        "\n",
        "# Dados do DataFrame\n",
        "data = {\n",
        "    'A': [1, 2, np.nan, 4],\n",
        "    'B': [np.nan, np.nan, np.nan, 8],\n",
        "    'C': [1, np.nan, 3, 4],\n",
        "    'D': [np.nan, np.nan, np.nan, np.nan]\n",
        "}\n",
        "df = pd.DataFrame(data)\n",
        "\n",
        "# Exibe o DataFrame original\n",
        "print(\"Data Frame Original\")\n",
        "print(df)\n",
        "\n",
        "# Exporta o DataFrame como CSV\n",
        "df.to_csv('dataframe_exportado.csv', index=False)\n",
        "\n",
        "print(\"\\nDataFrame exportado como 'dataframe_exportado.csv'\")\n"
      ],
      "metadata": {
        "id": "pbxzB5IjDzVm",
        "outputId": "9def9c9b-99be-4a4d-cc3a-fb210d9e6f51",
        "colab": {
          "base_uri": "https://localhost:8080/"
        }
      },
      "execution_count": null,
      "outputs": [
        {
          "output_type": "stream",
          "name": "stdout",
          "text": [
            "Data Frame Original\n",
            "     A    B    C   D\n",
            "0  1.0  NaN  1.0 NaN\n",
            "1  2.0  NaN  NaN NaN\n",
            "2  NaN  NaN  3.0 NaN\n",
            "3  4.0  8.0  4.0 NaN\n",
            "\n",
            "DataFrame exportado como 'dataframe_exportado.csv'\n"
          ]
        }
      ]
    },
    {
      "cell_type": "code",
      "source": [
        "import pandas as pd\n",
        "from datetime import datetime\n",
        "from IPython.display import display\n",
        "\n",
        "\n",
        "# Exemplo de dataset\n",
        "data = {\n",
        "    'nome': ['Ana Silva', 'Bruno Costa', 'Carla Souza', 'Diego Pereira', 'Eliana Rocha'],\n",
        "    'data_nascimento': ['1990-05-10', '1990-11-22', '1999-11-03', '1988-08-15', '1995-03-30'],\n",
        "    'salario': [4500, 5500, 5000, 6000, 4800]\n",
        "}\n",
        "df = pd.DataFrame(data)\n",
        "\n",
        "# saida\n",
        "# print(df)\n",
        "\n",
        "# Converter a coluna 'data_nascimento' para datetime\n",
        "df['data_nascimento'] = pd.to_datetime(df['data_nascimento'])\n",
        "# print(df)\n",
        "\n",
        "# Extrair componentes de uma data\n",
        "df['ano'] = df['data_nascimento'].dt.year\n",
        "df['mes'] = df['data_nascimento'].dt.month\n",
        "df['dia'] = df['data_nascimento'].dt.day\n",
        "#Exibir o DataFrame\n",
        "# print(df)\n",
        "\n",
        "# Distribuir funcionarios por ano de nascimento\n",
        "nasc_por_ano = df['ano'].value_counts().sort_index()\n",
        "# print(nasc_por_ano)\n",
        "\n",
        "# Distribuir funcionarios por mês de nascimento\n",
        "nasc_por_mes = df['mes'].value_counts().sort_index()\n",
        "# print(nasc_por_mes)\n",
        "\n",
        "# Salario médio por ano nascimento\n",
        "salario_medio_por_ano = df.groupby('ano')['salario'].mean()\n",
        "# print(salario_medio_por_ano)\n",
        "\n",
        "# Funcionário mais jovem e o mais velho\n",
        "mais_jovem = df[df['data_nascimento'] == df['data_nascimento'].max()]\n",
        "# print(mais_jovem)\n",
        "\n",
        "mais_velho = df[df['data_nascimento'] == df['data_nascimento'].min()]\n",
        "# print(mais_velho)\n",
        "\n",
        "# Distribuição Salarial\n",
        "descricao_salarios = df['salario'].describe()\n",
        "# print(descricao_salarios)\n",
        "\n",
        "#Criar um novo DF para armazenar os resultados do describe\n",
        "descricao_df = pd.DataFrame(descricao_salarios).transpose()\n",
        "# print(descricao_df)\n",
        "\n",
        "#Renomear as colunas\n",
        "descricao_df.columns = ['total', 'media', 'desvio_padrao', 'minimo', 'Q1', 'Mediana', 'Q3', 'maximo']\n",
        "# print(descricao_df)\n",
        "\n",
        "# Formatar a data no formato 'dd/mm/yyyy'\n",
        "df['data_nascimento'] = df['data_nascimento'].dt.strftime('%d/%m/%Y')\n",
        "# print(df)\n",
        "# Exibir o DataFrame com a data formatada\n",
        "# print(df[['nome', 'data_nascimento', 'salario']])\n",
        "\n",
        "# Exporta o DataFrame como CSV\n",
        "df.to_csv('nome_data_formatada.csv', index=False)\n",
        "\n",
        "# Funcionarios por faixa etária\n",
        "# Calcular idade dos funcionarios\n",
        "df['idade'] = datetime.now().year - df['ano']\n",
        "\n",
        "#Criar faixas etárias\n",
        "cortes = [20,30,40,50,60]\n",
        "rotulos = ['20-29', '30-39', '40-49', '50-59']\n",
        "df['faixa_etaria'] = pd.cut(df['idade'], bins=cortes, labels=rotulos, right=False)\n",
        "\n",
        "#Contagem por faixa etária\n",
        "contagem_por_faixa = df['faixa_etaria'].value_counts()\n",
        "#Saída\n",
        "# print(contagem_por_faixa)\n",
        "\n",
        "# display(df)\n",
        "\n",
        "# Media Salarial por faixa etária\n",
        "salario_medio_por_faixa_etaria = df.groupby('faixa_etaria')['salario'].mean()\n",
        "# display(salario_medio_por_faixa_etaria)\n",
        "\n",
        "# Funcionario aniversariante do mês\n",
        "# Identificar o mês atual\n",
        "mes_atual = datetime.now().month\n",
        "#Filtrar funcionarios que fazem aniversario no mês atual\n",
        "aniversariantes_mes_atual = df[df['mes'] == mes_atual]\n",
        "display(aniversariantes_mes_atual)\n",
        "\n",
        "\n",
        "\n",
        "\n",
        "\n",
        "\n",
        "\n",
        "\n",
        "\n"
      ],
      "metadata": {
        "colab": {
          "base_uri": "https://localhost:8080/",
          "height": 145
        },
        "collapsed": true,
        "id": "S2ZLB9Kkt7XH",
        "outputId": "1135fd9c-bd2e-4fa9-c24e-d4782407b417"
      },
      "execution_count": null,
      "outputs": [
        {
          "output_type": "stream",
          "name": "stderr",
          "text": [
            "<ipython-input-35-fc9520be4bf4>:85: FutureWarning: The default of observed=False is deprecated and will be changed to True in a future version of pandas. Pass observed=False to retain current behavior or observed=True to adopt the future default and silence this warning.\n",
            "  salario_medio_por_faixa_etaria = df.groupby('faixa_etaria')['salario'].mean()\n"
          ]
        },
        {
          "output_type": "display_data",
          "data": {
            "text/plain": [
              "            nome data_nascimento  salario   ano  mes  dia  idade faixa_etaria\n",
              "3  Diego Pereira      15/08/1988     6000  1988    8   15     36        30-39"
            ],
            "text/html": [
              "\n",
              "  <div id=\"df-a88803da-d366-4a23-b21a-fcacc8cd0085\" class=\"colab-df-container\">\n",
              "    <div>\n",
              "<style scoped>\n",
              "    .dataframe tbody tr th:only-of-type {\n",
              "        vertical-align: middle;\n",
              "    }\n",
              "\n",
              "    .dataframe tbody tr th {\n",
              "        vertical-align: top;\n",
              "    }\n",
              "\n",
              "    .dataframe thead th {\n",
              "        text-align: right;\n",
              "    }\n",
              "</style>\n",
              "<table border=\"1\" class=\"dataframe\">\n",
              "  <thead>\n",
              "    <tr style=\"text-align: right;\">\n",
              "      <th></th>\n",
              "      <th>nome</th>\n",
              "      <th>data_nascimento</th>\n",
              "      <th>salario</th>\n",
              "      <th>ano</th>\n",
              "      <th>mes</th>\n",
              "      <th>dia</th>\n",
              "      <th>idade</th>\n",
              "      <th>faixa_etaria</th>\n",
              "    </tr>\n",
              "  </thead>\n",
              "  <tbody>\n",
              "    <tr>\n",
              "      <th>3</th>\n",
              "      <td>Diego Pereira</td>\n",
              "      <td>15/08/1988</td>\n",
              "      <td>6000</td>\n",
              "      <td>1988</td>\n",
              "      <td>8</td>\n",
              "      <td>15</td>\n",
              "      <td>36</td>\n",
              "      <td>30-39</td>\n",
              "    </tr>\n",
              "  </tbody>\n",
              "</table>\n",
              "</div>\n",
              "    <div class=\"colab-df-buttons\">\n",
              "\n",
              "  <div class=\"colab-df-container\">\n",
              "    <button class=\"colab-df-convert\" onclick=\"convertToInteractive('df-a88803da-d366-4a23-b21a-fcacc8cd0085')\"\n",
              "            title=\"Convert this dataframe to an interactive table.\"\n",
              "            style=\"display:none;\">\n",
              "\n",
              "  <svg xmlns=\"http://www.w3.org/2000/svg\" height=\"24px\" viewBox=\"0 -960 960 960\">\n",
              "    <path d=\"M120-120v-720h720v720H120Zm60-500h600v-160H180v160Zm220 220h160v-160H400v160Zm0 220h160v-160H400v160ZM180-400h160v-160H180v160Zm440 0h160v-160H620v160ZM180-180h160v-160H180v160Zm440 0h160v-160H620v160Z\"/>\n",
              "  </svg>\n",
              "    </button>\n",
              "\n",
              "  <style>\n",
              "    .colab-df-container {\n",
              "      display:flex;\n",
              "      gap: 12px;\n",
              "    }\n",
              "\n",
              "    .colab-df-convert {\n",
              "      background-color: #E8F0FE;\n",
              "      border: none;\n",
              "      border-radius: 50%;\n",
              "      cursor: pointer;\n",
              "      display: none;\n",
              "      fill: #1967D2;\n",
              "      height: 32px;\n",
              "      padding: 0 0 0 0;\n",
              "      width: 32px;\n",
              "    }\n",
              "\n",
              "    .colab-df-convert:hover {\n",
              "      background-color: #E2EBFA;\n",
              "      box-shadow: 0px 1px 2px rgba(60, 64, 67, 0.3), 0px 1px 3px 1px rgba(60, 64, 67, 0.15);\n",
              "      fill: #174EA6;\n",
              "    }\n",
              "\n",
              "    .colab-df-buttons div {\n",
              "      margin-bottom: 4px;\n",
              "    }\n",
              "\n",
              "    [theme=dark] .colab-df-convert {\n",
              "      background-color: #3B4455;\n",
              "      fill: #D2E3FC;\n",
              "    }\n",
              "\n",
              "    [theme=dark] .colab-df-convert:hover {\n",
              "      background-color: #434B5C;\n",
              "      box-shadow: 0px 1px 3px 1px rgba(0, 0, 0, 0.15);\n",
              "      filter: drop-shadow(0px 1px 2px rgba(0, 0, 0, 0.3));\n",
              "      fill: #FFFFFF;\n",
              "    }\n",
              "  </style>\n",
              "\n",
              "    <script>\n",
              "      const buttonEl =\n",
              "        document.querySelector('#df-a88803da-d366-4a23-b21a-fcacc8cd0085 button.colab-df-convert');\n",
              "      buttonEl.style.display =\n",
              "        google.colab.kernel.accessAllowed ? 'block' : 'none';\n",
              "\n",
              "      async function convertToInteractive(key) {\n",
              "        const element = document.querySelector('#df-a88803da-d366-4a23-b21a-fcacc8cd0085');\n",
              "        const dataTable =\n",
              "          await google.colab.kernel.invokeFunction('convertToInteractive',\n",
              "                                                    [key], {});\n",
              "        if (!dataTable) return;\n",
              "\n",
              "        const docLinkHtml = 'Like what you see? Visit the ' +\n",
              "          '<a target=\"_blank\" href=https://colab.research.google.com/notebooks/data_table.ipynb>data table notebook</a>'\n",
              "          + ' to learn more about interactive tables.';\n",
              "        element.innerHTML = '';\n",
              "        dataTable['output_type'] = 'display_data';\n",
              "        await google.colab.output.renderOutput(dataTable, element);\n",
              "        const docLink = document.createElement('div');\n",
              "        docLink.innerHTML = docLinkHtml;\n",
              "        element.appendChild(docLink);\n",
              "      }\n",
              "    </script>\n",
              "  </div>\n",
              "\n",
              "\n",
              "  <div id=\"id_861f5d95-b95f-40c8-a4e4-2ebe056daf3d\">\n",
              "    <style>\n",
              "      .colab-df-generate {\n",
              "        background-color: #E8F0FE;\n",
              "        border: none;\n",
              "        border-radius: 50%;\n",
              "        cursor: pointer;\n",
              "        display: none;\n",
              "        fill: #1967D2;\n",
              "        height: 32px;\n",
              "        padding: 0 0 0 0;\n",
              "        width: 32px;\n",
              "      }\n",
              "\n",
              "      .colab-df-generate:hover {\n",
              "        background-color: #E2EBFA;\n",
              "        box-shadow: 0px 1px 2px rgba(60, 64, 67, 0.3), 0px 1px 3px 1px rgba(60, 64, 67, 0.15);\n",
              "        fill: #174EA6;\n",
              "      }\n",
              "\n",
              "      [theme=dark] .colab-df-generate {\n",
              "        background-color: #3B4455;\n",
              "        fill: #D2E3FC;\n",
              "      }\n",
              "\n",
              "      [theme=dark] .colab-df-generate:hover {\n",
              "        background-color: #434B5C;\n",
              "        box-shadow: 0px 1px 3px 1px rgba(0, 0, 0, 0.15);\n",
              "        filter: drop-shadow(0px 1px 2px rgba(0, 0, 0, 0.3));\n",
              "        fill: #FFFFFF;\n",
              "      }\n",
              "    </style>\n",
              "    <button class=\"colab-df-generate\" onclick=\"generateWithVariable('aniversariantes_mes_atual')\"\n",
              "            title=\"Generate code using this dataframe.\"\n",
              "            style=\"display:none;\">\n",
              "\n",
              "  <svg xmlns=\"http://www.w3.org/2000/svg\" height=\"24px\"viewBox=\"0 0 24 24\"\n",
              "       width=\"24px\">\n",
              "    <path d=\"M7,19H8.4L18.45,9,17,7.55,7,17.6ZM5,21V16.75L18.45,3.32a2,2,0,0,1,2.83,0l1.4,1.43a1.91,1.91,0,0,1,.58,1.4,1.91,1.91,0,0,1-.58,1.4L9.25,21ZM18.45,9,17,7.55Zm-12,3A5.31,5.31,0,0,0,4.9,8.1,5.31,5.31,0,0,0,1,6.5,5.31,5.31,0,0,0,4.9,4.9,5.31,5.31,0,0,0,6.5,1,5.31,5.31,0,0,0,8.1,4.9,5.31,5.31,0,0,0,12,6.5,5.46,5.46,0,0,0,6.5,12Z\"/>\n",
              "  </svg>\n",
              "    </button>\n",
              "    <script>\n",
              "      (() => {\n",
              "      const buttonEl =\n",
              "        document.querySelector('#id_861f5d95-b95f-40c8-a4e4-2ebe056daf3d button.colab-df-generate');\n",
              "      buttonEl.style.display =\n",
              "        google.colab.kernel.accessAllowed ? 'block' : 'none';\n",
              "\n",
              "      buttonEl.onclick = () => {\n",
              "        google.colab.notebook.generateWithVariable('aniversariantes_mes_atual');\n",
              "      }\n",
              "      })();\n",
              "    </script>\n",
              "  </div>\n",
              "\n",
              "    </div>\n",
              "  </div>\n"
            ],
            "application/vnd.google.colaboratory.intrinsic+json": {
              "type": "dataframe",
              "variable_name": "aniversariantes_mes_atual",
              "repr_error": "0"
            }
          },
          "metadata": {}
        }
      ]
    },
    {
      "cell_type": "code",
      "source": [
        "from google.colab import drive\n",
        "drive.mount('/content/drive')"
      ],
      "metadata": {
        "id": "y7YhnlTS9a1w"
      },
      "execution_count": null,
      "outputs": []
    }
  ]
}