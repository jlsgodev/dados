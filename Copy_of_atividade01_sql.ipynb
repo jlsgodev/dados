{
  "nbformat": 4,
  "nbformat_minor": 0,
  "metadata": {
    "colab": {
      "provenance": [],
      "authorship_tag": "ABX9TyOkTkREikpFqh0GuxAA9e/d",
      "include_colab_link": true
    },
    "kernelspec": {
      "name": "python3",
      "display_name": "Python 3"
    },
    "language_info": {
      "name": "python"
    }
  },
  "cells": [
    {
      "cell_type": "markdown",
      "metadata": {
        "id": "view-in-github",
        "colab_type": "text"
      },
      "source": [
        "<a href=\"https://colab.research.google.com/github/jlsgodev/dados/blob/main/Copy_of_atividade01_sql.ipynb\" target=\"_parent\"><img src=\"https://colab.research.google.com/assets/colab-badge.svg\" alt=\"Open In Colab\"/></a>"
      ]
    },
    {
      "cell_type": "markdown",
      "source": [
        "### ATIVIDADE 01 – SQL"
      ],
      "metadata": {
        "id": "bEg4xyplRr_g"
      }
    },
    {
      "cell_type": "code",
      "execution_count": null,
      "metadata": {
        "id": "rXxi6xw7RcB3"
      },
      "outputs": [],
      "source": [
        "#\n",
        "empregado(empregado_id,nome,departamento_id,salario,data_admissao,gerente_id,cargo)\n",
        "CREATE TABLE EMPREGADO (\n",
        "EMPREGADO_ID INT PRIMARY KEY,\n",
        "NOME VARCHAR(100),\n",
        "DEPARTAMENTO_ID INT,\n",
        "SALARIO DECIMAL(10, 2),\n",
        "DATA_ADMISSAO DATE,\n",
        "GERENTE_ID INT,\n",
        "CARGO VARCHAR(100),\n",
        "FOREIGN KEY (DEPARTAMENTO_ID) REFERENCES\n",
        "DEPARTAMENTO(DEPARTAMENTO_ID),\n",
        "FOREIGN KEY (GERENTE_ID) REFERENCES GERENTE(GERENTE_ID) );\n",
        "# departamento(departamento_id,nome)\n",
        "CREATE TABLE DEPARTAMENTO (\n",
        "DEPARTAMENTO_ID INT PRIMARY KEY,\n",
        "NOME VARCHAR(100)\n",
        ");\n",
        "# gerente(gerente_id, nome)\n",
        "CREATE TABLE GERENTE (\n",
        "GERENTE_ID INT PRIMARY KEY,\n",
        "NOME VARCHAR(100)\n",
        ");\n",
        "RE\n"
      ]
    },
    {
      "cell_type": "markdown",
      "source": [
        "### Inserts para cada uma das três tabelas"
      ],
      "metadata": {
        "id": "7NMpjxPPVDPZ"
      }
    },
    {
      "cell_type": "code",
      "source": [
        "\n",
        "\n",
        "\n",
        "\n",
        "INSERT INTO DEPARTAMENTO (DEPARTAMENTO_ID, NOME) VALUES\n",
        "(1, 'Marketing'),\n",
        "(2, 'Financeiro'),\n",
        "(3, 'Recursos Humanos'),\n",
        "(4, 'TI'),\n",
        "(5, 'Vendas'),\n",
        "(6, 'Operações'),\n",
        "(7, 'Jurídico'),\n",
        "(8, 'Compras'),\n",
        "(9, 'Logística'),\n",
        "(10, 'Pesquisa e Desenvolvimento');\n",
        "\n",
        "\n",
        "\n",
        "\n",
        "INSERT INTO GERENTE (GERENTE_ID, NOME) VALUES\n",
        "(1, 'Steven Spielberg'),\n",
        "(2, 'Martin Scorsese'),\n",
        "(3, 'Christopher Nolan'),\n",
        "(4, 'Quentin Tarantino'),\n",
        "(5, 'James Cameron'),\n",
        "(6, 'Ridley Scott'),\n",
        "(7, 'Francis Ford Coppola'),\n",
        "(8, 'Stanley Kubrick'),\n",
        "(9, 'Alfred Hitchcock'),\n",
        "(10, 'Peter Jackson');\n",
        "\n",
        "\n",
        "\n",
        "\n",
        "\n",
        "insert into EMPREGADO (EMPREGADO_ID, NOME, DEPARTAMENTO_ID, SALARIO, DATA_ADMISSAO, GERENTE_ID, CARGO) values (1, 'Benedetto Speirs', 4, 3736.95, '2014-04-24', 6, 'Técnico de Informática');\n",
        "insert into EMPREGADO (EMPREGADO_ID, NOME, DEPARTAMENTO_ID, SALARIO, DATA_ADMISSAO, GERENTE_ID, CARGO) values (2, 'Keeley Keaton', 3, 3673.89, '2017-06-15', 1, 'Assistente Administrativo');\n",
        "insert into EMPREGADO (EMPREGADO_ID, NOME, DEPARTAMENTO_ID, SALARIO, DATA_ADMISSAO, GERENTE_ID, CARGO) values (3, 'Mavis Domoney', 10, 3842.65, '2017-03-22', 4, 'Analista de Marketing');\n",
        "insert into EMPREGADO (EMPREGADO_ID, NOME, DEPARTAMENTO_ID, SALARIO, DATA_ADMISSAO, GERENTE_ID, CARGO) values (4, 'Saudra Omond', 1, 8831.32, '2024-01-17', 4, 'Técnico de Informática');\n",
        "insert into EMPREGADO (EMPREGADO_ID, NOME, DEPARTAMENTO_ID, SALARIO, DATA_ADMISSAO, GERENTE_ID, CARGO) values (5, 'Paola Tomet', 7, 3913.03, '2017-01-12', 5, 'Assistente Administrativo');\n",
        "insert into EMPREGADO (EMPREGADO_ID, NOME, DEPARTAMENTO_ID, SALARIO, DATA_ADMISSAO, GERENTE_ID, CARGO) values (6, 'Zahara Heimes', 6, 3177.8, '2011-07-25', 2, 'Motorista de Entrega');\n",
        "insert into EMPREGADO (EMPREGADO_ID, NOME, DEPARTAMENTO_ID, SALARIO, DATA_ADMISSAO, GERENTE_ID, CARGO) values (7, 'Joshia McCallam', 2, 9034.19, '2015-11-29', 10, 'Operador de Máquinas');\n",
        "insert into EMPREGADO (EMPREGADO_ID, NOME, DEPARTAMENTO_ID, SALARIO, DATA_ADMISSAO, GERENTE_ID, CARGO) values (8, 'Tobe Wetherby', 10, 8632.17, '2017-02-04', 8, 'Gerente de Vendas');\n",
        "insert into EMPREGADO (EMPREGADO_ID, NOME, DEPARTAMENTO_ID, SALARIO, DATA_ADMISSAO, GERENTE_ID, CARGO) values (9, 'Eirena Warrilow', 7, 4449.76, '2019-10-07', 6, 'Auxiliar de Produção');\n",
        "insert into EMPREGADO (EMPREGADO_ID, NOME, DEPARTAMENTO_ID, SALARIO, DATA_ADMISSAO, GERENTE_ID, CARGO) values (10, 'Ettie Keers', 9, 4389.68, '2015-05-05', 3, 'Operador de Máquinas');\n",
        "insert into EMPREGADO (EMPREGADO_ID, NOME, DEPARTAMENTO_ID, SALARIO, DATA_ADMISSAO, GERENTE_ID, CARGO) values (11, 'Brent Dever', 4, 5689.58, '2019-02-05', 10, 'Estoquista');\n",
        "insert into EMPREGADO (EMPREGADO_ID, NOME, DEPARTAMENTO_ID, SALARIO, DATA_ADMISSAO, GERENTE_ID, CARGO) values (12, 'Prentiss Erickson', 10, 5332.84, '2019-04-21', 6, 'Estoquista');\n",
        "insert into EMPREGADO (EMPREGADO_ID, NOME, DEPARTAMENTO_ID, SALARIO, DATA_ADMISSAO, GERENTE_ID, CARGO) values (13, 'Holmes Pask', 10, 3628.29, '2015-07-17', 9, 'Auxiliar de Produção');\n",
        "insert into EMPREGADO (EMPREGADO_ID, NOME, DEPARTAMENTO_ID, SALARIO, DATA_ADMISSAO, GERENTE_ID, CARGO) values (14, 'Georgie Yo', 1, 8716.23, '2023-05-24', 9, 'Gerente de Vendas');\n",
        "insert into EMPREGADO (EMPREGADO_ID, NOME, DEPARTAMENTO_ID, SALARIO, DATA_ADMISSAO, GERENTE_ID, CARGO) values (15, 'Janos Trunby', 5, 7132.99, '2022-06-17', 9, 'Analista de Marketing');\n",
        "insert into EMPREGADO (EMPREGADO_ID, NOME, DEPARTAMENTO_ID, SALARIO, DATA_ADMISSAO, GERENTE_ID, CARGO) values (16, 'Atlante Dowker', 7, 3297.46, '2018-08-13', 8, 'Técnico de Informática');\n",
        "insert into EMPREGADO (EMPREGADO_ID, NOME, DEPARTAMENTO_ID, SALARIO, DATA_ADMISSAO, GERENTE_ID, CARGO) values (17, 'Ransom Coffin', 6, 9467.08, '2017-01-28', 1, 'Assistente Administrativo');\n",
        "insert into EMPREGADO (EMPREGADO_ID, NOME, DEPARTAMENTO_ID, SALARIO, DATA_ADMISSAO, GERENTE_ID, CARGO) values (18, 'Issiah Pires', 6, 8889.8, '2020-12-07', 7, 'Analista de Recursos Humanos');\n",
        "insert into EMPREGADO (EMPREGADO_ID, NOME, DEPARTAMENTO_ID, SALARIO, DATA_ADMISSAO, GERENTE_ID, CARGO) values (19, 'Zach Schott', 2, 3150.54, '2023-02-02', 8, 'Técnico de Informática');\n",
        "insert into EMPREGADO (EMPREGADO_ID, NOME, DEPARTAMENTO_ID, SALARIO, DATA_ADMISSAO, GERENTE_ID, CARGO) values (20, 'Nero Bahde', 10, 4999.38, '2018-10-15', 6, 'Coordenador de Logística');\n",
        "insert into EMPREGADO (EMPREGADO_ID, NOME, DEPARTAMENTO_ID, SALARIO, DATA_ADMISSAO, GERENTE_ID, CARGO) values (21, 'Sisely Mulleary', 8, 9952.57, '2024-01-11', 10, 'Gerente de Vendas');\n",
        "insert into EMPREGADO (EMPREGADO_ID, NOME, DEPARTAMENTO_ID, SALARIO, DATA_ADMISSAO, GERENTE_ID, CARGO) values (22, 'Gisele Cobleigh', 3, 9436.78, '2019-03-01', 5, 'Estoquista');\n",
        "insert into EMPREGADO (EMPREGADO_ID, NOME, DEPARTAMENTO_ID, SALARIO, DATA_ADMISSAO, GERENTE_ID, CARGO) values (23, 'Catherina Eginton', 7, 6703.15, '2015-09-01', 10, 'Analista de Recursos Humanos');\n",
        "insert into EMPREGADO (EMPREGADO_ID, NOME, DEPARTAMENTO_ID, SALARIO, DATA_ADMISSAO, GERENTE_ID, CARGO) values (24, 'Etan Van T''Hoog', 10, 5537.68, '2021-03-23', 4, 'Assistente Administrativo');\n",
        "insert into EMPREGADO (EMPREGADO_ID, NOME, DEPARTAMENTO_ID, SALARIO, DATA_ADMISSAO, GERENTE_ID, CARGO) values (25, 'Georas Bowker', 5, 9577.84, '2010-04-29', 7, 'Técnico de Informática');\n",
        "insert into EMPREGADO (EMPREGADO_ID, NOME, DEPARTAMENTO_ID, SALARIO, DATA_ADMISSAO, GERENTE_ID, CARGO) values (26, 'Sheffield MacKaig', 7, 8821.39, '2011-09-26', 10, 'Coordenador de Logística');\n",
        "insert into EMPREGADO (EMPREGADO_ID, NOME, DEPARTAMENTO_ID, SALARIO, DATA_ADMISSAO, GERENTE_ID, CARGO) values (27, 'Laural Townes', 4, 8979.87, '2023-03-18', 1, 'Gerente de Vendas');\n",
        "insert into EMPREGADO (EMPREGADO_ID, NOME, DEPARTAMENTO_ID, SALARIO, DATA_ADMISSAO, GERENTE_ID, CARGO) values (28, 'Andreas Mollene', 10, 6833.96, '2024-07-02', 3, 'Técnico de Informática');\n",
        "insert into EMPREGADO (EMPREGADO_ID, NOME, DEPARTAMENTO_ID, SALARIO, DATA_ADMISSAO, GERENTE_ID, CARGO) values (29, 'Jessi Krop', 10, 9425.82, '2011-10-18', 4, 'Gerente de Vendas');\n",
        "insert into EMPREGADO (EMPREGADO_ID, NOME, DEPARTAMENTO_ID, SALARIO, DATA_ADMISSAO, GERENTE_ID, CARGO) values (30, 'Curtis Cramphorn', 9, 8293.46, '2019-02-07', 10, 'Gerente de Vendas');\n",
        "insert into EMPREGADO (EMPREGADO_ID, NOME, DEPARTAMENTO_ID, SALARIO, DATA_ADMISSAO, GERENTE_ID, CARGO) values (31, 'Peta Quartermaine', 10, 6817.14, '2020-10-28', 1, 'Assistente Administrativo');\n",
        "insert into EMPREGADO (EMPREGADO_ID, NOME, DEPARTAMENTO_ID, SALARIO, DATA_ADMISSAO, GERENTE_ID, CARGO) values (32, 'Camille Wilber', 3, 7325.86, '2018-12-25', 10, 'Analista de Recursos Humanos');\n",
        "insert into EMPREGADO (EMPREGADO_ID, NOME, DEPARTAMENTO_ID, SALARIO, DATA_ADMISSAO, GERENTE_ID, CARGO) values (33, 'Keary MacQuist', 4, 6961.27, '2015-07-30', 3, 'Motorista de Entrega');\n",
        "insert into EMPREGADO (EMPREGADO_ID, NOME, DEPARTAMENTO_ID, SALARIO, DATA_ADMISSAO, GERENTE_ID, CARGO) values (34, 'Loretta Rentcome', 10, 3801.96, '2014-05-28', 10, 'Estoquista');\n",
        "insert into EMPREGADO (EMPREGADO_ID, NOME, DEPARTAMENTO_ID, SALARIO, DATA_ADMISSAO, GERENTE_ID, CARGO) values (35, 'Myca Conrard', 2, 5683.47, '2012-08-01', 3, 'Técnico de Informática');\n",
        "insert into EMPREGADO (EMPREGADO_ID, NOME, DEPARTAMENTO_ID, SALARIO, DATA_ADMISSAO, GERENTE_ID, CARGO) values (36, 'Fulton Tingcomb', 5, 6356.94, '2024-02-15', 7, 'Operador de Máquinas');\n",
        "insert into EMPREGADO (EMPREGADO_ID, NOME, DEPARTAMENTO_ID, SALARIO, DATA_ADMISSAO, GERENTE_ID, CARGO) values (37, 'Filia Rosenblum', 4, 3871.34, '2022-08-01', 9, 'Analista de Recursos Humanos');\n",
        "insert into EMPREGADO (EMPREGADO_ID, NOME, DEPARTAMENTO_ID, SALARIO, DATA_ADMISSAO, GERENTE_ID, CARGO) values (38, 'Gerard Barkway', 3, 6115.08, '2015-04-30', 7, 'Coordenador de Logística');\n",
        "insert into EMPREGADO (EMPREGADO_ID, NOME, DEPARTAMENTO_ID, SALARIO, DATA_ADMISSAO, GERENTE_ID, CARGO) values (39, 'Alex McHardy', 7, 5364.75, '2015-08-11', 8, 'Analista de Recursos Humanos');\n",
        "insert into EMPREGADO (EMPREGADO_ID, NOME, DEPARTAMENTO_ID, SALARIO, DATA_ADMISSAO, GERENTE_ID, CARGO) values (40, 'Mendie Meaden', 9, 9977.45, '2020-08-08', 8, 'Coordenador de Logística');\n",
        "insert into EMPREGADO (EMPREGADO_ID, NOME, DEPARTAMENTO_ID, SALARIO, DATA_ADMISSAO, GERENTE_ID, CARGO) values (41, 'Windham Lenden', 7, 8300.37, '2018-07-12', 1, 'Auxiliar de Produção');\n",
        "insert into EMPREGADO (EMPREGADO_ID, NOME, DEPARTAMENTO_ID, SALARIO, DATA_ADMISSAO, GERENTE_ID, CARGO) values (42, 'Norrie Marty', 2, 7647.1, '2013-02-19', 6, 'Operador de Máquinas');\n",
        "insert into EMPREGADO (EMPREGADO_ID, NOME, DEPARTAMENTO_ID, SALARIO, DATA_ADMISSAO, GERENTE_ID, CARGO) values (43, 'Edee Klaussen', 10, 4918.32, '2020-11-01', 9, 'Analista de Recursos Humanos');\n",
        "insert into EMPREGADO (EMPREGADO_ID, NOME, DEPARTAMENTO_ID, SALARIO, DATA_ADMISSAO, GERENTE_ID, CARGO) values (44, 'Jackson Templeman', 6, 9918.92, '2021-06-22', 5, 'Analista de Recursos Humanos');\n",
        "insert into EMPREGADO (EMPREGADO_ID, NOME, DEPARTAMENTO_ID, SALARIO, DATA_ADMISSAO, GERENTE_ID, CARGO) values (45, 'Nedi Zorzutti', 10, 7195.99, '2019-02-11', 4, 'Estoquista');\n",
        "insert into EMPREGADO (EMPREGADO_ID, NOME, DEPARTAMENTO_ID, SALARIO, DATA_ADMISSAO, GERENTE_ID, CARGO) values (46, 'Marya Stitfall', 5, 3884.19, '2024-08-30', 10, 'Operador de Máquinas');\n",
        "insert into EMPREGADO (EMPREGADO_ID, NOME, DEPARTAMENTO_ID, SALARIO, DATA_ADMISSAO, GERENTE_ID, CARGO) values (47, 'Pietra Boutflour', 3, 6844.61, '2014-11-02', 5, 'Estoquista');\n",
        "insert into EMPREGADO (EMPREGADO_ID, NOME, DEPARTAMENTO_ID, SALARIO, DATA_ADMISSAO, GERENTE_ID, CARGO) values (48, 'Alonzo Keward', 7, 9020.73, '2017-07-11', 9, 'Analista de Recursos Humanos');\n",
        "insert into EMPREGADO (EMPREGADO_ID, NOME, DEPARTAMENTO_ID, SALARIO, DATA_ADMISSAO, GERENTE_ID, CARGO) values (49, 'Antons Sommerled', 8, 7160.42, '2012-10-21', 3, 'Assistente Administrativo');\n",
        "insert into EMPREGADO (EMPREGADO_ID, NOME, DEPARTAMENTO_ID, SALARIO, DATA_ADMISSAO, GERENTE_ID, CARGO) values (50, 'Ediva MacConchie', 10, 6784.42, '2017-05-28', 1, 'Motorista de Entrega');\n",
        "insert into EMPREGADO (EMPREGADO_ID, NOME, DEPARTAMENTO_ID, SALARIO, DATA_ADMISSAO, GERENTE_ID, CARGO) values (51, 'Mela Leander', 6, 7933.52, '2011-06-23', 3, 'Motorista de Entrega');\n",
        "insert into EMPREGADO (EMPREGADO_ID, NOME, DEPARTAMENTO_ID, SALARIO, DATA_ADMISSAO, GERENTE_ID, CARGO) values (52, 'Agnella Barrowcliff', 9, 8950.09, '2024-07-17', 9, 'Estoquista');\n",
        "insert into EMPREGADO (EMPREGADO_ID, NOME, DEPARTAMENTO_ID, SALARIO, DATA_ADMISSAO, GERENTE_ID, CARGO) values (53, 'Dex Jandel', 4, 6591.16, '2012-07-18', 5, 'Gerente de Vendas');\n",
        "insert into EMPREGADO (EMPREGADO_ID, NOME, DEPARTAMENTO_ID, SALARIO, DATA_ADMISSAO, GERENTE_ID, CARGO) values (54, 'Amye Lambert', 7, 7406.79, '2013-02-25', 2, 'Assistente Administrativo');\n",
        "insert into EMPREGADO (EMPREGADO_ID, NOME, DEPARTAMENTO_ID, SALARIO, DATA_ADMISSAO, GERENTE_ID, CARGO) values (55, 'Tamiko Handasyde', 1, 9096.51, '2018-12-30', 8, 'Auxiliar de Produção');\n",
        "insert into EMPREGADO (EMPREGADO_ID, NOME, DEPARTAMENTO_ID, SALARIO, DATA_ADMISSAO, GERENTE_ID, CARGO) values (56, 'Dalt Moyser', 9, 7386.02, '2022-02-09', 4, 'Coordenador de Logística');\n",
        "insert into EMPREGADO (EMPREGADO_ID, NOME, DEPARTAMENTO_ID, SALARIO, DATA_ADMISSAO, GERENTE_ID, CARGO) values (57, 'Lek Arundel', 6, 4940.22, '2016-12-02', 1, 'Motorista de Entrega');\n",
        "insert into EMPREGADO (EMPREGADO_ID, NOME, DEPARTAMENTO_ID, SALARIO, DATA_ADMISSAO, GERENTE_ID, CARGO) values (58, 'Barbee Rickersy', 1, 4208.75, '2011-02-01', 6, 'Técnico de Informática');\n",
        "insert into EMPREGADO (EMPREGADO_ID, NOME, DEPARTAMENTO_ID, SALARIO, DATA_ADMISSAO, GERENTE_ID, CARGO) values (59, 'Colan Cansfield', 8, 6790.09, '2010-08-05', 2, 'Estoquista');\n",
        "insert into EMPREGADO (EMPREGADO_ID, NOME, DEPARTAMENTO_ID, SALARIO, DATA_ADMISSAO, GERENTE_ID, CARGO) values (60, 'Wolfie Belford', 2, 5470.52, '2018-05-11', 1, 'Analista de Marketing');\n",
        "insert into EMPREGADO (EMPREGADO_ID, NOME, DEPARTAMENTO_ID, SALARIO, DATA_ADMISSAO, GERENTE_ID, CARGO) values (61, 'Carrissa Skillman', 9, 6850.1, '2016-12-20', 10, 'Analista de Recursos Humanos');\n",
        "insert into EMPREGADO (EMPREGADO_ID, NOME, DEPARTAMENTO_ID, SALARIO, DATA_ADMISSAO, GERENTE_ID, CARGO) values (62, 'Michael Gilfether', 3, 8804.74, '2018-04-30', 6, 'Operador de Máquinas');\n",
        "insert into EMPREGADO (EMPREGADO_ID, NOME, DEPARTAMENTO_ID, SALARIO, DATA_ADMISSAO, GERENTE_ID, CARGO) values (63, 'Stephani Giblin', 10, 7958.13, '2019-12-05', 7, 'Estoquista');\n",
        "insert into EMPREGADO (EMPREGADO_ID, NOME, DEPARTAMENTO_ID, SALARIO, DATA_ADMISSAO, GERENTE_ID, CARGO) values (64, 'Myer Mc-Kerley', 7, 5246.24, '2023-07-03', 8, 'Estoquista');\n",
        "insert into EMPREGADO (EMPREGADO_ID, NOME, DEPARTAMENTO_ID, SALARIO, DATA_ADMISSAO, GERENTE_ID, CARGO) values (65, 'Ashlie Abrahamsohn', 4, 7612.6, '2012-07-10', 3, 'Operador de Máquinas');\n",
        "insert into EMPREGADO (EMPREGADO_ID, NOME, DEPARTAMENTO_ID, SALARIO, DATA_ADMISSAO, GERENTE_ID, CARGO) values (66, 'Allyn Hutable', 8, 5177.97, '2018-12-26', 3, 'Estoquista');\n",
        "insert into EMPREGADO (EMPREGADO_ID, NOME, DEPARTAMENTO_ID, SALARIO, DATA_ADMISSAO, GERENTE_ID, CARGO) values (67, 'Imojean Hulland', 1, 8631.8, '2022-02-11', 6, 'Gerente de Vendas');\n",
        "insert into EMPREGADO (EMPREGADO_ID, NOME, DEPARTAMENTO_ID, SALARIO, DATA_ADMISSAO, GERENTE_ID, CARGO) values (68, 'Yvonne Schaumaker', 9, 9826.36, '2017-01-18', 3, 'Técnico de Informática');\n",
        "insert into EMPREGADO (EMPREGADO_ID, NOME, DEPARTAMENTO_ID, SALARIO, DATA_ADMISSAO, GERENTE_ID, CARGO) values (69, 'Jinny Crocetti', 3, 3046.64, '2011-03-07', 6, 'Analista de Marketing');\n",
        "insert into EMPREGADO (EMPREGADO_ID, NOME, DEPARTAMENTO_ID, SALARIO, DATA_ADMISSAO, GERENTE_ID, CARGO) values (70, 'Padgett Abilowitz', 1, 3184.01, '2020-08-26', 4, 'Assistente Administrativo');\n",
        "insert into EMPREGADO (EMPREGADO_ID, NOME, DEPARTAMENTO_ID, SALARIO, DATA_ADMISSAO, GERENTE_ID, CARGO) values (71, 'Myriam Buttrey', 8, 7692.38, '2018-08-16', 10, 'Assistente Administrativo');\n",
        "insert into EMPREGADO (EMPREGADO_ID, NOME, DEPARTAMENTO_ID, SALARIO, DATA_ADMISSAO, GERENTE_ID, CARGO) values (72, 'Morly Lesaunier', 2, 8809.93, '2012-09-28', 10, 'Coordenador de Logística');\n",
        "insert into EMPREGADO (EMPREGADO_ID, NOME, DEPARTAMENTO_ID, SALARIO, DATA_ADMISSAO, GERENTE_ID, CARGO) values (73, 'Tomas Brockelsby', 5, 9439.28, '2013-09-24', 9, 'Operador de Máquinas');\n",
        "insert into EMPREGADO (EMPREGADO_ID, NOME, DEPARTAMENTO_ID, SALARIO, DATA_ADMISSAO, GERENTE_ID, CARGO) values (74, 'Burt Dunkerley', 1, 5173.35, '2019-05-25', 4, 'Estoquista');\n",
        "insert into EMPREGADO (EMPREGADO_ID, NOME, DEPARTAMENTO_ID, SALARIO, DATA_ADMISSAO, GERENTE_ID, CARGO) values (75, 'Elinore Ramsbotham', 3, 3903.59, '2013-09-03', 9, 'Coordenador de Logística');\n",
        "insert into EMPREGADO (EMPREGADO_ID, NOME, DEPARTAMENTO_ID, SALARIO, DATA_ADMISSAO, GERENTE_ID, CARGO) values (76, 'Belva Bullard', 5, 6373.76, '2010-06-15', 5, 'Técnico de Informática');\n",
        "insert into EMPREGADO (EMPREGADO_ID, NOME, DEPARTAMENTO_ID, SALARIO, DATA_ADMISSAO, GERENTE_ID, CARGO) values (77, 'Micah Ketton', 10, 5981.97, '2012-12-22', 8, 'Operador de Máquinas');\n",
        "insert into EMPREGADO (EMPREGADO_ID, NOME, DEPARTAMENTO_ID, SALARIO, DATA_ADMISSAO, GERENTE_ID, CARGO) values (78, 'Anatol Tarbatt', 2, 8672.04, '2012-05-05', 8, 'Estoquista');\n",
        "insert into EMPREGADO (EMPREGADO_ID, NOME, DEPARTAMENTO_ID, SALARIO, DATA_ADMISSAO, GERENTE_ID, CARGO) values (79, 'Isadora Hawking', 4, 7859.67, '2021-01-13', 1, 'Analista de Marketing');\n",
        "insert into EMPREGADO (EMPREGADO_ID, NOME, DEPARTAMENTO_ID, SALARIO, DATA_ADMISSAO, GERENTE_ID, CARGO) values (80, 'Whitaker Larkins', 9, 3361.78, '2021-09-13', 1, 'Técnico de Informática');\n",
        "insert into EMPREGADO (EMPREGADO_ID, NOME, DEPARTAMENTO_ID, SALARIO, DATA_ADMISSAO, GERENTE_ID, CARGO) values (81, 'Karine Everit', 2, 3236.94, '2013-08-11', 8, 'Motorista de Entrega');\n",
        "insert into EMPREGADO (EMPREGADO_ID, NOME, DEPARTAMENTO_ID, SALARIO, DATA_ADMISSAO, GERENTE_ID, CARGO) values (82, 'Koralle Tennewell', 9, 8710.25, '2014-03-06', 2, 'Estoquista');\n",
        "insert into EMPREGADO (EMPREGADO_ID, NOME, DEPARTAMENTO_ID, SALARIO, DATA_ADMISSAO, GERENTE_ID, CARGO) values (83, 'Fara Balharrie', 1, 5939.44, '2024-02-29', 1, 'Analista de Recursos Humanos');\n",
        "insert into EMPREGADO (EMPREGADO_ID, NOME, DEPARTAMENTO_ID, SALARIO, DATA_ADMISSAO, GERENTE_ID, CARGO) values (84, 'D''arcy Cullon', 9, 7568.34, '2020-05-02', 9, 'Técnico de Informática');\n",
        "insert into EMPREGADO (EMPREGADO_ID, NOME, DEPARTAMENTO_ID, SALARIO, DATA_ADMISSAO, GERENTE_ID, CARGO) values (85, 'Marlowe Maycock', 9, 3474.61, '2021-02-03', 10, 'Auxiliar de Produção');\n",
        "insert into EMPREGADO (EMPREGADO_ID, NOME, DEPARTAMENTO_ID, SALARIO, DATA_ADMISSAO, GERENTE_ID, CARGO) values (86, 'Tana Overshott', 5, 4319.6, '2020-12-15', 3, 'Analista de Marketing');\n",
        "insert into EMPREGADO (EMPREGADO_ID, NOME, DEPARTAMENTO_ID, SALARIO, DATA_ADMISSAO, GERENTE_ID, CARGO) values (87, 'Johnathan MacCook', 2, 8337.15, '2016-02-08', 5, 'Coordenador de Logística');\n",
        "insert into EMPREGADO (EMPREGADO_ID, NOME, DEPARTAMENTO_ID, SALARIO, DATA_ADMISSAO, GERENTE_ID, CARGO) values (88, 'Stillman Schorah', 9, 4273.4, '2013-11-27', 9, 'Assistente Administrativo');\n",
        "insert into EMPREGADO (EMPREGADO_ID, NOME, DEPARTAMENTO_ID, SALARIO, DATA_ADMISSAO, GERENTE_ID, CARGO) values (89, 'Gavrielle Misk', 7, 9135.65, '2015-10-26', 8, 'Analista de Recursos Humanos');\n",
        "insert into EMPREGADO (EMPREGADO_ID, NOME, DEPARTAMENTO_ID, SALARIO, DATA_ADMISSAO, GERENTE_ID, CARGO) values (90, 'Augustin Simper', 9, 6570.38, '2011-10-10', 9, 'Motorista de Entrega');\n",
        "insert into EMPREGADO (EMPREGADO_ID, NOME, DEPARTAMENTO_ID, SALARIO, DATA_ADMISSAO, GERENTE_ID, CARGO) values (91, 'Neal Pickavant', 5, 9678.46, '2021-01-09', 10, 'Gerente de Vendas');\n",
        "insert into EMPREGADO (EMPREGADO_ID, NOME, DEPARTAMENTO_ID, SALARIO, DATA_ADMISSAO, GERENTE_ID, CARGO) values (92, 'Emmalee Sharrocks', 1, 3802.92, '2010-09-16', 2, 'Analista de Marketing');\n",
        "insert into EMPREGADO (EMPREGADO_ID, NOME, DEPARTAMENTO_ID, SALARIO, DATA_ADMISSAO, GERENTE_ID, CARGO) values (93, 'Daffie Harkness', 10, 4098.01, '2010-12-20', 5, 'Estoquista');\n",
        "insert into EMPREGADO (EMPREGADO_ID, NOME, DEPARTAMENTO_ID, SALARIO, DATA_ADMISSAO, GERENTE_ID, CARGO) values (94, 'Cortney Kirstein', 3, 3854.11, '2014-07-26', 10, 'Coordenador de Logística');\n",
        "insert into EMPREGADO (EMPREGADO_ID, NOME, DEPARTAMENTO_ID, SALARIO, DATA_ADMISSAO, GERENTE_ID, CARGO) values (95, 'Debor Espley', 10, 7507.65, '2024-03-10', 5, 'Analista de Recursos Humanos');\n",
        "insert into EMPREGADO (EMPREGADO_ID, NOME, DEPARTAMENTO_ID, SALARIO, DATA_ADMISSAO, GERENTE_ID, CARGO) values (96, 'Harlene Guy', 8, 4530.6, '2020-10-29', 6, 'Analista de Recursos Humanos');\n",
        "insert into EMPREGADO (EMPREGADO_ID, NOME, DEPARTAMENTO_ID, SALARIO, DATA_ADMISSAO, GERENTE_ID, CARGO) values (97, 'Arlette Calan', 8, 8062.3, '2011-07-09', 6, 'Analista de Recursos Humanos');\n",
        "insert into EMPREGADO (EMPREGADO_ID, NOME, DEPARTAMENTO_ID, SALARIO, DATA_ADMISSAO, GERENTE_ID, CARGO) values (98, 'Jenna Nother', 7, 8599.42, '2022-04-26', 10, 'Operador de Máquinas');\n",
        "insert into EMPREGADO (EMPREGADO_ID, NOME, DEPARTAMENTO_ID, SALARIO, DATA_ADMISSAO, GERENTE_ID, CARGO) values (99, 'Nydia Carvell', 8, 9746.15, '2023-02-11', 5, 'Operador de Máquinas');\n",
        "insert into EMPREGADO (EMPREGADO_ID, NOME, DEPARTAMENTO_ID, SALARIO, DATA_ADMISSAO, GERENTE_ID, CARGO) values (100, 'Saul Beswick', 3, 6283.44, '2020-06-18', 5, 'Analista de Marketing');\n",
        "insert into EMPREGADO (EMPREGADO_ID, NOME, DEPARTAMENTO_ID, SALARIO, DATA_ADMISSAO, GERENTE_ID, CARGO) values (101, 'Ingrim Janoschek', 10, 7715.94, '2023-09-20', 7, 'Coordenador de Logística');\n",
        "insert into EMPREGADO (EMPREGADO_ID, NOME, DEPARTAMENTO_ID, SALARIO, DATA_ADMISSAO, GERENTE_ID, CARGO) values (102, 'Augustina Jakubowicz', 4, 7967.19, '2014-08-23', 2, 'Analista de Marketing');\n",
        "insert into EMPREGADO (EMPREGADO_ID, NOME, DEPARTAMENTO_ID, SALARIO, DATA_ADMISSAO, GERENTE_ID, CARGO) values (103, 'Tore McCreery', 10, 7707.31, '2014-05-20', 8, 'Gerente de Vendas');\n",
        "insert into EMPREGADO (EMPREGADO_ID, NOME, DEPARTAMENTO_ID, SALARIO, DATA_ADMISSAO, GERENTE_ID, CARGO) values (104, 'Delcine Thame', 10, 9376.82, '2019-03-16', 10, 'Auxiliar de Produção');\n",
        "insert into EMPREGADO (EMPREGADO_ID, NOME, DEPARTAMENTO_ID, SALARIO, DATA_ADMISSAO, GERENTE_ID, CARGO) values (105, 'Israel Cousans', 6, 4063.58, '2022-01-25', 5, 'Coordenador de Logística');\n",
        "insert into EMPREGADO (EMPREGADO_ID, NOME, DEPARTAMENTO_ID, SALARIO, DATA_ADMISSAO, GERENTE_ID, CARGO) values (106, 'Taylor Cowey', 1, 9978.21, '2020-01-30', 6, 'Estoquista');\n",
        "insert into EMPREGADO (EMPREGADO_ID, NOME, DEPARTAMENTO_ID, SALARIO, DATA_ADMISSAO, GERENTE_ID, CARGO) values (107, 'Brande Shave', 3, 9947.27, '2016-02-07', 6, 'Motorista de Entrega');\n",
        "insert into EMPREGADO (EMPREGADO_ID, NOME, DEPARTAMENTO_ID, SALARIO, DATA_ADMISSAO, GERENTE_ID, CARGO) values (108, 'Claudell Scholfield', 6, 7854.94, '2013-05-12', 3, 'Analista de Recursos Humanos');\n",
        "insert into EMPREGADO (EMPREGADO_ID, NOME, DEPARTAMENTO_ID, SALARIO, DATA_ADMISSAO, GERENTE_ID, CARGO) values (109, 'Reube Deniseau', 9, 4903.82, '2022-05-15', 10, 'Analista de Marketing');\n",
        "insert into EMPREGADO (EMPREGADO_ID, NOME, DEPARTAMENTO_ID, SALARIO, DATA_ADMISSAO, GERENTE_ID, CARGO) values (110, 'Trev Michurin', 7, 5676.65, '2017-02-13', 1, 'Coordenador de Logística');\n",
        "insert into EMPREGADO (EMPREGADO_ID, NOME, DEPARTAMENTO_ID, SALARIO, DATA_ADMISSAO, GERENTE_ID, CARGO) values (111, 'Aviva Shimwall', 5, 9753.89, '2011-04-07', 4, 'Analista de Recursos Humanos');\n",
        "insert into EMPREGADO (EMPREGADO_ID, NOME, DEPARTAMENTO_ID, SALARIO, DATA_ADMISSAO, GERENTE_ID, CARGO) values (112, 'Natalya Cleall', 10, 6270.1, '2022-06-03', 2, 'Estoquista');\n",
        "insert into EMPREGADO (EMPREGADO_ID, NOME, DEPARTAMENTO_ID, SALARIO, DATA_ADMISSAO, GERENTE_ID, CARGO) values (113, 'Sophey Leedal', 6, 6853.46, '2023-12-23', 9, 'Motorista de Entrega');\n",
        "insert into EMPREGADO (EMPREGADO_ID, NOME, DEPARTAMENTO_ID, SALARIO, DATA_ADMISSAO, GERENTE_ID, CARGO) values (114, 'Freida Facchini', 3, 3213.83, '2020-04-11', 5, 'Auxiliar de Produção');\n",
        "insert into EMPREGADO (EMPREGADO_ID, NOME, DEPARTAMENTO_ID, SALARIO, DATA_ADMISSAO, GERENTE_ID, CARGO) values (115, 'Nikolia Escoffier', 10, 4646.04, '2015-08-18', 2, 'Coordenador de Logística');\n",
        "insert into EMPREGADO (EMPREGADO_ID, NOME, DEPARTAMENTO_ID, SALARIO, DATA_ADMISSAO, GERENTE_ID, CARGO) values (116, 'Jennie Chavey', 3, 5043.49, '2024-06-23', 4, 'Auxiliar de Produção');\n",
        "insert into EMPREGADO (EMPREGADO_ID, NOME, DEPARTAMENTO_ID, SALARIO, DATA_ADMISSAO, GERENTE_ID, CARGO) values (117, 'Orella Dominique', 7, 6455.4, '2019-07-26', 8, 'Operador de Máquinas');\n",
        "insert into EMPREGADO (EMPREGADO_ID, NOME, DEPARTAMENTO_ID, SALARIO, DATA_ADMISSAO, GERENTE_ID, CARGO) values (118, 'Hill Pashby', 8, 9883.06, '2022-10-30', 4, 'Motorista de Entrega');\n",
        "insert into EMPREGADO (EMPREGADO_ID, NOME, DEPARTAMENTO_ID, SALARIO, DATA_ADMISSAO, GERENTE_ID, CARGO) values (119, 'Devora Lawrenson', 1, 8682.78, '2019-04-09', 3, 'Coordenador de Logística');\n",
        "insert into EMPREGADO (EMPREGADO_ID, NOME, DEPARTAMENTO_ID, SALARIO, DATA_ADMISSAO, GERENTE_ID, CARGO) values (120, 'Beitris Lombard', 3, 4933.12, '2017-05-25', 1, 'Operador de Máquinas');\n",
        "insert into EMPREGADO (EMPREGADO_ID, NOME, DEPARTAMENTO_ID, SALARIO, DATA_ADMISSAO, GERENTE_ID, CARGO) values (121, 'Ado Weiner', 1, 7538.81, '2015-03-22', 5, 'Gerente de Vendas');\n",
        "insert into EMPREGADO (EMPREGADO_ID, NOME, DEPARTAMENTO_ID, SALARIO, DATA_ADMISSAO, GERENTE_ID, CARGO) values (122, 'Georgianna O''Deoran', 9, 7367.63, '2017-11-30', 10, 'Auxiliar de Produção');\n",
        "insert into EMPREGADO (EMPREGADO_ID, NOME, DEPARTAMENTO_ID, SALARIO, DATA_ADMISSAO, GERENTE_ID, CARGO) values (123, 'Eloisa Hackney', 10, 9980.91, '2020-11-29', 10, 'Analista de Recursos Humanos');\n",
        "insert into EMPREGADO (EMPREGADO_ID, NOME, DEPARTAMENTO_ID, SALARIO, DATA_ADMISSAO, GERENTE_ID, CARGO) values (124, 'Torrence Brunnstein', 1, 8806.63, '2024-08-24', 10, 'Coordenador de Logística');\n",
        "insert into EMPREGADO (EMPREGADO_ID, NOME, DEPARTAMENTO_ID, SALARIO, DATA_ADMISSAO, GERENTE_ID, CARGO) values (125, 'Saunder Eliez', 3, 4497.95, '2021-03-24', 5, 'Auxiliar de Produção');\n",
        "insert into EMPREGADO (EMPREGADO_ID, NOME, DEPARTAMENTO_ID, SALARIO, DATA_ADMISSAO, GERENTE_ID, CARGO) values (126, 'Edgard Beacham', 6, 3847.69, '2020-01-30', 3, 'Coordenador de Logística');\n",
        "insert into EMPREGADO (EMPREGADO_ID, NOME, DEPARTAMENTO_ID, SALARIO, DATA_ADMISSAO, GERENTE_ID, CARGO) values (127, 'Northrop Drogan', 4, 5887.86, '2016-08-21', 9, 'Motorista de Entrega');\n",
        "insert into EMPREGADO (EMPREGADO_ID, NOME, DEPARTAMENTO_ID, SALARIO, DATA_ADMISSAO, GERENTE_ID, CARGO) values (128, 'Paolo Timlett', 1, 6810.39, '2013-04-20', 8, 'Coordenador de Logística');\n",
        "insert into EMPREGADO (EMPREGADO_ID, NOME, DEPARTAMENTO_ID, SALARIO, DATA_ADMISSAO, GERENTE_ID, CARGO) values (129, 'Shelby Westoff', 6, 7345.32, '2024-02-19', 4, 'Operador de Máquinas');\n",
        "insert into EMPREGADO (EMPREGADO_ID, NOME, DEPARTAMENTO_ID, SALARIO, DATA_ADMISSAO, GERENTE_ID, CARGO) values (130, 'Emilie Racher', 8, 8491.83, '2021-04-03', 10, 'Assistente Administrativo');\n",
        "insert into EMPREGADO (EMPREGADO_ID, NOME, DEPARTAMENTO_ID, SALARIO, DATA_ADMISSAO, GERENTE_ID, CARGO) values (131, 'Phyllys Pautot', 10, 8124.17, '2019-02-16', 8, 'Estoquista');\n",
        "insert into EMPREGADO (EMPREGADO_ID, NOME, DEPARTAMENTO_ID, SALARIO, DATA_ADMISSAO, GERENTE_ID, CARGO) values (132, 'Blakelee Cadwallader', 9, 5934.46, '2010-08-04', 8, 'Motorista de Entrega');\n",
        "insert into EMPREGADO (EMPREGADO_ID, NOME, DEPARTAMENTO_ID, SALARIO, DATA_ADMISSAO, GERENTE_ID, CARGO) values (133, 'Pam Owbrick', 2, 5920.4, '2018-12-08', 8, 'Analista de Recursos Humanos');\n",
        "insert into EMPREGADO (EMPREGADO_ID, NOME, DEPARTAMENTO_ID, SALARIO, DATA_ADMISSAO, GERENTE_ID, CARGO) values (134, 'Francoise Hanny', 3, 4968.65, '2024-03-02', 3, 'Coordenador de Logística');\n",
        "insert into EMPREGADO (EMPREGADO_ID, NOME, DEPARTAMENTO_ID, SALARIO, DATA_ADMISSAO, GERENTE_ID, CARGO) values (135, 'Colette Quadrio', 2, 4037.81, '2011-02-17', 9, 'Motorista de Entrega');\n",
        "insert into EMPREGADO (EMPREGADO_ID, NOME, DEPARTAMENTO_ID, SALARIO, DATA_ADMISSAO, GERENTE_ID, CARGO) values (136, 'Calida Larive', 8, 7413.42, '2018-07-15', 1, 'Gerente de Vendas');\n",
        "insert into EMPREGADO (EMPREGADO_ID, NOME, DEPARTAMENTO_ID, SALARIO, DATA_ADMISSAO, GERENTE_ID, CARGO) values (137, 'Fiona Spurman', 2, 6530.66, '2011-07-27', 8, 'Gerente de Vendas');\n",
        "insert into EMPREGADO (EMPREGADO_ID, NOME, DEPARTAMENTO_ID, SALARIO, DATA_ADMISSAO, GERENTE_ID, CARGO) values (138, 'Florian Rumin', 5, 5845.83, '2020-03-10', 8, 'Assistente Administrativo');\n",
        "insert into EMPREGADO (EMPREGADO_ID, NOME, DEPARTAMENTO_ID, SALARIO, DATA_ADMISSAO, GERENTE_ID, CARGO) values (139, 'Dev Pond-Jones', 1, 6477.17, '2018-01-31', 10, 'Motorista de Entrega');\n",
        "insert into EMPREGADO (EMPREGADO_ID, NOME, DEPARTAMENTO_ID, SALARIO, DATA_ADMISSAO, GERENTE_ID, CARGO) values (140, 'Lena Carrivick', 7, 8406.75, '2019-05-18', 5, 'Assistente Administrativo');\n",
        "insert into EMPREGADO (EMPREGADO_ID, NOME, DEPARTAMENTO_ID, SALARIO, DATA_ADMISSAO, GERENTE_ID, CARGO) values (141, 'Piotr Fanshaw', 7, 5838.91, '2021-10-11', 1, 'Motorista de Entrega');\n",
        "insert into EMPREGADO (EMPREGADO_ID, NOME, DEPARTAMENTO_ID, SALARIO, DATA_ADMISSAO, GERENTE_ID, CARGO) values (142, 'Britt Garmans', 9, 3490.96, '2018-09-25', 4, 'Gerente de Vendas');\n",
        "insert into EMPREGADO (EMPREGADO_ID, NOME, DEPARTAMENTO_ID, SALARIO, DATA_ADMISSAO, GERENTE_ID, CARGO) values (143, 'Davida Dowber', 8, 7396.65, '2024-01-31', 7, 'Técnico de Informática');\n",
        "insert into EMPREGADO (EMPREGADO_ID, NOME, DEPARTAMENTO_ID, SALARIO, DATA_ADMISSAO, GERENTE_ID, CARGO) values (144, 'Karon Whanstall', 3, 7162.85, '2024-07-10', 8, 'Estoquista');\n",
        "insert into EMPREGADO (EMPREGADO_ID, NOME, DEPARTAMENTO_ID, SALARIO, DATA_ADMISSAO, GERENTE_ID, CARGO) values (145, 'Zed O''Quin', 5, 5989.97, '2023-06-21', 1, 'Estoquista');\n",
        "insert into EMPREGADO (EMPREGADO_ID, NOME, DEPARTAMENTO_ID, SALARIO, DATA_ADMISSAO, GERENTE_ID, CARGO) values (146, 'Jacob Francie', 6, 4056.59, '2015-07-15', 5, 'Analista de Recursos Humanos');\n",
        "insert into EMPREGADO (EMPREGADO_ID, NOME, DEPARTAMENTO_ID, SALARIO, DATA_ADMISSAO, GERENTE_ID, CARGO) values (147, 'Priscella Scritch', 7, 4270.48, '2012-03-23', 6, 'Auxiliar de Produção');\n",
        "insert into EMPREGADO (EMPREGADO_ID, NOME, DEPARTAMENTO_ID, SALARIO, DATA_ADMISSAO, GERENTE_ID, CARGO) values (148, 'Colman McGookin', 10, 8166.4, '2021-07-11', 2, 'Assistente Administrativo');\n",
        "insert into EMPREGADO (EMPREGADO_ID, NOME, DEPARTAMENTO_ID, SALARIO, DATA_ADMISSAO, GERENTE_ID, CARGO) values (149, 'Teddy Gawne', 1, 6748.25, '2019-08-30', 4, 'Analista de Marketing');\n",
        "insert into EMPREGADO (EMPREGADO_ID, NOME, DEPARTAMENTO_ID, SALARIO, DATA_ADMISSAO, GERENTE_ID, CARGO) values (150, 'Christophe Bruckent', 8, 9916.5, '2024-05-13', 9, 'Motorista de Entrega');\n",
        "insert into EMPREGADO (EMPREGADO_ID, NOME, DEPARTAMENTO_ID, SALARIO, DATA_ADMISSAO, GERENTE_ID, CARGO) values (151, 'Cortney McNutt', 4, 7646.4, '2015-11-28', 2, 'Operador de Máquinas');\n",
        "insert into EMPREGADO (EMPREGADO_ID, NOME, DEPARTAMENTO_ID, SALARIO, DATA_ADMISSAO, GERENTE_ID, CARGO) values (152, 'Robinson Feldhuhn', 6, 3202.26, '2019-07-20', 10, 'Estoquista');\n",
        "insert into EMPREGADO (EMPREGADO_ID, NOME, DEPARTAMENTO_ID, SALARIO, DATA_ADMISSAO, GERENTE_ID, CARGO) values (153, 'Ros Coppock.', 6, 6373.82, '2017-02-12', 7, 'Analista de Marketing');\n",
        "insert into EMPREGADO (EMPREGADO_ID, NOME, DEPARTAMENTO_ID, SALARIO, DATA_ADMISSAO, GERENTE_ID, CARGO) values (154, 'Theresita Phaup', 3, 7814.91, '2014-11-10', 4, 'Analista de Recursos Humanos');\n",
        "insert into EMPREGADO (EMPREGADO_ID, NOME, DEPARTAMENTO_ID, SALARIO, DATA_ADMISSAO, GERENTE_ID, CARGO) values (155, 'Saraann Mordie', 3, 8423.58, '2022-06-22', 1, 'Assistente Administrativo');\n",
        "insert into EMPREGADO (EMPREGADO_ID, NOME, DEPARTAMENTO_ID, SALARIO, DATA_ADMISSAO, GERENTE_ID, CARGO) values (156, 'Carlene Loadman', 1, 4101.15, '2010-04-23', 2, 'Assistente Administrativo');\n",
        "insert into EMPREGADO (EMPREGADO_ID, NOME, DEPARTAMENTO_ID, SALARIO, DATA_ADMISSAO, GERENTE_ID, CARGO) values (157, 'Bari Rowet', 2, 7511.97, '2014-08-06', 2, 'Motorista de Entrega');\n",
        "insert into EMPREGADO (EMPREGADO_ID, NOME, DEPARTAMENTO_ID, SALARIO, DATA_ADMISSAO, GERENTE_ID, CARGO) values (158, 'Lem Paddock', 10, 5976.32, '2013-08-06', 5, 'Motorista de Entrega');\n",
        "insert into EMPREGADO (EMPREGADO_ID, NOME, DEPARTAMENTO_ID, SALARIO, DATA_ADMISSAO, GERENTE_ID, CARGO) values (159, 'Celestyn Beese', 5, 3764.09, '2012-07-22', 4, 'Operador de Máquinas');\n",
        "insert into EMPREGADO (EMPREGADO_ID, NOME, DEPARTAMENTO_ID, SALARIO, DATA_ADMISSAO, GERENTE_ID, CARGO) values (160, 'Rozele Grouse', 2, 3911.47, '2020-12-06', 5, 'Motorista de Entrega');\n",
        "insert into EMPREGADO (EMPREGADO_ID, NOME, DEPARTAMENTO_ID, SALARIO, DATA_ADMISSAO, GERENTE_ID, CARGO) values (161, 'Irvine McDyer', 9, 4178.18, '2010-07-28', 8, 'Motorista de Entrega');\n",
        "insert into EMPREGADO (EMPREGADO_ID, NOME, DEPARTAMENTO_ID, SALARIO, DATA_ADMISSAO, GERENTE_ID, CARGO) values (162, 'Kristos Oswick', 3, 3311.36, '2010-12-19', 9, 'Coordenador de Logística');\n",
        "insert into EMPREGADO (EMPREGADO_ID, NOME, DEPARTAMENTO_ID, SALARIO, DATA_ADMISSAO, GERENTE_ID, CARGO) values (163, 'Carroll Di Roberto', 10, 9467.63, '2016-04-29', 1, 'Coordenador de Logística');\n",
        "insert into EMPREGADO (EMPREGADO_ID, NOME, DEPARTAMENTO_ID, SALARIO, DATA_ADMISSAO, GERENTE_ID, CARGO) values (164, 'Cherri Weson', 6, 7673.32, '2017-10-17', 6, 'Motorista de Entrega');\n",
        "insert into EMPREGADO (EMPREGADO_ID, NOME, DEPARTAMENTO_ID, SALARIO, DATA_ADMISSAO, GERENTE_ID, CARGO) values (165, 'Abram Coupland', 1, 3157.82, '2012-10-05', 9, 'Estoquista');\n",
        "insert into EMPREGADO (EMPREGADO_ID, NOME, DEPARTAMENTO_ID, SALARIO, DATA_ADMISSAO, GERENTE_ID, CARGO) values (166, 'Fidelia Atkyns', 2, 6416.85, '2021-12-11', 5, 'Gerente de Vendas');\n",
        "insert into EMPREGADO (EMPREGADO_ID, NOME, DEPARTAMENTO_ID, SALARIO, DATA_ADMISSAO, GERENTE_ID, CARGO) values (167, 'Chico Jillitt', 9, 8022.43, '2020-02-11', 2, 'Analista de Recursos Humanos');\n",
        "insert into EMPREGADO (EMPREGADO_ID, NOME, DEPARTAMENTO_ID, SALARIO, DATA_ADMISSAO, GERENTE_ID, CARGO) values (168, 'Bendick Saye', 6, 8938.35, '2023-10-21', 8, 'Analista de Marketing');\n",
        "insert into EMPREGADO (EMPREGADO_ID, NOME, DEPARTAMENTO_ID, SALARIO, DATA_ADMISSAO, GERENTE_ID, CARGO) values (169, 'Pinchas Tendahl', 8, 7189.72, '2016-10-21', 6, 'Analista de Recursos Humanos');\n",
        "insert into EMPREGADO (EMPREGADO_ID, NOME, DEPARTAMENTO_ID, SALARIO, DATA_ADMISSAO, GERENTE_ID, CARGO) values (170, 'Jenelle Sekulla', 1, 5396.61, '2013-01-12', 3, 'Gerente de Vendas');\n",
        "insert into EMPREGADO (EMPREGADO_ID, NOME, DEPARTAMENTO_ID, SALARIO, DATA_ADMISSAO, GERENTE_ID, CARGO) values (171, 'Gaspar Jacobssen', 8, 4983.43, '2020-06-08', 3, 'Auxiliar de Produção');\n",
        "insert into EMPREGADO (EMPREGADO_ID, NOME, DEPARTAMENTO_ID, SALARIO, DATA_ADMISSAO, GERENTE_ID, CARGO) values (172, 'Alla Espadero', 7, 6246.57, '2017-01-28', 3, 'Coordenador de Logística');\n",
        "insert into EMPREGADO (EMPREGADO_ID, NOME, DEPARTAMENTO_ID, SALARIO, DATA_ADMISSAO, GERENTE_ID, CARGO) values (173, 'Scot Kmicicki', 5, 7344.22, '2017-02-07', 8, 'Analista de Marketing');\n",
        "insert into EMPREGADO (EMPREGADO_ID, NOME, DEPARTAMENTO_ID, SALARIO, DATA_ADMISSAO, GERENTE_ID, CARGO) values (174, 'Jsandye Skahill', 4, 6477.72, '2017-04-26', 7, 'Operador de Máquinas');\n",
        "insert into EMPREGADO (EMPREGADO_ID, NOME, DEPARTAMENTO_ID, SALARIO, DATA_ADMISSAO, GERENTE_ID, CARGO) values (175, 'Collie Fosken', 1, 9669.16, '2010-03-18', 3, 'Motorista de Entrega');\n",
        "insert into EMPREGADO (EMPREGADO_ID, NOME, DEPARTAMENTO_ID, SALARIO, DATA_ADMISSAO, GERENTE_ID, CARGO) values (176, 'Bailie Cordero', 10, 4919.8, '2012-07-28', 7, 'Assistente Administrativo');\n",
        "insert into EMPREGADO (EMPREGADO_ID, NOME, DEPARTAMENTO_ID, SALARIO, DATA_ADMISSAO, GERENTE_ID, CARGO) values (177, 'Amargo Menguy', 4, 9299.92, '2010-08-11', 5, 'Motorista de Entrega');\n",
        "insert into EMPREGADO (EMPREGADO_ID, NOME, DEPARTAMENTO_ID, SALARIO, DATA_ADMISSAO, GERENTE_ID, CARGO) values (178, 'Maryanne Dutt', 4, 7844.22, '2016-02-28', 8, 'Gerente de Vendas');\n",
        "insert into EMPREGADO (EMPREGADO_ID, NOME, DEPARTAMENTO_ID, SALARIO, DATA_ADMISSAO, GERENTE_ID, CARGO) values (179, 'Conrade Gurner', 7, 6580.37, '2013-07-08', 1, 'Analista de Marketing');\n",
        "insert into EMPREGADO (EMPREGADO_ID, NOME, DEPARTAMENTO_ID, SALARIO, DATA_ADMISSAO, GERENTE_ID, CARGO) values (180, 'Kingsly Tummons', 8, 4035.82, '2018-10-14', 9, 'Analista de Recursos Humanos');\n",
        "insert into EMPREGADO (EMPREGADO_ID, NOME, DEPARTAMENTO_ID, SALARIO, DATA_ADMISSAO, GERENTE_ID, CARGO) values (181, 'Brook Bettlestone', 2, 9066.79, '2010-08-02', 1, 'Assistente Administrativo');\n",
        "insert into EMPREGADO (EMPREGADO_ID, NOME, DEPARTAMENTO_ID, SALARIO, DATA_ADMISSAO, GERENTE_ID, CARGO) values (182, 'Rochette Foyston', 2, 7425.68, '2018-03-06', 6, 'Gerente de Vendas');\n",
        "insert into EMPREGADO (EMPREGADO_ID, NOME, DEPARTAMENTO_ID, SALARIO, DATA_ADMISSAO, GERENTE_ID, CARGO) values (183, 'Jackelyn Counihan', 6, 6319.76, '2019-06-24', 3, 'Coordenador de Logística');\n",
        "insert into EMPREGADO (EMPREGADO_ID, NOME, DEPARTAMENTO_ID, SALARIO, DATA_ADMISSAO, GERENTE_ID, CARGO) values (184, 'Hilary Estcot', 6, 5777.99, '2017-02-11', 2, 'Analista de Marketing');\n",
        "insert into EMPREGADO (EMPREGADO_ID, NOME, DEPARTAMENTO_ID, SALARIO, DATA_ADMISSAO, GERENTE_ID, CARGO) values (185, 'Douglass Gymlett', 4, 5088.51, '2015-09-01', 8, 'Analista de Marketing');\n",
        "insert into EMPREGADO (EMPREGADO_ID, NOME, DEPARTAMENTO_ID, SALARIO, DATA_ADMISSAO, GERENTE_ID, CARGO) values (186, 'Raynor Selwood', 6, 5998.64, '2021-04-05', 9, 'Técnico de Informática');\n",
        "insert into EMPREGADO (EMPREGADO_ID, NOME, DEPARTAMENTO_ID, SALARIO, DATA_ADMISSAO, GERENTE_ID, CARGO) values (187, 'Katleen Town', 3, 5533.92, '2024-04-07', 10, 'Motorista de Entrega');\n",
        "insert into EMPREGADO (EMPREGADO_ID, NOME, DEPARTAMENTO_ID, SALARIO, DATA_ADMISSAO, GERENTE_ID, CARGO) values (188, 'Barry Smidmor', 6, 5569.74, '2021-05-16', 7, 'Motorista de Entrega');\n",
        "insert into EMPREGADO (EMPREGADO_ID, NOME, DEPARTAMENTO_ID, SALARIO, DATA_ADMISSAO, GERENTE_ID, CARGO) values (189, 'Ashley Pentelow', 5, 3622.9, '2024-06-19', 3, 'Coordenador de Logística');\n",
        "insert into EMPREGADO (EMPREGADO_ID, NOME, DEPARTAMENTO_ID, SALARIO, DATA_ADMISSAO, GERENTE_ID, CARGO) values (190, 'Zitella Dyshart', 1, 8227.49, '2018-12-11', 3, 'Estoquista');\n",
        "insert into EMPREGADO (EMPREGADO_ID, NOME, DEPARTAMENTO_ID, SALARIO, DATA_ADMISSAO, GERENTE_ID, CARGO) values (191, 'Velvet Besnardeau', 5, 8283.12, '2017-11-06', 4, 'Analista de Marketing');\n",
        "insert into EMPREGADO (EMPREGADO_ID, NOME, DEPARTAMENTO_ID, SALARIO, DATA_ADMISSAO, GERENTE_ID, CARGO) values (192, 'Clarette Phaup', 10, 4277.82, '2024-08-05', 2, 'Operador de Máquinas');\n",
        "insert into EMPREGADO (EMPREGADO_ID, NOME, DEPARTAMENTO_ID, SALARIO, DATA_ADMISSAO, GERENTE_ID, CARGO) values (193, 'Kingston Norsworthy', 8, 7619.58, '2011-06-10', 3, 'Analista de Recursos Humanos');\n",
        "insert into EMPREGADO (EMPREGADO_ID, NOME, DEPARTAMENTO_ID, SALARIO, DATA_ADMISSAO, GERENTE_ID, CARGO) values (194, 'Lelia Gegay', 3, 6011.78, '2021-05-07', 9, 'Estoquista');\n",
        "insert into EMPREGADO (EMPREGADO_ID, NOME, DEPARTAMENTO_ID, SALARIO, DATA_ADMISSAO, GERENTE_ID, CARGO) values (195, 'Mariquilla Rolance', 7, 5087.45, '2014-12-27', 7, 'Estoquista');\n",
        "insert into EMPREGADO (EMPREGADO_ID, NOME, DEPARTAMENTO_ID, SALARIO, DATA_ADMISSAO, GERENTE_ID, CARGO) values (196, 'Keen Iozefovich', 6, 5537.11, '2020-06-09', 5, 'Analista de Recursos Humanos');\n",
        "insert into EMPREGADO (EMPREGADO_ID, NOME, DEPARTAMENTO_ID, SALARIO, DATA_ADMISSAO, GERENTE_ID, CARGO) values (197, 'Vincenty Kahn', 2, 5465.22, '2012-07-06', 1, 'Operador de Máquinas');\n",
        "insert into EMPREGADO (EMPREGADO_ID, NOME, DEPARTAMENTO_ID, SALARIO, DATA_ADMISSAO, GERENTE_ID, CARGO) values (198, 'Sapphire Pratton', 9, 9724.29, '2021-01-24', 5, 'Analista de Recursos Humanos');\n",
        "insert into EMPREGADO (EMPREGADO_ID, NOME, DEPARTAMENTO_ID, SALARIO, DATA_ADMISSAO, GERENTE_ID, CARGO) values (199, 'Wilow Stripp', 2, 4222.67, '2020-02-13', 3, 'Analista de Marketing');\n",
        "insert into EMPREGADO (EMPREGADO_ID, NOME, DEPARTAMENTO_ID, SALARIO, DATA_ADMISSAO, GERENTE_ID, CARGO) values (200, 'Beverie Jeffcock', 1, 8951.97, '2024-08-18', 6, 'Estoquista');\n",
        "insert into EMPREGADO (EMPREGADO_ID, NOME, DEPARTAMENTO_ID, SALARIO, DATA_ADMISSAO, GERENTE_ID, CARGO) values (201, 'Dulcia Kann', 2, 8011.12, '2021-02-19', 3, 'Auxiliar de Produção');\n",
        "insert into EMPREGADO (EMPREGADO_ID, NOME, DEPARTAMENTO_ID, SALARIO, DATA_ADMISSAO, GERENTE_ID, CARGO) values (202, 'Shanie Stevings', 6, 7813.74, '2021-03-22', 3, 'Operador de Máquinas');\n",
        "insert into EMPREGADO (EMPREGADO_ID, NOME, DEPARTAMENTO_ID, SALARIO, DATA_ADMISSAO, GERENTE_ID, CARGO) values (203, 'Hertha Polino', 5, 6287.17, '2015-02-28', 4, 'Técnico de Informática');\n",
        "insert into EMPREGADO (EMPREGADO_ID, NOME, DEPARTAMENTO_ID, SALARIO, DATA_ADMISSAO, GERENTE_ID, CARGO) values (204, 'Kasper Christian', 1, 6393.32, '2012-12-16', 2, 'Analista de Marketing');\n",
        "insert into EMPREGADO (EMPREGADO_ID, NOME, DEPARTAMENTO_ID, SALARIO, DATA_ADMISSAO, GERENTE_ID, CARGO) values (205, 'Rosalind Grinsdale', 10, 6789.61, '2013-10-27', 4, 'Gerente de Vendas');\n",
        "insert into EMPREGADO (EMPREGADO_ID, NOME, DEPARTAMENTO_ID, SALARIO, DATA_ADMISSAO, GERENTE_ID, CARGO) values (206, 'Boniface Durnell', 8, 4083.31, '2015-02-18', 7, 'Analista de Recursos Humanos');\n",
        "insert into EMPREGADO (EMPREGADO_ID, NOME, DEPARTAMENTO_ID, SALARIO, DATA_ADMISSAO, GERENTE_ID, CARGO) values (207, 'Alfy Mayer', 7, 8106.03, '2014-05-03', 7, 'Operador de Máquinas');\n",
        "insert into EMPREGADO (EMPREGADO_ID, NOME, DEPARTAMENTO_ID, SALARIO, DATA_ADMISSAO, GERENTE_ID, CARGO) values (208, 'Martina Bedlington', 8, 8198.3, '2019-12-24', 5, 'Coordenador de Logística');\n",
        "insert into EMPREGADO (EMPREGADO_ID, NOME, DEPARTAMENTO_ID, SALARIO, DATA_ADMISSAO, GERENTE_ID, CARGO) values (209, 'Yevette Whitechurch', 4, 4510.62, '2024-08-20', 2, 'Auxiliar de Produção');\n",
        "insert into EMPREGADO (EMPREGADO_ID, NOME, DEPARTAMENTO_ID, SALARIO, DATA_ADMISSAO, GERENTE_ID, CARGO) values (210, 'Derwin Ocklin', 9, 9394.74, '2022-01-28', 8, 'Motorista de Entrega');\n",
        "insert into EMPREGADO (EMPREGADO_ID, NOME, DEPARTAMENTO_ID, SALARIO, DATA_ADMISSAO, GERENTE_ID, CARGO) values (211, 'Milo Burleigh', 2, 5117.15, '2018-01-31', 9, 'Técnico de Informática');\n",
        "insert into EMPREGADO (EMPREGADO_ID, NOME, DEPARTAMENTO_ID, SALARIO, DATA_ADMISSAO, GERENTE_ID, CARGO) values (212, 'Kip Domm', 7, 9450.5, '2014-06-29', 5, 'Técnico de Informática');\n",
        "insert into EMPREGADO (EMPREGADO_ID, NOME, DEPARTAMENTO_ID, SALARIO, DATA_ADMISSAO, GERENTE_ID, CARGO) values (213, 'Malissa Shakspeare', 3, 4722.67, '2011-08-08', 4, 'Analista de Recursos Humanos');\n",
        "insert into EMPREGADO (EMPREGADO_ID, NOME, DEPARTAMENTO_ID, SALARIO, DATA_ADMISSAO, GERENTE_ID, CARGO) values (214, 'Prissie Battell', 3, 7246.11, '2012-06-13', 6, 'Auxiliar de Produção');\n",
        "insert into EMPREGADO (EMPREGADO_ID, NOME, DEPARTAMENTO_ID, SALARIO, DATA_ADMISSAO, GERENTE_ID, CARGO) values (215, 'Sidnee Gepson', 2, 5469.42, '2016-08-21', 6, 'Analista de Marketing');\n",
        "insert into EMPREGADO (EMPREGADO_ID, NOME, DEPARTAMENTO_ID, SALARIO, DATA_ADMISSAO, GERENTE_ID, CARGO) values (216, 'Cecilla Brion', 9, 9908.01, '2015-11-25', 2, 'Estoquista');\n",
        "insert into EMPREGADO (EMPREGADO_ID, NOME, DEPARTAMENTO_ID, SALARIO, DATA_ADMISSAO, GERENTE_ID, CARGO) values (217, 'Ab Batkin', 6, 3697.59, '2010-10-26', 5, 'Técnico de Informática');\n",
        "insert into EMPREGADO (EMPREGADO_ID, NOME, DEPARTAMENTO_ID, SALARIO, DATA_ADMISSAO, GERENTE_ID, CARGO) values (218, 'Eloisa Keirle', 7, 7840.72, '2017-06-26', 4, 'Gerente de Vendas');\n",
        "insert into EMPREGADO (EMPREGADO_ID, NOME, DEPARTAMENTO_ID, SALARIO, DATA_ADMISSAO, GERENTE_ID, CARGO) values (219, 'Tamiko Foat', 10, 4415.11, '2023-08-19', 3, 'Analista de Marketing');\n",
        "insert into EMPREGADO (EMPREGADO_ID, NOME, DEPARTAMENTO_ID, SALARIO, DATA_ADMISSAO, GERENTE_ID, CARGO) values (220, 'Opal Hightown', 9, 3197.23, '2011-07-13', 2, 'Operador de Máquinas');\n",
        "insert into EMPREGADO (EMPREGADO_ID, NOME, DEPARTAMENTO_ID, SALARIO, DATA_ADMISSAO, GERENTE_ID, CARGO) values (221, 'Taffy Andrea', 6, 5271.21, '2022-10-01', 4, 'Operador de Máquinas');\n",
        "insert into EMPREGADO (EMPREGADO_ID, NOME, DEPARTAMENTO_ID, SALARIO, DATA_ADMISSAO, GERENTE_ID, CARGO) values (222, 'Nicol Wynter', 6, 5631.95, '2022-04-30', 4, 'Assistente Administrativo');\n",
        "insert into EMPREGADO (EMPREGADO_ID, NOME, DEPARTAMENTO_ID, SALARIO, DATA_ADMISSAO, GERENTE_ID, CARGO) values (223, 'Skip Joskowicz', 1, 4937.28, '2017-02-27', 3, 'Analista de Marketing');\n",
        "insert into EMPREGADO (EMPREGADO_ID, NOME, DEPARTAMENTO_ID, SALARIO, DATA_ADMISSAO, GERENTE_ID, CARGO) values (224, 'Laural Erskine Sandys', 2, 7119.04, '2016-11-18', 3, 'Auxiliar de Produção');\n",
        "insert into EMPREGADO (EMPREGADO_ID, NOME, DEPARTAMENTO_ID, SALARIO, DATA_ADMISSAO, GERENTE_ID, CARGO) values (225, 'Denys Kigelman', 9, 8330.61, '2024-06-29', 1, 'Técnico de Informática');\n",
        "insert into EMPREGADO (EMPREGADO_ID, NOME, DEPARTAMENTO_ID, SALARIO, DATA_ADMISSAO, GERENTE_ID, CARGO) values (226, 'Marna Petschelt', 8, 6722.79, '2014-12-26', 8, 'Auxiliar de Produção');\n",
        "insert into EMPREGADO (EMPREGADO_ID, NOME, DEPARTAMENTO_ID, SALARIO, DATA_ADMISSAO, GERENTE_ID, CARGO) values (227, 'Codie Lehrmann', 7, 7058.72, '2014-08-15', 3, 'Coordenador de Logística');\n",
        "insert into EMPREGADO (EMPREGADO_ID, NOME, DEPARTAMENTO_ID, SALARIO, DATA_ADMISSAO, GERENTE_ID, CARGO) values (228, 'Nap Leades', 7, 5977.04, '2011-09-15', 8, 'Assistente Administrativo');\n",
        "insert into EMPREGADO (EMPREGADO_ID, NOME, DEPARTAMENTO_ID, SALARIO, DATA_ADMISSAO, GERENTE_ID, CARGO) values (229, 'Carleen Klessmann', 3, 8378.74, '2016-12-10', 6, 'Motorista de Entrega');\n",
        "insert into EMPREGADO (EMPREGADO_ID, NOME, DEPARTAMENTO_ID, SALARIO, DATA_ADMISSAO, GERENTE_ID, CARGO) values (230, 'Camey Edinburgh', 6, 9971.97, '2020-11-03', 3, 'Estoquista');\n",
        "insert into EMPREGADO (EMPREGADO_ID, NOME, DEPARTAMENTO_ID, SALARIO, DATA_ADMISSAO, GERENTE_ID, CARGO) values (231, 'Lanie Trayford', 1, 4752.84, '2018-05-03', 2, 'Assistente Administrativo');\n",
        "insert into EMPREGADO (EMPREGADO_ID, NOME, DEPARTAMENTO_ID, SALARIO, DATA_ADMISSAO, GERENTE_ID, CARGO) values (232, 'Francisco Climpson', 4, 8132.99, '2019-07-06', 7, 'Analista de Recursos Humanos');\n",
        "insert into EMPREGADO (EMPREGADO_ID, NOME, DEPARTAMENTO_ID, SALARIO, DATA_ADMISSAO, GERENTE_ID, CARGO) values (233, 'Gilles Schulkins', 4, 4121.39, '2012-10-18', 2, 'Técnico de Informática');\n",
        "insert into EMPREGADO (EMPREGADO_ID, NOME, DEPARTAMENTO_ID, SALARIO, DATA_ADMISSAO, GERENTE_ID, CARGO) values (234, 'Nicolina Peach', 6, 8702.82, '2018-08-30', 2, 'Técnico de Informática');\n",
        "insert into EMPREGADO (EMPREGADO_ID, NOME, DEPARTAMENTO_ID, SALARIO, DATA_ADMISSAO, GERENTE_ID, CARGO) values (235, 'Orion Cockarill', 1, 6790.27, '2021-11-24', 3, 'Estoquista');\n",
        "insert into EMPREGADO (EMPREGADO_ID, NOME, DEPARTAMENTO_ID, SALARIO, DATA_ADMISSAO, GERENTE_ID, CARGO) values (236, 'Issiah Kraft', 9, 7420.41, '2024-06-02', 5, 'Estoquista');\n",
        "insert into EMPREGADO (EMPREGADO_ID, NOME, DEPARTAMENTO_ID, SALARIO, DATA_ADMISSAO, GERENTE_ID, CARGO) values (237, 'Richy Mingardi', 2, 6844.61, '2018-07-20', 9, 'Estoquista');\n",
        "insert into EMPREGADO (EMPREGADO_ID, NOME, DEPARTAMENTO_ID, SALARIO, DATA_ADMISSAO, GERENTE_ID, CARGO) values (238, 'Anne-marie Audry', 6, 7064.93, '2010-06-18', 1, 'Analista de Recursos Humanos');\n",
        "insert into EMPREGADO (EMPREGADO_ID, NOME, DEPARTAMENTO_ID, SALARIO, DATA_ADMISSAO, GERENTE_ID, CARGO) values (239, 'Linnell Sabbatier', 2, 9812.66, '2013-12-03', 10, 'Auxiliar de Produção');\n",
        "insert into EMPREGADO (EMPREGADO_ID, NOME, DEPARTAMENTO_ID, SALARIO, DATA_ADMISSAO, GERENTE_ID, CARGO) values (240, 'Tanney Paddie', 9, 6927.24, '2016-07-22', 1, 'Técnico de Informática');\n",
        "insert into EMPREGADO (EMPREGADO_ID, NOME, DEPARTAMENTO_ID, SALARIO, DATA_ADMISSAO, GERENTE_ID, CARGO) values (241, 'Rawley McGavigan', 6, 9548.14, '2012-08-12', 8, 'Estoquista');\n",
        "insert into EMPREGADO (EMPREGADO_ID, NOME, DEPARTAMENTO_ID, SALARIO, DATA_ADMISSAO, GERENTE_ID, CARGO) values (242, 'Marcie Milton-White', 6, 3530.98, '2024-03-03', 9, 'Motorista de Entrega');\n",
        "insert into EMPREGADO (EMPREGADO_ID, NOME, DEPARTAMENTO_ID, SALARIO, DATA_ADMISSAO, GERENTE_ID, CARGO) values (243, 'Nat Torrejon', 2, 8721.4, '2024-02-10', 10, 'Gerente de Vendas');\n",
        "insert into EMPREGADO (EMPREGADO_ID, NOME, DEPARTAMENTO_ID, SALARIO, DATA_ADMISSAO, GERENTE_ID, CARGO) values (244, 'Reeta Riddell', 10, 7023.21, '2022-08-24', 1, 'Motorista de Entrega');\n",
        "insert into EMPREGADO (EMPREGADO_ID, NOME, DEPARTAMENTO_ID, SALARIO, DATA_ADMISSAO, GERENTE_ID, CARGO) values (245, 'Danila Maffey', 8, 6720.0, '2011-07-08', 9, 'Gerente de Vendas');\n",
        "insert into EMPREGADO (EMPREGADO_ID, NOME, DEPARTAMENTO_ID, SALARIO, DATA_ADMISSAO, GERENTE_ID, CARGO) values (246, 'Alexei MacElharge', 5, 3261.95, '2014-02-23', 4, 'Operador de Máquinas');\n",
        "insert into EMPREGADO (EMPREGADO_ID, NOME, DEPARTAMENTO_ID, SALARIO, DATA_ADMISSAO, GERENTE_ID, CARGO) values (247, 'Dalia Husband', 5, 4763.49, '2015-06-18', 3, 'Coordenador de Logística');\n",
        "insert into EMPREGADO (EMPREGADO_ID, NOME, DEPARTAMENTO_ID, SALARIO, DATA_ADMISSAO, GERENTE_ID, CARGO) values (248, 'Thomasine Box', 7, 6364.07, '2011-06-12', 2, 'Analista de Recursos Humanos');\n",
        "insert into EMPREGADO (EMPREGADO_ID, NOME, DEPARTAMENTO_ID, SALARIO, DATA_ADMISSAO, GERENTE_ID, CARGO) values (249, 'Merry Reckhouse', 3, 3667.55, '2023-11-06', 5, 'Analista de Marketing');\n",
        "insert into EMPREGADO (EMPREGADO_ID, NOME, DEPARTAMENTO_ID, SALARIO, DATA_ADMISSAO, GERENTE_ID, CARGO) values (250, 'Mikol Tebbitt', 10, 9162.09, '2021-02-25', 2, 'Analista de Marketing');\n",
        "insert into EMPREGADO (EMPREGADO_ID, NOME, DEPARTAMENTO_ID, SALARIO, DATA_ADMISSAO, GERENTE_ID, CARGO) values (251, 'Mord McVanamy', 6, 9064.98, '2014-12-11', 5, 'Técnico de Informática');\n",
        "insert into EMPREGADO (EMPREGADO_ID, NOME, DEPARTAMENTO_ID, SALARIO, DATA_ADMISSAO, GERENTE_ID, CARGO) values (252, 'Collette Cumes', 7, 3470.91, '2013-05-21', 9, 'Gerente de Vendas');\n",
        "insert into EMPREGADO (EMPREGADO_ID, NOME, DEPARTAMENTO_ID, SALARIO, DATA_ADMISSAO, GERENTE_ID, CARGO) values (253, 'Alika Jennrich', 6, 4176.06, '2011-01-02', 3, 'Motorista de Entrega');\n",
        "insert into EMPREGADO (EMPREGADO_ID, NOME, DEPARTAMENTO_ID, SALARIO, DATA_ADMISSAO, GERENTE_ID, CARGO) values (254, 'Sib Koeppe', 6, 8553.58, '2019-08-02', 5, 'Coordenador de Logística');\n",
        "insert into EMPREGADO (EMPREGADO_ID, NOME, DEPARTAMENTO_ID, SALARIO, DATA_ADMISSAO, GERENTE_ID, CARGO) values (255, 'Chase Foker', 4, 8544.67, '2015-11-11', 2, 'Coordenador de Logística');\n",
        "insert into EMPREGADO (EMPREGADO_ID, NOME, DEPARTAMENTO_ID, SALARIO, DATA_ADMISSAO, GERENTE_ID, CARGO) values (256, 'Prudy Gilfillan', 1, 8642.71, '2017-01-22', 9, 'Analista de Marketing');\n",
        "insert into EMPREGADO (EMPREGADO_ID, NOME, DEPARTAMENTO_ID, SALARIO, DATA_ADMISSAO, GERENTE_ID, CARGO) values (257, 'Merrilee Olwen', 6, 7728.54, '2021-04-23', 8, 'Estoquista');\n",
        "insert into EMPREGADO (EMPREGADO_ID, NOME, DEPARTAMENTO_ID, SALARIO, DATA_ADMISSAO, GERENTE_ID, CARGO) values (258, 'Nicoline Flipsen', 10, 9806.49, '2020-06-03', 5, 'Gerente de Vendas');\n",
        "insert into EMPREGADO (EMPREGADO_ID, NOME, DEPARTAMENTO_ID, SALARIO, DATA_ADMISSAO, GERENTE_ID, CARGO) values (259, 'Saw Foxen', 8, 5208.28, '2022-11-18', 9, 'Estoquista');\n",
        "insert into EMPREGADO (EMPREGADO_ID, NOME, DEPARTAMENTO_ID, SALARIO, DATA_ADMISSAO, GERENTE_ID, CARGO) values (260, 'Sydney Rickesies', 2, 3693.38, '2016-10-10', 5, 'Motorista de Entrega');\n",
        "insert into EMPREGADO (EMPREGADO_ID, NOME, DEPARTAMENTO_ID, SALARIO, DATA_ADMISSAO, GERENTE_ID, CARGO) values (261, 'Madelaine Graal', 1, 8329.11, '2020-10-29', 6, 'Gerente de Vendas');\n",
        "insert into EMPREGADO (EMPREGADO_ID, NOME, DEPARTAMENTO_ID, SALARIO, DATA_ADMISSAO, GERENTE_ID, CARGO) values (262, 'Hamilton Hartgill', 1, 9820.28, '2016-12-09', 8, 'Coordenador de Logística');\n",
        "insert into EMPREGADO (EMPREGADO_ID, NOME, DEPARTAMENTO_ID, SALARIO, DATA_ADMISSAO, GERENTE_ID, CARGO) values (263, 'Lenore McKeveney', 2, 4777.92, '2012-06-19', 1, 'Estoquista');\n",
        "insert into EMPREGADO (EMPREGADO_ID, NOME, DEPARTAMENTO_ID, SALARIO, DATA_ADMISSAO, GERENTE_ID, CARGO) values (264, 'Bianka Valance', 4, 3556.38, '2018-10-18', 1, 'Coordenador de Logística');\n",
        "insert into EMPREGADO (EMPREGADO_ID, NOME, DEPARTAMENTO_ID, SALARIO, DATA_ADMISSAO, GERENTE_ID, CARGO) values (265, 'Lucretia Crinson', 1, 8822.57, '2020-06-05', 6, 'Estoquista');\n",
        "insert into EMPREGADO (EMPREGADO_ID, NOME, DEPARTAMENTO_ID, SALARIO, DATA_ADMISSAO, GERENTE_ID, CARGO) values (266, 'Marty Oager', 3, 4147.51, '2010-09-01', 4, 'Coordenador de Logística');\n",
        "insert into EMPREGADO (EMPREGADO_ID, NOME, DEPARTAMENTO_ID, SALARIO, DATA_ADMISSAO, GERENTE_ID, CARGO) values (267, 'Maribel Elkin', 6, 6437.56, '2013-06-02', 1, 'Analista de Marketing');\n",
        "insert into EMPREGADO (EMPREGADO_ID, NOME, DEPARTAMENTO_ID, SALARIO, DATA_ADMISSAO, GERENTE_ID, CARGO) values (268, 'Tove Kinzel', 4, 4462.21, '2011-04-23', 7, 'Motorista de Entrega');\n",
        "insert into EMPREGADO (EMPREGADO_ID, NOME, DEPARTAMENTO_ID, SALARIO, DATA_ADMISSAO, GERENTE_ID, CARGO) values (269, 'Astrid Feldberger', 2, 3086.46, '2024-04-10', 3, 'Motorista de Entrega');\n",
        "insert into EMPREGADO (EMPREGADO_ID, NOME, DEPARTAMENTO_ID, SALARIO, DATA_ADMISSAO, GERENTE_ID, CARGO) values (270, 'Luelle Ranahan', 3, 8623.83, '2015-08-10', 7, 'Coordenador de Logística');\n",
        "insert into EMPREGADO (EMPREGADO_ID, NOME, DEPARTAMENTO_ID, SALARIO, DATA_ADMISSAO, GERENTE_ID, CARGO) values (271, 'Selena Adamczewski', 6, 4045.93, '2015-09-05', 5, 'Estoquista');\n",
        "insert into EMPREGADO (EMPREGADO_ID, NOME, DEPARTAMENTO_ID, SALARIO, DATA_ADMISSAO, GERENTE_ID, CARGO) values (272, 'Dianemarie Duchart', 9, 7897.16, '2020-07-04', 4, 'Analista de Recursos Humanos');\n",
        "insert into EMPREGADO (EMPREGADO_ID, NOME, DEPARTAMENTO_ID, SALARIO, DATA_ADMISSAO, GERENTE_ID, CARGO) values (273, 'Yale Lockton', 2, 3178.27, '2024-04-06', 10, 'Assistente Administrativo');\n",
        "insert into EMPREGADO (EMPREGADO_ID, NOME, DEPARTAMENTO_ID, SALARIO, DATA_ADMISSAO, GERENTE_ID, CARGO) values (274, 'Robbie Clayhill', 9, 3670.28, '2024-08-09', 6, 'Analista de Recursos Humanos');\n",
        "insert into EMPREGADO (EMPREGADO_ID, NOME, DEPARTAMENTO_ID, SALARIO, DATA_ADMISSAO, GERENTE_ID, CARGO) values (275, 'Domeniga Hyndson', 3, 3245.95, '2015-07-01', 9, 'Técnico de Informática');\n",
        "insert into EMPREGADO (EMPREGADO_ID, NOME, DEPARTAMENTO_ID, SALARIO, DATA_ADMISSAO, GERENTE_ID, CARGO) values (276, 'Silvanus Siehard', 1, 8464.86, '2019-06-07', 5, 'Motorista de Entrega');\n",
        "insert into EMPREGADO (EMPREGADO_ID, NOME, DEPARTAMENTO_ID, SALARIO, DATA_ADMISSAO, GERENTE_ID, CARGO) values (277, 'Enrika Sowerbutts', 5, 3297.85, '2017-07-11', 4, 'Analista de Recursos Humanos');\n",
        "insert into EMPREGADO (EMPREGADO_ID, NOME, DEPARTAMENTO_ID, SALARIO, DATA_ADMISSAO, GERENTE_ID, CARGO) values (278, 'Killian Toon', 7, 5231.54, '2016-04-24', 7, 'Analista de Recursos Humanos');\n",
        "insert into EMPREGADO (EMPREGADO_ID, NOME, DEPARTAMENTO_ID, SALARIO, DATA_ADMISSAO, GERENTE_ID, CARGO) values (279, 'Dixie Redington', 10, 8926.84, '2017-09-18', 1, 'Assistente Administrativo');\n",
        "insert into EMPREGADO (EMPREGADO_ID, NOME, DEPARTAMENTO_ID, SALARIO, DATA_ADMISSAO, GERENTE_ID, CARGO) values (280, 'Maurizio Laingmaid', 7, 9933.3, '2016-10-05', 9, 'Motorista de Entrega');\n",
        "insert into EMPREGADO (EMPREGADO_ID, NOME, DEPARTAMENTO_ID, SALARIO, DATA_ADMISSAO, GERENTE_ID, CARGO) values (281, 'Legra Barcke', 8, 4264.6, '2017-02-10', 9, 'Gerente de Vendas');\n",
        "insert into EMPREGADO (EMPREGADO_ID, NOME, DEPARTAMENTO_ID, SALARIO, DATA_ADMISSAO, GERENTE_ID, CARGO) values (282, 'Jessie Trengrove', 9, 4197.98, '2022-04-09', 6, 'Gerente de Vendas');\n",
        "insert into EMPREGADO (EMPREGADO_ID, NOME, DEPARTAMENTO_ID, SALARIO, DATA_ADMISSAO, GERENTE_ID, CARGO) values (283, 'Bambi Whelband', 3, 8290.03, '2014-01-26', 9, 'Motorista de Entrega');\n",
        "insert into EMPREGADO (EMPREGADO_ID, NOME, DEPARTAMENTO_ID, SALARIO, DATA_ADMISSAO, GERENTE_ID, CARGO) values (284, 'Rolph Sweeting', 2, 8811.43, '2019-06-19', 4, 'Analista de Marketing');\n",
        "insert into EMPREGADO (EMPREGADO_ID, NOME, DEPARTAMENTO_ID, SALARIO, DATA_ADMISSAO, GERENTE_ID, CARGO) values (285, 'Linnie Davison', 10, 5816.95, '2015-07-25', 2, 'Coordenador de Logística');\n",
        "insert into EMPREGADO (EMPREGADO_ID, NOME, DEPARTAMENTO_ID, SALARIO, DATA_ADMISSAO, GERENTE_ID, CARGO) values (286, 'Grady Bonnet', 1, 7145.72, '2013-02-26', 5, 'Técnico de Informática');\n",
        "insert into EMPREGADO (EMPREGADO_ID, NOME, DEPARTAMENTO_ID, SALARIO, DATA_ADMISSAO, GERENTE_ID, CARGO) values (287, 'Roanne Cosson', 1, 4460.7, '2014-12-26', 3, 'Técnico de Informática');\n",
        "insert into EMPREGADO (EMPREGADO_ID, NOME, DEPARTAMENTO_ID, SALARIO, DATA_ADMISSAO, GERENTE_ID, CARGO) values (288, 'Gae Streatfield', 3, 9353.46, '2015-10-28', 1, 'Coordenador de Logística');\n",
        "insert into EMPREGADO (EMPREGADO_ID, NOME, DEPARTAMENTO_ID, SALARIO, DATA_ADMISSAO, GERENTE_ID, CARGO) values (289, 'Phillis Bingle', 9, 5631.23, '2015-05-19', 8, 'Auxiliar de Produção');\n",
        "insert into EMPREGADO (EMPREGADO_ID, NOME, DEPARTAMENTO_ID, SALARIO, DATA_ADMISSAO, GERENTE_ID, CARGO) values (290, 'Tessy Jerson', 8, 7654.73, '2016-12-15', 3, 'Coordenador de Logística');\n",
        "insert into EMPREGADO (EMPREGADO_ID, NOME, DEPARTAMENTO_ID, SALARIO, DATA_ADMISSAO, GERENTE_ID, CARGO) values (291, 'Doll Yarr', 7, 4158.05, '2016-04-25', 7, 'Auxiliar de Produção');\n",
        "insert into EMPREGADO (EMPREGADO_ID, NOME, DEPARTAMENTO_ID, SALARIO, DATA_ADMISSAO, GERENTE_ID, CARGO) values (292, 'Cedric Harrild', 8, 3426.74, '2017-10-21', 1, 'Técnico de Informática');\n",
        "insert into EMPREGADO (EMPREGADO_ID, NOME, DEPARTAMENTO_ID, SALARIO, DATA_ADMISSAO, GERENTE_ID, CARGO) values (293, 'Trumann Rowley', 2, 8437.88, '2012-11-20', 7, 'Estoquista');\n",
        "insert into EMPREGADO (EMPREGADO_ID, NOME, DEPARTAMENTO_ID, SALARIO, DATA_ADMISSAO, GERENTE_ID, CARGO) values (294, 'Sarah Lammert', 6, 4487.57, '2010-01-18', 9, 'Analista de Marketing');\n",
        "insert into EMPREGADO (EMPREGADO_ID, NOME, DEPARTAMENTO_ID, SALARIO, DATA_ADMISSAO, GERENTE_ID, CARGO) values (295, 'Lulu Boxall', 8, 5598.59, '2024-08-07', 5, 'Operador de Máquinas');\n",
        "insert into EMPREGADO (EMPREGADO_ID, NOME, DEPARTAMENTO_ID, SALARIO, DATA_ADMISSAO, GERENTE_ID, CARGO) values (296, 'Fern Juett', 9, 3625.62, '2014-03-02', 2, 'Motorista de Entrega');\n",
        "insert into EMPREGADO (EMPREGADO_ID, NOME, DEPARTAMENTO_ID, SALARIO, DATA_ADMISSAO, GERENTE_ID, CARGO) values (297, 'Correy Demschke', 10, 8848.72, '2023-02-06', 7, 'Analista de Marketing');\n",
        "insert into EMPREGADO (EMPREGADO_ID, NOME, DEPARTAMENTO_ID, SALARIO, DATA_ADMISSAO, GERENTE_ID, CARGO) values (298, 'Glennie Bawden', 2, 9409.2, '2023-02-02', 5, 'Estoquista');\n",
        "insert into EMPREGADO (EMPREGADO_ID, NOME, DEPARTAMENTO_ID, SALARIO, DATA_ADMISSAO, GERENTE_ID, CARGO) values (299, 'Georgina Eakens', 3, 4233.0, '2022-08-12', 9, 'Motorista de Entrega');\n",
        "insert into EMPREGADO (EMPREGADO_ID, NOME, DEPARTAMENTO_ID, SALARIO, DATA_ADMISSAO, GERENTE_ID, CARGO) values (300, 'Darren Attenborrow', 10, 9951.57, '2010-05-16', 3, 'Operador de Máquinas');\n"
      ],
      "metadata": {
        "id": "7fbTVVESVSS7"
      },
      "execution_count": null,
      "outputs": []
    },
    {
      "cell_type": "markdown",
      "source": [
        "### Desafio 1: Listar Empregados de um Departamento Específico\n",
        "### 1. Liste todos os empregados que pertencem ao departamento cujo nome é  'Marketing'.\n",
        "### 2. Crie uma view chamada View_Marketing_Empregados que contenha  todos os empregados do departamento 'Marketing'.\n"
      ],
      "metadata": {
        "id": "jls1sq82RvR4"
      }
    },
    {
      "cell_type": "code",
      "source": [
        "\n",
        "\n",
        "-- Desafio 1: Listar Empregados de um Departamento Específico\n",
        "-- 1. Liste todos os empregados que pertencem ao departamento cujo nome é 'Marketing'.\n",
        "SELECT e.*\n",
        "FROM EMPREGADO e\n",
        "JOIN DEPARTAMENTO d ON e.DEPARTAMENTO_ID = d.DEPARTAMENTO_ID\n",
        "WHERE d.NOME = 'Marketing';\n",
        "\n",
        "-- 2. Crie uma view chamada View_Marketing_Empregados que contenha todos os empregados do departamento 'Marketing'.\n",
        "CREATE VIEW View_Marketing_Empregados AS\n",
        "SELECT e.*\n",
        "FROM EMPREGADO e\n",
        "JOIN DEPARTAMENTO d ON e.DEPARTAMENTO_ID = d.DEPARTAMENTO_ID\n",
        "WHERE d.NOME = 'Marketing';\n"
      ],
      "metadata": {
        "id": "SpCmDTD1R58Y"
      },
      "execution_count": null,
      "outputs": []
    },
    {
      "cell_type": "markdown",
      "source": [
        "### Desafio 2: Média de Salário por Departamento\n",
        "### 3. Liste o nome do departamento e a média dos salários de seus  empregados.\n",
        "### 4. Crie uma view chamada View_Media_Salarios que mostre o nome do  departamento  e a média dos salários dos empregados.\n"
      ],
      "metadata": {
        "id": "b4kx6QeeR6gH"
      }
    },
    {
      "cell_type": "code",
      "source": [
        "-- Desafio 2: Média de Salário por Departamento\n",
        "-- 3. Liste o nome do departamento e a média dos salários de seus empregados.\n",
        "SELECT d.NOME AS DEPARTAMENTO, AVG(e.SALARIO) AS MEDIA_SALARIO\n",
        "FROM DEPARTAMENTO d\n",
        "JOIN EMPREGADO e ON d.DEPARTAMENTO_ID = e.DEPARTAMENTO_ID\n",
        "GROUP BY d.DEPARTAMENTO_ID, d.NOME;\n",
        "\n",
        "-- 4. Crie uma view chamada View_Media_Salarios que mostre o nome do departamento e a média dos salários dos empregados.\n",
        "CREATE VIEW View_Media_Salarios AS\n",
        "SELECT d.NOME AS DEPARTAMENTO, AVG(e.SALARIO) AS MEDIA_SALARIO\n",
        "FROM DEPARTAMENTO d\n",
        "JOIN EMPREGADO e ON d.DEPARTAMENTO_ID = e.DEPARTAMENTO_ID\n",
        "GROUP BY d.DEPARTAMENTO_ID, d.NOME;"
      ],
      "metadata": {
        "id": "fOB5bJ1aSKiw"
      },
      "execution_count": null,
      "outputs": []
    },
    {
      "cell_type": "markdown",
      "source": [
        "###Desafio 3: Empregados com Salário Acima da Média\n",
        "###5. Liste todos os empregados que têm um salário acima da média dos  salários do seu departamento.\n",
        "###6. Crie uma view chamada View_Empregados_Acima_Media que contenha  os empregados que têm um salário acima da média do seu departamento.\n"
      ],
      "metadata": {
        "id": "SpASTX3aSK2m"
      }
    },
    {
      "cell_type": "code",
      "source": [
        "-- Desafio 3: Empregados com Salário Acima da Média\n",
        "-- 5. Liste todos os empregados que têm um salário acima da média dos salários do seu departamento.\n",
        "SELECT e.*\n",
        "FROM EMPREGADO e\n",
        "JOIN (\n",
        "    SELECT DEPARTAMENTO_ID, AVG(SALARIO) AS MEDIA_SALARIO\n",
        "    FROM EMPREGADO\n",
        "    GROUP BY DEPARTAMENTO_ID\n",
        ") AS dept_avg ON e.DEPARTAMENTO_ID = dept_avg.DEPARTAMENTO_ID\n",
        "WHERE e.SALARIO > dept_avg.MEDIA_SALARIO;\n",
        "\n",
        "-- 6. Crie uma view chamada View_Empregados_Acima_Media que contenha os empregados que têm um salário acima da média do seu departamento.\n",
        "CREATE VIEW View_Empregados_Acima_Media AS\n",
        "SELECT e.*\n",
        "FROM EMPREGADO e\n",
        "JOIN (\n",
        "    SELECT DEPARTAMENTO_ID, AVG(SALARIO) AS MEDIA_SALARIO\n",
        "    FROM EMPREGADO\n",
        "    GROUP BY DEPARTAMENTO_ID\n",
        ") AS dept_avg ON e.DEPARTAMENTO_ID = dept_avg.DEPARTAMENTO_ID\n",
        "WHERE e.SALARIO > dept_avg.MEDIA_SALARIO;"
      ],
      "metadata": {
        "id": "mqcChpSKSS98"
      },
      "execution_count": null,
      "outputs": []
    },
    {
      "cell_type": "markdown",
      "source": [
        "### Desafio 4: Departamentos com Mais de X Empregados\n",
        "###7. Liste todos os departamentos que têm mais de 5 empregados.\n",
        "###8. Crie uma view chamada  View_Departamentos_Com_Muitos_Empregados que contenha os  departamentos com mais de 5 empregados.\n"
      ],
      "metadata": {
        "id": "b5WriYUxSTQC"
      }
    },
    {
      "cell_type": "code",
      "source": [
        "-- Desafio 4: Departamentos com Mais de X Empregados\n",
        "-- 7. Liste todos os departamentos que têm mais de 5 empregados.\n",
        "SELECT d.*, COUNT(e.EMPREGADO_ID) AS NUM_EMPREGADOS\n",
        "FROM DEPARTAMENTO d\n",
        "JOIN EMPREGADO e ON d.DEPARTAMENTO_ID = e.DEPARTAMENTO_ID\n",
        "GROUP BY d.DEPARTAMENTO_ID, d.NOME\n",
        "HAVING COUNT(e.EMPREGADO_ID) > 5;\n",
        "\n",
        "-- 8. Crie uma view chamada View_Departamentos_Com_Muitos_Empregados que contenha os departamentos com mais de 5 empregados.\n",
        "CREATE VIEW View_Departamentos_Com_Muitos_Empregados AS\n",
        "SELECT d.*, COUNT(e.EMPREGADO_ID) AS NUM_EMPREGADOS\n",
        "FROM DEPARTAMENTO d\n",
        "JOIN EMPREGADO e ON d.DEPARTAMENTO_ID = e.DEPARTAMENTO_ID\n",
        "GROUP BY d.DEPARTAMENTO_ID, d.NOME\n",
        "HAVING COUNT(e.EMPREGADO_ID) > 5;"
      ],
      "metadata": {
        "id": "Ja4ij99_SeOv"
      },
      "execution_count": null,
      "outputs": []
    },
    {
      "cell_type": "markdown",
      "source": [
        "### Desafio 5: Empregados e Seus Gerentes\n",
        "### 9. Liste todos os empregados juntamente com o nome de seus gerentes.\n",
        "###10.Crie uma view chamada View_Empregados_Gerentes que mostre todos  os empregados e o nome de seus gerentes.\n"
      ],
      "metadata": {
        "id": "DRzR_aG7Semn"
      }
    },
    {
      "cell_type": "code",
      "source": [
        "-- Desafio 5: Empregados e Seus Gerentes\n",
        "-- 9. Liste todos os empregados juntamente com o nome de seus gerentes.\n",
        "SELECT e.*, g.NOME AS NOME_GERENTE\n",
        "FROM EMPREGADO e\n",
        "LEFT JOIN GERENTE g ON e.GERENTE_ID = g.GERENTE_ID;\n",
        "\n",
        "-- 10. Crie uma view chamada View_Empregados_Gerentes que mostre todos os empregados e o nome de seus gerentes.\n",
        "CREATE VIEW View_Empregados_Gerentes AS\n",
        "SELECT e.*, g.NOME AS NOME_GERENTE\n",
        "FROM EMPREGADO e\n",
        "LEFT JOIN GERENTE g ON e.GERENTE_ID = g.GERENTE_ID;"
      ],
      "metadata": {
        "id": "jAFMBHOmSj7e"
      },
      "execution_count": null,
      "outputs": []
    },
    {
      "cell_type": "markdown",
      "source": [
        "### Desafio 6: Departamentos Sem Empregados\n",
        "###11.Liste todos os departamentos que não têm empregados.\n",
        "###12.Crie uma view chamada View_Departamentos_Sem_Empregados que  contenha os departamentos que não têm empregados.\n"
      ],
      "metadata": {
        "id": "s2nnTZ9MSkMl"
      }
    },
    {
      "cell_type": "code",
      "source": [
        "-- Desafio 6: Departamentos Sem Empregados\n",
        "-- 11. Liste todos os departamentos que não têm empregados.\n",
        "SELECT d.*\n",
        "FROM DEPARTAMENTO d\n",
        "LEFT JOIN EMPREGADO e ON d.DEPARTAMENTO_ID = e.DEPARTAMENTO_ID\n",
        "WHERE e.EMPREGADO_ID IS NULL;\n",
        "\n",
        "-- 12. Crie uma view chamada View_Departamentos_Sem_Empregados que contenha os departamentos que não têm empregados.\n",
        "CREATE VIEW View_Departamentos_Sem_Empregados AS\n",
        "SELECT d.*\n",
        "FROM DEPARTAMENTO d\n",
        "LEFT JOIN EMPREGADO e ON d.DEPARTAMENTO_ID = e.DEPARTAMENTO_ID\n",
        "WHERE e.EMPREGADO_ID IS NULL;"
      ],
      "metadata": {
        "id": "SljyZzDZSqYG"
      },
      "execution_count": null,
      "outputs": []
    },
    {
      "cell_type": "markdown",
      "source": [
        "### Desafio 7: Salários Acima de um Valor Específico\n",
        "### 13.Liste todos os empregados que têm um salário acima de R$ 5000.\n",
        "\n",
        "### 14.Crie uma view chamada View_Salarios_Acima_5000 que contenha os  empregados com salário acima de R$ 5000.\n"
      ],
      "metadata": {
        "id": "PpmT0ZTbSqxR"
      }
    },
    {
      "cell_type": "code",
      "source": [
        "-- Desafio 7: Salários Acima de um Valor Específico\n",
        "-- 13. Liste todos os empregados que têm um salário acima de R$ 5000.\n",
        "SELECT *\n",
        "FROM EMPREGADO\n",
        "WHERE SALARIO > 5000;\n",
        "\n",
        "-- 14. Crie uma view chamada View_Salarios_Acima_5000 que contenha os empregados com salário acima de R$ 5000.\n",
        "CREATE VIEW View_Salarios_Acima_5000 AS\n",
        "SELECT *\n",
        "FROM EMPREGADO\n",
        "WHERE SALARIO > 5000;\n"
      ],
      "metadata": {
        "id": "dBWUHqE5S4Fn"
      },
      "execution_count": null,
      "outputs": []
    },
    {
      "cell_type": "markdown",
      "source": [
        "### Desafio 8: Empregados por Data de Admissão\n",
        "###15.Liste todos os empregados que foram admitidos nos últimos 6 meses.\n",
        "###16.Crie uma view chamada View_Admitidos_Recentemente que contenha os  empregados admitidos nos últimos 6 meses.\n"
      ],
      "metadata": {
        "id": "9ETnBsaIS-U9"
      }
    },
    {
      "cell_type": "code",
      "source": [
        "-- Desafio 8: Empregados por Data de Admissão\n",
        "-- 15. Liste todos os empregados que foram admitidos nos últimos 6 meses.\n",
        "SELECT *\n",
        "FROM EMPREGADO\n",
        "WHERE DATA_ADMISSAO >= DATE_SUB(CURDATE(), INTERVAL 6 MONTH);\n",
        "\n",
        "-- 16. Crie uma view chamada View_Admitidos_Recentemente que contenha os empregados admitidos nos últimos 6 meses.\n",
        "CREATE VIEW View_Admitidos_Recentemente AS\n",
        "SELECT *\n",
        "FROM EMPREGADO\n",
        "WHERE DATA_ADMISSAO >= DATE_SUB(CURDATE(), INTERVAL 6 MONTH);"
      ],
      "metadata": {
        "id": "ZaU2FPrsTD94"
      },
      "execution_count": null,
      "outputs": []
    },
    {
      "cell_type": "markdown",
      "source": [
        "### Desafio 9: Agrupar Empregados por Cargo\n",
        "### 17.Liste o número de empregados em cada cargo.\n",
        "### 18.Crie uma view chamada View_Empregados_Por_Cargo que mostre o  número de empregados em cada cargo.\n"
      ],
      "metadata": {
        "id": "cEpdXNyfTESw"
      }
    },
    {
      "cell_type": "code",
      "source": [
        "-- Desafio 9: Agrupar Empregados por Cargo\n",
        "-- 17. Liste o número de empregados em cada cargo.\n",
        "SELECT CARGO, COUNT(*) AS NUM_EMPREGADOS\n",
        "FROM EMPREGADO\n",
        "GROUP BY CARGO;\n",
        "\n",
        "-- 18. Crie uma view chamada View_Empregados_Por_Cargo que mostre o número de empregados em cada cargo.\n",
        "CREATE VIEW View_Empregados_Por_Cargo AS\n",
        "SELECT CARGO, COUNT(*) AS NUM_EMPREGADOS\n",
        "FROM EMPREGADO\n",
        "GROUP BY CARGO;"
      ],
      "metadata": {
        "id": "L6clGYUaTK2p"
      },
      "execution_count": null,
      "outputs": []
    },
    {
      "cell_type": "markdown",
      "source": [
        "### Desafio 10: Empregados de um Departamento com Condição de Salário\n",
        "###19.Liste todos os empregados do departamento 'Finance' que têm um salário  acima da média dos salários dos empregados desse departamento.\n",
        "###20.Crie uma view chamada View_Finance_Salarios_Acima_Media que  contenha os empregados do departamento 'Finance' com salário acima  da média.\n"
      ],
      "metadata": {
        "id": "wfFaxRyDTLUC"
      }
    },
    {
      "cell_type": "code",
      "source": [
        "-- Desafio 10: Empregados de um Departamento com Condição de Salário\n",
        "-- 19. Liste todos os empregados do departamento 'Finance' que têm um salário acima da média dos salários dos empregados desse departamento.\n",
        "SELECT e.*\n",
        "FROM EMPREGADO e\n",
        "JOIN DEPARTAMENTO d ON e.DEPARTAMENTO_ID = d.DEPARTAMENTO_ID\n",
        "JOIN (\n",
        "    SELECT DEPARTAMENTO_ID, AVG(SALARIO) AS MEDIA_SALARIO\n",
        "    FROM EMPREGADO\n",
        "    GROUP BY DEPARTAMENTO_ID\n",
        ") AS dept_avg ON e.DEPARTAMENTO_ID = dept_avg.DEPARTAMENTO_ID\n",
        "WHERE d.NOME = 'Finance' AND e.SALARIO > dept_avg.MEDIA_SALARIO;\n",
        "\n",
        "-- 20. Crie uma view chamada View_Finance_Salarios_Acima_Media que contenha os empregados do departamento 'Finance' com salário acima da média.\n",
        "CREATE VIEW View_Finance_Salarios_Acima_Media AS\n",
        "SELECT e.*\n",
        "FROM EMPREGADO e\n",
        "JOIN DEPARTAMENTO d ON e.DEPARTAMENTO_ID = d.DEPARTAMENTO_ID\n",
        "JOIN (\n",
        "    SELECT DEPARTAMENTO_ID, AVG(SALARIO) AS MEDIA_SALARIO\n",
        "    FROM EMPREGADO\n",
        "    GROUP BY DEPARTAMENTO_ID\n",
        ") AS dept_avg ON e.DEPARTAMENTO_ID = dept_avg.DEPARTAMENTO_ID\n",
        "WHERE d.NOME = 'Finance' AND e.SALARIO > dept_avg.MEDIA_SALARIO;"
      ],
      "metadata": {
        "id": "qEngbS_U50gO"
      },
      "execution_count": null,
      "outputs": []
    }
  ]
}